{
 "cells": [
  {
   "cell_type": "code",
   "execution_count": 5,
   "id": "98952d43-6fb2-4d85-b70c-a87e1bbc8c7e",
   "metadata": {
    "jupyter": {
     "source_hidden": true
    },
    "tags": []
   },
   "outputs": [
    {
     "name": "stdout",
     "output_type": "stream",
     "text": [
      "2.2.3\n"
     ]
    }
   ],
   "source": [
    "import yfinance as yf\n",
    "import pandas as pd\n",
    "import talib\n",
    "\n",
    "print(pd.__version__)\n",
    "\n",
    "# S&P 500 종목 리스트와 심볼 가져오기\n",
    "sp500 = pd.read_html('https://en.wikipedia.org/wiki/List_of_S%26P_500_companies')[0]\n",
    "\n",
    "# 심볼과 회사 이름을 각각 변수에 저장\n",
    "sp500_symbols = sp500['Symbol'].tolist()\n",
    "sp500_companies = sp500['Security'].tolist()\n",
    "\n",
    "# 결과 확인\n",
    "# print(sp500_symbols)\n",
    "# print(sp500_companies)"
   ]
  },
  {
   "cell_type": "code",
   "execution_count": 6,
   "id": "8f102d33-e291-4b99-9618-856b04ccb3ea",
   "metadata": {
    "tags": []
   },
   "outputs": [
    {
     "name": "stdout",
     "output_type": "stream",
     "text": [
      "Downloading data for MMM\n"
     ]
    },
    {
     "name": "stderr",
     "output_type": "stream",
     "text": [
      "[*********************100%***********************]  1 of 1 completed\n"
     ]
    },
    {
     "name": "stdout",
     "output_type": "stream",
     "text": [
      "1. MMM 주식의 일별 가격 정보가 'MMM_daily_prices.csv' 파일에 저장되었습니다.\n",
      "Downloading data for AOS\n"
     ]
    },
    {
     "name": "stderr",
     "output_type": "stream",
     "text": [
      "[*********************100%***********************]  1 of 1 completed\n"
     ]
    },
    {
     "name": "stdout",
     "output_type": "stream",
     "text": [
      "2. AOS 주식의 일별 가격 정보가 'AOS_daily_prices.csv' 파일에 저장되었습니다.\n",
      "Downloading data for ABT\n"
     ]
    },
    {
     "name": "stderr",
     "output_type": "stream",
     "text": [
      "[*********************100%***********************]  1 of 1 completed\n"
     ]
    },
    {
     "name": "stdout",
     "output_type": "stream",
     "text": [
      "3. ABT 주식의 일별 가격 정보가 'ABT_daily_prices.csv' 파일에 저장되었습니다.\n",
      "Downloading data for ABBV\n"
     ]
    },
    {
     "name": "stderr",
     "output_type": "stream",
     "text": [
      "[*********************100%***********************]  1 of 1 completed\n"
     ]
    },
    {
     "name": "stdout",
     "output_type": "stream",
     "text": [
      "4. ABBV 주식의 일별 가격 정보가 'ABBV_daily_prices.csv' 파일에 저장되었습니다.\n",
      "Downloading data for ACN\n"
     ]
    },
    {
     "name": "stderr",
     "output_type": "stream",
     "text": [
      "[*********************100%***********************]  1 of 1 completed\n"
     ]
    },
    {
     "name": "stdout",
     "output_type": "stream",
     "text": [
      "5. ACN 주식의 일별 가격 정보가 'ACN_daily_prices.csv' 파일에 저장되었습니다.\n",
      "Downloading data for ADBE\n"
     ]
    },
    {
     "name": "stderr",
     "output_type": "stream",
     "text": [
      "[*********************100%***********************]  1 of 1 completed\n"
     ]
    },
    {
     "name": "stdout",
     "output_type": "stream",
     "text": [
      "6. ADBE 주식의 일별 가격 정보가 'ADBE_daily_prices.csv' 파일에 저장되었습니다.\n",
      "Downloading data for AMD\n"
     ]
    },
    {
     "name": "stderr",
     "output_type": "stream",
     "text": [
      "[*********************100%***********************]  1 of 1 completed\n"
     ]
    },
    {
     "name": "stdout",
     "output_type": "stream",
     "text": [
      "7. AMD 주식의 일별 가격 정보가 'AMD_daily_prices.csv' 파일에 저장되었습니다.\n",
      "Downloading data for AES\n"
     ]
    },
    {
     "name": "stderr",
     "output_type": "stream",
     "text": [
      "[*********************100%***********************]  1 of 1 completed\n"
     ]
    },
    {
     "name": "stdout",
     "output_type": "stream",
     "text": [
      "8. AES 주식의 일별 가격 정보가 'AES_daily_prices.csv' 파일에 저장되었습니다.\n",
      "Downloading data for AFL\n"
     ]
    },
    {
     "name": "stderr",
     "output_type": "stream",
     "text": [
      "[*********************100%***********************]  1 of 1 completed\n"
     ]
    },
    {
     "name": "stdout",
     "output_type": "stream",
     "text": [
      "9. AFL 주식의 일별 가격 정보가 'AFL_daily_prices.csv' 파일에 저장되었습니다.\n",
      "Downloading data for A\n"
     ]
    },
    {
     "name": "stderr",
     "output_type": "stream",
     "text": [
      "[*********************100%***********************]  1 of 1 completed\n"
     ]
    },
    {
     "name": "stdout",
     "output_type": "stream",
     "text": [
      "10. A 주식의 일별 가격 정보가 'A_daily_prices.csv' 파일에 저장되었습니다.\n",
      "Downloading data for APD\n"
     ]
    },
    {
     "name": "stderr",
     "output_type": "stream",
     "text": [
      "[*********************100%***********************]  1 of 1 completed\n",
      "[*********************100%***********************]  1 of 1 completed"
     ]
    },
    {
     "name": "stdout",
     "output_type": "stream",
     "text": [
      "11. APD 주식의 일별 가격 정보가 'APD_daily_prices.csv' 파일에 저장되었습니다.\n",
      "Downloading data for ABNB\n",
      "12. ABNB 주식의 일별 가격 정보가 'ABNB_daily_prices.csv' 파일에 저장되었습니다.\n",
      "Downloading data for AKAM\n"
     ]
    },
    {
     "name": "stderr",
     "output_type": "stream",
     "text": [
      "\n",
      "[*********************100%***********************]  1 of 1 completed\n"
     ]
    },
    {
     "name": "stdout",
     "output_type": "stream",
     "text": [
      "13. AKAM 주식의 일별 가격 정보가 'AKAM_daily_prices.csv' 파일에 저장되었습니다.\n",
      "Downloading data for ALB\n"
     ]
    },
    {
     "name": "stderr",
     "output_type": "stream",
     "text": [
      "[*********************100%***********************]  1 of 1 completed\n"
     ]
    },
    {
     "name": "stdout",
     "output_type": "stream",
     "text": [
      "14. ALB 주식의 일별 가격 정보가 'ALB_daily_prices.csv' 파일에 저장되었습니다.\n",
      "Downloading data for ARE\n"
     ]
    },
    {
     "name": "stderr",
     "output_type": "stream",
     "text": [
      "[*********************100%***********************]  1 of 1 completed\n"
     ]
    },
    {
     "name": "stdout",
     "output_type": "stream",
     "text": [
      "15. ARE 주식의 일별 가격 정보가 'ARE_daily_prices.csv' 파일에 저장되었습니다.\n",
      "Downloading data for ALGN\n"
     ]
    },
    {
     "name": "stderr",
     "output_type": "stream",
     "text": [
      "[*********************100%***********************]  1 of 1 completed\n"
     ]
    },
    {
     "name": "stdout",
     "output_type": "stream",
     "text": [
      "16. ALGN 주식의 일별 가격 정보가 'ALGN_daily_prices.csv' 파일에 저장되었습니다.\n",
      "Downloading data for ALLE\n"
     ]
    },
    {
     "name": "stderr",
     "output_type": "stream",
     "text": [
      "[*********************100%***********************]  1 of 1 completed\n"
     ]
    },
    {
     "name": "stdout",
     "output_type": "stream",
     "text": [
      "17. ALLE 주식의 일별 가격 정보가 'ALLE_daily_prices.csv' 파일에 저장되었습니다.\n",
      "Downloading data for LNT\n"
     ]
    },
    {
     "name": "stderr",
     "output_type": "stream",
     "text": [
      "[*********************100%***********************]  1 of 1 completed\n"
     ]
    },
    {
     "name": "stdout",
     "output_type": "stream",
     "text": [
      "18. LNT 주식의 일별 가격 정보가 'LNT_daily_prices.csv' 파일에 저장되었습니다.\n",
      "Downloading data for ALL\n"
     ]
    },
    {
     "name": "stderr",
     "output_type": "stream",
     "text": [
      "[*********************100%***********************]  1 of 1 completed\n"
     ]
    },
    {
     "name": "stdout",
     "output_type": "stream",
     "text": [
      "19. ALL 주식의 일별 가격 정보가 'ALL_daily_prices.csv' 파일에 저장되었습니다.\n",
      "Downloading data for GOOGL\n"
     ]
    },
    {
     "name": "stderr",
     "output_type": "stream",
     "text": [
      "[*********************100%***********************]  1 of 1 completed\n"
     ]
    },
    {
     "name": "stdout",
     "output_type": "stream",
     "text": [
      "20. GOOGL 주식의 일별 가격 정보가 'GOOGL_daily_prices.csv' 파일에 저장되었습니다.\n",
      "Downloading data for GOOG\n"
     ]
    },
    {
     "name": "stderr",
     "output_type": "stream",
     "text": [
      "[*********************100%***********************]  1 of 1 completed\n"
     ]
    },
    {
     "name": "stdout",
     "output_type": "stream",
     "text": [
      "21. GOOG 주식의 일별 가격 정보가 'GOOG_daily_prices.csv' 파일에 저장되었습니다.\n",
      "Downloading data for MO\n"
     ]
    },
    {
     "name": "stderr",
     "output_type": "stream",
     "text": [
      "[*********************100%***********************]  1 of 1 completed\n"
     ]
    },
    {
     "name": "stdout",
     "output_type": "stream",
     "text": [
      "22. MO 주식의 일별 가격 정보가 'MO_daily_prices.csv' 파일에 저장되었습니다.\n",
      "Downloading data for AMZN\n"
     ]
    },
    {
     "name": "stderr",
     "output_type": "stream",
     "text": [
      "[*********************100%***********************]  1 of 1 completed\n"
     ]
    },
    {
     "name": "stdout",
     "output_type": "stream",
     "text": [
      "23. AMZN 주식의 일별 가격 정보가 'AMZN_daily_prices.csv' 파일에 저장되었습니다.\n",
      "Downloading data for AMCR\n"
     ]
    },
    {
     "name": "stderr",
     "output_type": "stream",
     "text": [
      "[*********************100%***********************]  1 of 1 completed\n",
      "[*********************100%***********************]  1 of 1 completed\n"
     ]
    },
    {
     "name": "stdout",
     "output_type": "stream",
     "text": [
      "24. AMCR 주식의 일별 가격 정보가 'AMCR_daily_prices.csv' 파일에 저장되었습니다.\n",
      "Downloading data for AMTM\n",
      "25. AMTM 주식의 일별 가격 정보가 'AMTM_daily_prices.csv' 파일에 저장되었습니다.\n",
      "Downloading data for AEE\n"
     ]
    },
    {
     "name": "stderr",
     "output_type": "stream",
     "text": [
      "[*********************100%***********************]  1 of 1 completed\n"
     ]
    },
    {
     "name": "stdout",
     "output_type": "stream",
     "text": [
      "26. AEE 주식의 일별 가격 정보가 'AEE_daily_prices.csv' 파일에 저장되었습니다.\n",
      "Downloading data for AEP\n"
     ]
    },
    {
     "name": "stderr",
     "output_type": "stream",
     "text": [
      "[*********************100%***********************]  1 of 1 completed\n"
     ]
    },
    {
     "name": "stdout",
     "output_type": "stream",
     "text": [
      "27. AEP 주식의 일별 가격 정보가 'AEP_daily_prices.csv' 파일에 저장되었습니다.\n",
      "Downloading data for AXP\n"
     ]
    },
    {
     "name": "stderr",
     "output_type": "stream",
     "text": [
      "[*********************100%***********************]  1 of 1 completed\n"
     ]
    },
    {
     "name": "stdout",
     "output_type": "stream",
     "text": [
      "28. AXP 주식의 일별 가격 정보가 'AXP_daily_prices.csv' 파일에 저장되었습니다.\n",
      "Downloading data for AIG\n"
     ]
    },
    {
     "name": "stderr",
     "output_type": "stream",
     "text": [
      "[*********************100%***********************]  1 of 1 completed\n"
     ]
    },
    {
     "name": "stdout",
     "output_type": "stream",
     "text": [
      "29. AIG 주식의 일별 가격 정보가 'AIG_daily_prices.csv' 파일에 저장되었습니다.\n",
      "Downloading data for AMT\n"
     ]
    },
    {
     "name": "stderr",
     "output_type": "stream",
     "text": [
      "[*********************100%***********************]  1 of 1 completed\n"
     ]
    },
    {
     "name": "stdout",
     "output_type": "stream",
     "text": [
      "30. AMT 주식의 일별 가격 정보가 'AMT_daily_prices.csv' 파일에 저장되었습니다.\n",
      "Downloading data for AWK\n"
     ]
    },
    {
     "name": "stderr",
     "output_type": "stream",
     "text": [
      "[*********************100%***********************]  1 of 1 completed\n"
     ]
    },
    {
     "name": "stdout",
     "output_type": "stream",
     "text": [
      "31. AWK 주식의 일별 가격 정보가 'AWK_daily_prices.csv' 파일에 저장되었습니다.\n",
      "Downloading data for AMP\n"
     ]
    },
    {
     "name": "stderr",
     "output_type": "stream",
     "text": [
      "[*********************100%***********************]  1 of 1 completed\n"
     ]
    },
    {
     "name": "stdout",
     "output_type": "stream",
     "text": [
      "32. AMP 주식의 일별 가격 정보가 'AMP_daily_prices.csv' 파일에 저장되었습니다.\n",
      "Downloading data for AME\n"
     ]
    },
    {
     "name": "stderr",
     "output_type": "stream",
     "text": [
      "[*********************100%***********************]  1 of 1 completed\n"
     ]
    },
    {
     "name": "stdout",
     "output_type": "stream",
     "text": [
      "33. AME 주식의 일별 가격 정보가 'AME_daily_prices.csv' 파일에 저장되었습니다.\n",
      "Downloading data for AMGN\n"
     ]
    },
    {
     "name": "stderr",
     "output_type": "stream",
     "text": [
      "[*********************100%***********************]  1 of 1 completed\n"
     ]
    },
    {
     "name": "stdout",
     "output_type": "stream",
     "text": [
      "34. AMGN 주식의 일별 가격 정보가 'AMGN_daily_prices.csv' 파일에 저장되었습니다.\n",
      "Downloading data for APH\n"
     ]
    },
    {
     "name": "stderr",
     "output_type": "stream",
     "text": [
      "[*********************100%***********************]  1 of 1 completed\n"
     ]
    },
    {
     "name": "stdout",
     "output_type": "stream",
     "text": [
      "35. APH 주식의 일별 가격 정보가 'APH_daily_prices.csv' 파일에 저장되었습니다.\n",
      "Downloading data for ADI\n"
     ]
    },
    {
     "name": "stderr",
     "output_type": "stream",
     "text": [
      "[*********************100%***********************]  1 of 1 completed\n"
     ]
    },
    {
     "name": "stdout",
     "output_type": "stream",
     "text": [
      "36. ADI 주식의 일별 가격 정보가 'ADI_daily_prices.csv' 파일에 저장되었습니다.\n",
      "Downloading data for ANSS\n"
     ]
    },
    {
     "name": "stderr",
     "output_type": "stream",
     "text": [
      "[*********************100%***********************]  1 of 1 completed\n"
     ]
    },
    {
     "name": "stdout",
     "output_type": "stream",
     "text": [
      "37. ANSS 주식의 일별 가격 정보가 'ANSS_daily_prices.csv' 파일에 저장되었습니다.\n",
      "Downloading data for AON\n"
     ]
    },
    {
     "name": "stderr",
     "output_type": "stream",
     "text": [
      "[*********************100%***********************]  1 of 1 completed\n"
     ]
    },
    {
     "name": "stdout",
     "output_type": "stream",
     "text": [
      "38. AON 주식의 일별 가격 정보가 'AON_daily_prices.csv' 파일에 저장되었습니다.\n",
      "Downloading data for APA\n"
     ]
    },
    {
     "name": "stderr",
     "output_type": "stream",
     "text": [
      "[*********************100%***********************]  1 of 1 completed\n"
     ]
    },
    {
     "name": "stdout",
     "output_type": "stream",
     "text": [
      "39. APA 주식의 일별 가격 정보가 'APA_daily_prices.csv' 파일에 저장되었습니다.\n",
      "Downloading data for AAPL\n"
     ]
    },
    {
     "name": "stderr",
     "output_type": "stream",
     "text": [
      "[*********************100%***********************]  1 of 1 completed\n"
     ]
    },
    {
     "name": "stdout",
     "output_type": "stream",
     "text": [
      "40. AAPL 주식의 일별 가격 정보가 'AAPL_daily_prices.csv' 파일에 저장되었습니다.\n",
      "Downloading data for AMAT\n"
     ]
    },
    {
     "name": "stderr",
     "output_type": "stream",
     "text": [
      "[*********************100%***********************]  1 of 1 completed\n"
     ]
    },
    {
     "name": "stdout",
     "output_type": "stream",
     "text": [
      "41. AMAT 주식의 일별 가격 정보가 'AMAT_daily_prices.csv' 파일에 저장되었습니다.\n",
      "Downloading data for APTV\n"
     ]
    },
    {
     "name": "stderr",
     "output_type": "stream",
     "text": [
      "[*********************100%***********************]  1 of 1 completed\n"
     ]
    },
    {
     "name": "stdout",
     "output_type": "stream",
     "text": [
      "42. APTV 주식의 일별 가격 정보가 'APTV_daily_prices.csv' 파일에 저장되었습니다.\n",
      "Downloading data for ACGL\n"
     ]
    },
    {
     "name": "stderr",
     "output_type": "stream",
     "text": [
      "[*********************100%***********************]  1 of 1 completed\n"
     ]
    },
    {
     "name": "stdout",
     "output_type": "stream",
     "text": [
      "43. ACGL 주식의 일별 가격 정보가 'ACGL_daily_prices.csv' 파일에 저장되었습니다.\n",
      "Downloading data for ADM\n"
     ]
    },
    {
     "name": "stderr",
     "output_type": "stream",
     "text": [
      "[*********************100%***********************]  1 of 1 completed\n"
     ]
    },
    {
     "name": "stdout",
     "output_type": "stream",
     "text": [
      "44. ADM 주식의 일별 가격 정보가 'ADM_daily_prices.csv' 파일에 저장되었습니다.\n",
      "Downloading data for ANET\n"
     ]
    },
    {
     "name": "stderr",
     "output_type": "stream",
     "text": [
      "[*********************100%***********************]  1 of 1 completed\n"
     ]
    },
    {
     "name": "stdout",
     "output_type": "stream",
     "text": [
      "45. ANET 주식의 일별 가격 정보가 'ANET_daily_prices.csv' 파일에 저장되었습니다.\n",
      "Downloading data for AJG\n"
     ]
    },
    {
     "name": "stderr",
     "output_type": "stream",
     "text": [
      "[*********************100%***********************]  1 of 1 completed\n"
     ]
    },
    {
     "name": "stdout",
     "output_type": "stream",
     "text": [
      "46. AJG 주식의 일별 가격 정보가 'AJG_daily_prices.csv' 파일에 저장되었습니다.\n",
      "Downloading data for AIZ\n"
     ]
    },
    {
     "name": "stderr",
     "output_type": "stream",
     "text": [
      "[*********************100%***********************]  1 of 1 completed\n"
     ]
    },
    {
     "name": "stdout",
     "output_type": "stream",
     "text": [
      "47. AIZ 주식의 일별 가격 정보가 'AIZ_daily_prices.csv' 파일에 저장되었습니다.\n",
      "Downloading data for T\n"
     ]
    },
    {
     "name": "stderr",
     "output_type": "stream",
     "text": [
      "[*********************100%***********************]  1 of 1 completed\n"
     ]
    },
    {
     "name": "stdout",
     "output_type": "stream",
     "text": [
      "48. T 주식의 일별 가격 정보가 'T_daily_prices.csv' 파일에 저장되었습니다.\n",
      "Downloading data for ATO\n"
     ]
    },
    {
     "name": "stderr",
     "output_type": "stream",
     "text": [
      "[*********************100%***********************]  1 of 1 completed\n"
     ]
    },
    {
     "name": "stdout",
     "output_type": "stream",
     "text": [
      "49. ATO 주식의 일별 가격 정보가 'ATO_daily_prices.csv' 파일에 저장되었습니다.\n",
      "Downloading data for ADSK\n"
     ]
    },
    {
     "name": "stderr",
     "output_type": "stream",
     "text": [
      "[*********************100%***********************]  1 of 1 completed\n"
     ]
    },
    {
     "name": "stdout",
     "output_type": "stream",
     "text": [
      "50. ADSK 주식의 일별 가격 정보가 'ADSK_daily_prices.csv' 파일에 저장되었습니다.\n",
      "Downloading data for ADP\n"
     ]
    },
    {
     "name": "stderr",
     "output_type": "stream",
     "text": [
      "[*********************100%***********************]  1 of 1 completed\n"
     ]
    },
    {
     "name": "stdout",
     "output_type": "stream",
     "text": [
      "51. ADP 주식의 일별 가격 정보가 'ADP_daily_prices.csv' 파일에 저장되었습니다.\n",
      "Downloading data for AZO\n"
     ]
    },
    {
     "name": "stderr",
     "output_type": "stream",
     "text": [
      "[*********************100%***********************]  1 of 1 completed\n"
     ]
    },
    {
     "name": "stdout",
     "output_type": "stream",
     "text": [
      "52. AZO 주식의 일별 가격 정보가 'AZO_daily_prices.csv' 파일에 저장되었습니다.\n",
      "Downloading data for AVB\n"
     ]
    },
    {
     "name": "stderr",
     "output_type": "stream",
     "text": [
      "[*********************100%***********************]  1 of 1 completed\n"
     ]
    },
    {
     "name": "stdout",
     "output_type": "stream",
     "text": [
      "53. AVB 주식의 일별 가격 정보가 'AVB_daily_prices.csv' 파일에 저장되었습니다.\n",
      "Downloading data for AVY\n"
     ]
    },
    {
     "name": "stderr",
     "output_type": "stream",
     "text": [
      "[*********************100%***********************]  1 of 1 completed\n"
     ]
    },
    {
     "name": "stdout",
     "output_type": "stream",
     "text": [
      "54. AVY 주식의 일별 가격 정보가 'AVY_daily_prices.csv' 파일에 저장되었습니다.\n",
      "Downloading data for AXON\n"
     ]
    },
    {
     "name": "stderr",
     "output_type": "stream",
     "text": [
      "[*********************100%***********************]  1 of 1 completed\n"
     ]
    },
    {
     "name": "stdout",
     "output_type": "stream",
     "text": [
      "55. AXON 주식의 일별 가격 정보가 'AXON_daily_prices.csv' 파일에 저장되었습니다.\n",
      "Downloading data for BKR\n"
     ]
    },
    {
     "name": "stderr",
     "output_type": "stream",
     "text": [
      "[*********************100%***********************]  1 of 1 completed\n"
     ]
    },
    {
     "name": "stdout",
     "output_type": "stream",
     "text": [
      "56. BKR 주식의 일별 가격 정보가 'BKR_daily_prices.csv' 파일에 저장되었습니다.\n",
      "Downloading data for BALL\n"
     ]
    },
    {
     "name": "stderr",
     "output_type": "stream",
     "text": [
      "[*********************100%***********************]  1 of 1 completed\n"
     ]
    },
    {
     "name": "stdout",
     "output_type": "stream",
     "text": [
      "57. BALL 주식의 일별 가격 정보가 'BALL_daily_prices.csv' 파일에 저장되었습니다.\n",
      "Downloading data for BAC\n"
     ]
    },
    {
     "name": "stderr",
     "output_type": "stream",
     "text": [
      "[*********************100%***********************]  1 of 1 completed\n"
     ]
    },
    {
     "name": "stdout",
     "output_type": "stream",
     "text": [
      "58. BAC 주식의 일별 가격 정보가 'BAC_daily_prices.csv' 파일에 저장되었습니다.\n",
      "Downloading data for BAX\n"
     ]
    },
    {
     "name": "stderr",
     "output_type": "stream",
     "text": [
      "[*********************100%***********************]  1 of 1 completed\n"
     ]
    },
    {
     "name": "stdout",
     "output_type": "stream",
     "text": [
      "59. BAX 주식의 일별 가격 정보가 'BAX_daily_prices.csv' 파일에 저장되었습니다.\n",
      "Downloading data for BDX\n"
     ]
    },
    {
     "name": "stderr",
     "output_type": "stream",
     "text": [
      "[*********************100%***********************]  1 of 1 completed\n"
     ]
    },
    {
     "name": "stdout",
     "output_type": "stream",
     "text": [
      "60. BDX 주식의 일별 가격 정보가 'BDX_daily_prices.csv' 파일에 저장되었습니다.\n",
      "Downloading data for BRK.B\n"
     ]
    },
    {
     "name": "stderr",
     "output_type": "stream",
     "text": [
      "[*********************100%***********************]  1 of 1 completed\n",
      "\n",
      "1 Failed download:\n",
      "['BRK.B']: YFTzMissingError('$%ticker%: possibly delisted; no timezone found')\n"
     ]
    },
    {
     "name": "stdout",
     "output_type": "stream",
     "text": [
      "61. BRK.B 주식의 일별 가격 정보가 'BRK.B_daily_prices.csv' 파일에 저장되었습니다.\n",
      "Downloading data for BBY\n"
     ]
    },
    {
     "name": "stderr",
     "output_type": "stream",
     "text": [
      "[*********************100%***********************]  1 of 1 completed\n"
     ]
    },
    {
     "name": "stdout",
     "output_type": "stream",
     "text": [
      "62. BBY 주식의 일별 가격 정보가 'BBY_daily_prices.csv' 파일에 저장되었습니다.\n",
      "Downloading data for TECH\n"
     ]
    },
    {
     "name": "stderr",
     "output_type": "stream",
     "text": [
      "[*********************100%***********************]  1 of 1 completed\n"
     ]
    },
    {
     "name": "stdout",
     "output_type": "stream",
     "text": [
      "63. TECH 주식의 일별 가격 정보가 'TECH_daily_prices.csv' 파일에 저장되었습니다.\n",
      "Downloading data for BIIB\n"
     ]
    },
    {
     "name": "stderr",
     "output_type": "stream",
     "text": [
      "[*********************100%***********************]  1 of 1 completed\n"
     ]
    },
    {
     "name": "stdout",
     "output_type": "stream",
     "text": [
      "64. BIIB 주식의 일별 가격 정보가 'BIIB_daily_prices.csv' 파일에 저장되었습니다.\n",
      "Downloading data for BLK\n"
     ]
    },
    {
     "name": "stderr",
     "output_type": "stream",
     "text": [
      "[*********************100%***********************]  1 of 1 completed\n"
     ]
    },
    {
     "name": "stdout",
     "output_type": "stream",
     "text": [
      "65. BLK 주식의 일별 가격 정보가 'BLK_daily_prices.csv' 파일에 저장되었습니다.\n",
      "Downloading data for BX\n"
     ]
    },
    {
     "name": "stderr",
     "output_type": "stream",
     "text": [
      "[*********************100%***********************]  1 of 1 completed\n"
     ]
    },
    {
     "name": "stdout",
     "output_type": "stream",
     "text": [
      "66. BX 주식의 일별 가격 정보가 'BX_daily_prices.csv' 파일에 저장되었습니다.\n",
      "Downloading data for BK\n"
     ]
    },
    {
     "name": "stderr",
     "output_type": "stream",
     "text": [
      "[*********************100%***********************]  1 of 1 completed\n"
     ]
    },
    {
     "name": "stdout",
     "output_type": "stream",
     "text": [
      "67. BK 주식의 일별 가격 정보가 'BK_daily_prices.csv' 파일에 저장되었습니다.\n",
      "Downloading data for BA\n"
     ]
    },
    {
     "name": "stderr",
     "output_type": "stream",
     "text": [
      "[*********************100%***********************]  1 of 1 completed\n"
     ]
    },
    {
     "name": "stdout",
     "output_type": "stream",
     "text": [
      "68. BA 주식의 일별 가격 정보가 'BA_daily_prices.csv' 파일에 저장되었습니다.\n",
      "Downloading data for BKNG\n"
     ]
    },
    {
     "name": "stderr",
     "output_type": "stream",
     "text": [
      "[*********************100%***********************]  1 of 1 completed\n"
     ]
    },
    {
     "name": "stdout",
     "output_type": "stream",
     "text": [
      "69. BKNG 주식의 일별 가격 정보가 'BKNG_daily_prices.csv' 파일에 저장되었습니다.\n",
      "Downloading data for BWA\n"
     ]
    },
    {
     "name": "stderr",
     "output_type": "stream",
     "text": [
      "[*********************100%***********************]  1 of 1 completed\n"
     ]
    },
    {
     "name": "stdout",
     "output_type": "stream",
     "text": [
      "70. BWA 주식의 일별 가격 정보가 'BWA_daily_prices.csv' 파일에 저장되었습니다.\n",
      "Downloading data for BSX\n"
     ]
    },
    {
     "name": "stderr",
     "output_type": "stream",
     "text": [
      "[*********************100%***********************]  1 of 1 completed\n"
     ]
    },
    {
     "name": "stdout",
     "output_type": "stream",
     "text": [
      "71. BSX 주식의 일별 가격 정보가 'BSX_daily_prices.csv' 파일에 저장되었습니다.\n",
      "Downloading data for BMY\n"
     ]
    },
    {
     "name": "stderr",
     "output_type": "stream",
     "text": [
      "[*********************100%***********************]  1 of 1 completed\n"
     ]
    },
    {
     "name": "stdout",
     "output_type": "stream",
     "text": [
      "72. BMY 주식의 일별 가격 정보가 'BMY_daily_prices.csv' 파일에 저장되었습니다.\n",
      "Downloading data for AVGO\n"
     ]
    },
    {
     "name": "stderr",
     "output_type": "stream",
     "text": [
      "[*********************100%***********************]  1 of 1 completed\n"
     ]
    },
    {
     "name": "stdout",
     "output_type": "stream",
     "text": [
      "73. AVGO 주식의 일별 가격 정보가 'AVGO_daily_prices.csv' 파일에 저장되었습니다.\n",
      "Downloading data for BR\n"
     ]
    },
    {
     "name": "stderr",
     "output_type": "stream",
     "text": [
      "[*********************100%***********************]  1 of 1 completed\n"
     ]
    },
    {
     "name": "stdout",
     "output_type": "stream",
     "text": [
      "74. BR 주식의 일별 가격 정보가 'BR_daily_prices.csv' 파일에 저장되었습니다.\n",
      "Downloading data for BRO\n"
     ]
    },
    {
     "name": "stderr",
     "output_type": "stream",
     "text": [
      "[*********************100%***********************]  1 of 1 completed\n",
      "[*********************100%***********************]  1 of 1 completed\n",
      "\n",
      "1 Failed download:\n",
      "['BF.B']: YFPricesMissingError('$%ticker%: possibly delisted; no price data found  (1d 1925-11-28 -> 2024-11-03)')\n"
     ]
    },
    {
     "name": "stdout",
     "output_type": "stream",
     "text": [
      "75. BRO 주식의 일별 가격 정보가 'BRO_daily_prices.csv' 파일에 저장되었습니다.\n",
      "Downloading data for BF.B\n",
      "76. BF.B 주식의 일별 가격 정보가 'BF.B_daily_prices.csv' 파일에 저장되었습니다.\n",
      "Downloading data for BLDR\n"
     ]
    },
    {
     "name": "stderr",
     "output_type": "stream",
     "text": [
      "[*********************100%***********************]  1 of 1 completed\n"
     ]
    },
    {
     "name": "stdout",
     "output_type": "stream",
     "text": [
      "77. BLDR 주식의 일별 가격 정보가 'BLDR_daily_prices.csv' 파일에 저장되었습니다.\n",
      "Downloading data for BG\n"
     ]
    },
    {
     "name": "stderr",
     "output_type": "stream",
     "text": [
      "[*********************100%***********************]  1 of 1 completed\n"
     ]
    },
    {
     "name": "stdout",
     "output_type": "stream",
     "text": [
      "78. BG 주식의 일별 가격 정보가 'BG_daily_prices.csv' 파일에 저장되었습니다.\n",
      "Downloading data for BXP\n"
     ]
    },
    {
     "name": "stderr",
     "output_type": "stream",
     "text": [
      "[*********************100%***********************]  1 of 1 completed\n"
     ]
    },
    {
     "name": "stdout",
     "output_type": "stream",
     "text": [
      "79. BXP 주식의 일별 가격 정보가 'BXP_daily_prices.csv' 파일에 저장되었습니다.\n",
      "Downloading data for CHRW\n"
     ]
    },
    {
     "name": "stderr",
     "output_type": "stream",
     "text": [
      "[*********************100%***********************]  1 of 1 completed\n"
     ]
    },
    {
     "name": "stdout",
     "output_type": "stream",
     "text": [
      "80. CHRW 주식의 일별 가격 정보가 'CHRW_daily_prices.csv' 파일에 저장되었습니다.\n",
      "Downloading data for CDNS\n"
     ]
    },
    {
     "name": "stderr",
     "output_type": "stream",
     "text": [
      "[*********************100%***********************]  1 of 1 completed\n"
     ]
    },
    {
     "name": "stdout",
     "output_type": "stream",
     "text": [
      "81. CDNS 주식의 일별 가격 정보가 'CDNS_daily_prices.csv' 파일에 저장되었습니다.\n",
      "Downloading data for CZR\n"
     ]
    },
    {
     "name": "stderr",
     "output_type": "stream",
     "text": [
      "[*********************100%***********************]  1 of 1 completed\n"
     ]
    },
    {
     "name": "stdout",
     "output_type": "stream",
     "text": [
      "82. CZR 주식의 일별 가격 정보가 'CZR_daily_prices.csv' 파일에 저장되었습니다.\n",
      "Downloading data for CPT\n"
     ]
    },
    {
     "name": "stderr",
     "output_type": "stream",
     "text": [
      "[*********************100%***********************]  1 of 1 completed\n"
     ]
    },
    {
     "name": "stdout",
     "output_type": "stream",
     "text": [
      "83. CPT 주식의 일별 가격 정보가 'CPT_daily_prices.csv' 파일에 저장되었습니다.\n",
      "Downloading data for CPB\n"
     ]
    },
    {
     "name": "stderr",
     "output_type": "stream",
     "text": [
      "[*********************100%***********************]  1 of 1 completed\n"
     ]
    },
    {
     "name": "stdout",
     "output_type": "stream",
     "text": [
      "84. CPB 주식의 일별 가격 정보가 'CPB_daily_prices.csv' 파일에 저장되었습니다.\n",
      "Downloading data for COF\n"
     ]
    },
    {
     "name": "stderr",
     "output_type": "stream",
     "text": [
      "[*********************100%***********************]  1 of 1 completed\n"
     ]
    },
    {
     "name": "stdout",
     "output_type": "stream",
     "text": [
      "85. COF 주식의 일별 가격 정보가 'COF_daily_prices.csv' 파일에 저장되었습니다.\n",
      "Downloading data for CAH\n"
     ]
    },
    {
     "name": "stderr",
     "output_type": "stream",
     "text": [
      "[*********************100%***********************]  1 of 1 completed\n"
     ]
    },
    {
     "name": "stdout",
     "output_type": "stream",
     "text": [
      "86. CAH 주식의 일별 가격 정보가 'CAH_daily_prices.csv' 파일에 저장되었습니다.\n",
      "Downloading data for KMX\n"
     ]
    },
    {
     "name": "stderr",
     "output_type": "stream",
     "text": [
      "[*********************100%***********************]  1 of 1 completed\n"
     ]
    },
    {
     "name": "stdout",
     "output_type": "stream",
     "text": [
      "87. KMX 주식의 일별 가격 정보가 'KMX_daily_prices.csv' 파일에 저장되었습니다.\n",
      "Downloading data for CCL\n"
     ]
    },
    {
     "name": "stderr",
     "output_type": "stream",
     "text": [
      "[*********************100%***********************]  1 of 1 completed\n",
      "[*********************100%***********************]  1 of 1 completed"
     ]
    },
    {
     "name": "stdout",
     "output_type": "stream",
     "text": [
      "88. CCL 주식의 일별 가격 정보가 'CCL_daily_prices.csv' 파일에 저장되었습니다.\n",
      "Downloading data for CARR\n"
     ]
    },
    {
     "name": "stderr",
     "output_type": "stream",
     "text": [
      "\n"
     ]
    },
    {
     "name": "stdout",
     "output_type": "stream",
     "text": [
      "89. CARR 주식의 일별 가격 정보가 'CARR_daily_prices.csv' 파일에 저장되었습니다.\n",
      "Downloading data for CTLT\n"
     ]
    },
    {
     "name": "stderr",
     "output_type": "stream",
     "text": [
      "[*********************100%***********************]  1 of 1 completed\n"
     ]
    },
    {
     "name": "stdout",
     "output_type": "stream",
     "text": [
      "90. CTLT 주식의 일별 가격 정보가 'CTLT_daily_prices.csv' 파일에 저장되었습니다.\n",
      "Downloading data for CAT\n"
     ]
    },
    {
     "name": "stderr",
     "output_type": "stream",
     "text": [
      "[*********************100%***********************]  1 of 1 completed\n"
     ]
    },
    {
     "name": "stdout",
     "output_type": "stream",
     "text": [
      "91. CAT 주식의 일별 가격 정보가 'CAT_daily_prices.csv' 파일에 저장되었습니다.\n",
      "Downloading data for CBOE\n"
     ]
    },
    {
     "name": "stderr",
     "output_type": "stream",
     "text": [
      "[*********************100%***********************]  1 of 1 completed\n"
     ]
    },
    {
     "name": "stdout",
     "output_type": "stream",
     "text": [
      "92. CBOE 주식의 일별 가격 정보가 'CBOE_daily_prices.csv' 파일에 저장되었습니다.\n",
      "Downloading data for CBRE\n"
     ]
    },
    {
     "name": "stderr",
     "output_type": "stream",
     "text": [
      "[*********************100%***********************]  1 of 1 completed\n"
     ]
    },
    {
     "name": "stdout",
     "output_type": "stream",
     "text": [
      "93. CBRE 주식의 일별 가격 정보가 'CBRE_daily_prices.csv' 파일에 저장되었습니다.\n",
      "Downloading data for CDW\n"
     ]
    },
    {
     "name": "stderr",
     "output_type": "stream",
     "text": [
      "[*********************100%***********************]  1 of 1 completed\n"
     ]
    },
    {
     "name": "stdout",
     "output_type": "stream",
     "text": [
      "94. CDW 주식의 일별 가격 정보가 'CDW_daily_prices.csv' 파일에 저장되었습니다.\n",
      "Downloading data for CE\n"
     ]
    },
    {
     "name": "stderr",
     "output_type": "stream",
     "text": [
      "[*********************100%***********************]  1 of 1 completed\n"
     ]
    },
    {
     "name": "stdout",
     "output_type": "stream",
     "text": [
      "95. CE 주식의 일별 가격 정보가 'CE_daily_prices.csv' 파일에 저장되었습니다.\n",
      "Downloading data for COR\n"
     ]
    },
    {
     "name": "stderr",
     "output_type": "stream",
     "text": [
      "[*********************100%***********************]  1 of 1 completed\n"
     ]
    },
    {
     "name": "stdout",
     "output_type": "stream",
     "text": [
      "96. COR 주식의 일별 가격 정보가 'COR_daily_prices.csv' 파일에 저장되었습니다.\n",
      "Downloading data for CNC\n"
     ]
    },
    {
     "name": "stderr",
     "output_type": "stream",
     "text": [
      "[*********************100%***********************]  1 of 1 completed\n"
     ]
    },
    {
     "name": "stdout",
     "output_type": "stream",
     "text": [
      "97. CNC 주식의 일별 가격 정보가 'CNC_daily_prices.csv' 파일에 저장되었습니다.\n",
      "Downloading data for CNP\n"
     ]
    },
    {
     "name": "stderr",
     "output_type": "stream",
     "text": [
      "[*********************100%***********************]  1 of 1 completed\n"
     ]
    },
    {
     "name": "stdout",
     "output_type": "stream",
     "text": [
      "98. CNP 주식의 일별 가격 정보가 'CNP_daily_prices.csv' 파일에 저장되었습니다.\n",
      "Downloading data for CF\n"
     ]
    },
    {
     "name": "stderr",
     "output_type": "stream",
     "text": [
      "[*********************100%***********************]  1 of 1 completed\n"
     ]
    },
    {
     "name": "stdout",
     "output_type": "stream",
     "text": [
      "99. CF 주식의 일별 가격 정보가 'CF_daily_prices.csv' 파일에 저장되었습니다.\n",
      "Downloading data for CRL\n"
     ]
    },
    {
     "name": "stderr",
     "output_type": "stream",
     "text": [
      "[*********************100%***********************]  1 of 1 completed\n"
     ]
    },
    {
     "name": "stdout",
     "output_type": "stream",
     "text": [
      "100. CRL 주식의 일별 가격 정보가 'CRL_daily_prices.csv' 파일에 저장되었습니다.\n",
      "Downloading data for SCHW\n"
     ]
    },
    {
     "name": "stderr",
     "output_type": "stream",
     "text": [
      "[*********************100%***********************]  1 of 1 completed\n",
      "[*********************100%***********************]  1 of 1 completed"
     ]
    },
    {
     "name": "stdout",
     "output_type": "stream",
     "text": [
      "101. SCHW 주식의 일별 가격 정보가 'SCHW_daily_prices.csv' 파일에 저장되었습니다.\n",
      "Downloading data for CHTR\n"
     ]
    },
    {
     "name": "stderr",
     "output_type": "stream",
     "text": [
      "\n"
     ]
    },
    {
     "name": "stdout",
     "output_type": "stream",
     "text": [
      "102. CHTR 주식의 일별 가격 정보가 'CHTR_daily_prices.csv' 파일에 저장되었습니다.\n",
      "Downloading data for CVX\n"
     ]
    },
    {
     "name": "stderr",
     "output_type": "stream",
     "text": [
      "[*********************100%***********************]  1 of 1 completed\n"
     ]
    },
    {
     "name": "stdout",
     "output_type": "stream",
     "text": [
      "103. CVX 주식의 일별 가격 정보가 'CVX_daily_prices.csv' 파일에 저장되었습니다.\n",
      "Downloading data for CMG\n"
     ]
    },
    {
     "name": "stderr",
     "output_type": "stream",
     "text": [
      "[*********************100%***********************]  1 of 1 completed\n"
     ]
    },
    {
     "name": "stdout",
     "output_type": "stream",
     "text": [
      "104. CMG 주식의 일별 가격 정보가 'CMG_daily_prices.csv' 파일에 저장되었습니다.\n",
      "Downloading data for CB\n"
     ]
    },
    {
     "name": "stderr",
     "output_type": "stream",
     "text": [
      "[*********************100%***********************]  1 of 1 completed\n"
     ]
    },
    {
     "name": "stdout",
     "output_type": "stream",
     "text": [
      "105. CB 주식의 일별 가격 정보가 'CB_daily_prices.csv' 파일에 저장되었습니다.\n",
      "Downloading data for CHD\n"
     ]
    },
    {
     "name": "stderr",
     "output_type": "stream",
     "text": [
      "[*********************100%***********************]  1 of 1 completed\n"
     ]
    },
    {
     "name": "stdout",
     "output_type": "stream",
     "text": [
      "106. CHD 주식의 일별 가격 정보가 'CHD_daily_prices.csv' 파일에 저장되었습니다.\n",
      "Downloading data for CI\n"
     ]
    },
    {
     "name": "stderr",
     "output_type": "stream",
     "text": [
      "[*********************100%***********************]  1 of 1 completed\n"
     ]
    },
    {
     "name": "stdout",
     "output_type": "stream",
     "text": [
      "107. CI 주식의 일별 가격 정보가 'CI_daily_prices.csv' 파일에 저장되었습니다.\n",
      "Downloading data for CINF\n"
     ]
    },
    {
     "name": "stderr",
     "output_type": "stream",
     "text": [
      "[*********************100%***********************]  1 of 1 completed\n"
     ]
    },
    {
     "name": "stdout",
     "output_type": "stream",
     "text": [
      "108. CINF 주식의 일별 가격 정보가 'CINF_daily_prices.csv' 파일에 저장되었습니다.\n",
      "Downloading data for CTAS\n"
     ]
    },
    {
     "name": "stderr",
     "output_type": "stream",
     "text": [
      "[*********************100%***********************]  1 of 1 completed\n"
     ]
    },
    {
     "name": "stdout",
     "output_type": "stream",
     "text": [
      "109. CTAS 주식의 일별 가격 정보가 'CTAS_daily_prices.csv' 파일에 저장되었습니다.\n",
      "Downloading data for CSCO\n"
     ]
    },
    {
     "name": "stderr",
     "output_type": "stream",
     "text": [
      "[*********************100%***********************]  1 of 1 completed\n"
     ]
    },
    {
     "name": "stdout",
     "output_type": "stream",
     "text": [
      "110. CSCO 주식의 일별 가격 정보가 'CSCO_daily_prices.csv' 파일에 저장되었습니다.\n",
      "Downloading data for C\n"
     ]
    },
    {
     "name": "stderr",
     "output_type": "stream",
     "text": [
      "[*********************100%***********************]  1 of 1 completed\n"
     ]
    },
    {
     "name": "stdout",
     "output_type": "stream",
     "text": [
      "111. C 주식의 일별 가격 정보가 'C_daily_prices.csv' 파일에 저장되었습니다.\n",
      "Downloading data for CFG\n"
     ]
    },
    {
     "name": "stderr",
     "output_type": "stream",
     "text": [
      "[*********************100%***********************]  1 of 1 completed\n"
     ]
    },
    {
     "name": "stdout",
     "output_type": "stream",
     "text": [
      "112. CFG 주식의 일별 가격 정보가 'CFG_daily_prices.csv' 파일에 저장되었습니다.\n",
      "Downloading data for CLX\n"
     ]
    },
    {
     "name": "stderr",
     "output_type": "stream",
     "text": [
      "[*********************100%***********************]  1 of 1 completed\n"
     ]
    },
    {
     "name": "stdout",
     "output_type": "stream",
     "text": [
      "113. CLX 주식의 일별 가격 정보가 'CLX_daily_prices.csv' 파일에 저장되었습니다.\n",
      "Downloading data for CME\n"
     ]
    },
    {
     "name": "stderr",
     "output_type": "stream",
     "text": [
      "[*********************100%***********************]  1 of 1 completed\n"
     ]
    },
    {
     "name": "stdout",
     "output_type": "stream",
     "text": [
      "114. CME 주식의 일별 가격 정보가 'CME_daily_prices.csv' 파일에 저장되었습니다.\n",
      "Downloading data for CMS\n"
     ]
    },
    {
     "name": "stderr",
     "output_type": "stream",
     "text": [
      "[*********************100%***********************]  1 of 1 completed\n"
     ]
    },
    {
     "name": "stdout",
     "output_type": "stream",
     "text": [
      "115. CMS 주식의 일별 가격 정보가 'CMS_daily_prices.csv' 파일에 저장되었습니다.\n",
      "Downloading data for KO\n"
     ]
    },
    {
     "name": "stderr",
     "output_type": "stream",
     "text": [
      "[*********************100%***********************]  1 of 1 completed\n"
     ]
    },
    {
     "name": "stdout",
     "output_type": "stream",
     "text": [
      "116. KO 주식의 일별 가격 정보가 'KO_daily_prices.csv' 파일에 저장되었습니다.\n",
      "Downloading data for CTSH\n"
     ]
    },
    {
     "name": "stderr",
     "output_type": "stream",
     "text": [
      "[*********************100%***********************]  1 of 1 completed\n"
     ]
    },
    {
     "name": "stdout",
     "output_type": "stream",
     "text": [
      "117. CTSH 주식의 일별 가격 정보가 'CTSH_daily_prices.csv' 파일에 저장되었습니다.\n",
      "Downloading data for CL\n"
     ]
    },
    {
     "name": "stderr",
     "output_type": "stream",
     "text": [
      "[*********************100%***********************]  1 of 1 completed\n"
     ]
    },
    {
     "name": "stdout",
     "output_type": "stream",
     "text": [
      "118. CL 주식의 일별 가격 정보가 'CL_daily_prices.csv' 파일에 저장되었습니다.\n",
      "Downloading data for CMCSA\n"
     ]
    },
    {
     "name": "stderr",
     "output_type": "stream",
     "text": [
      "[*********************100%***********************]  1 of 1 completed\n"
     ]
    },
    {
     "name": "stdout",
     "output_type": "stream",
     "text": [
      "119. CMCSA 주식의 일별 가격 정보가 'CMCSA_daily_prices.csv' 파일에 저장되었습니다.\n",
      "Downloading data for CAG\n"
     ]
    },
    {
     "name": "stderr",
     "output_type": "stream",
     "text": [
      "[*********************100%***********************]  1 of 1 completed\n"
     ]
    },
    {
     "name": "stdout",
     "output_type": "stream",
     "text": [
      "120. CAG 주식의 일별 가격 정보가 'CAG_daily_prices.csv' 파일에 저장되었습니다.\n",
      "Downloading data for COP\n"
     ]
    },
    {
     "name": "stderr",
     "output_type": "stream",
     "text": [
      "[*********************100%***********************]  1 of 1 completed\n"
     ]
    },
    {
     "name": "stdout",
     "output_type": "stream",
     "text": [
      "121. COP 주식의 일별 가격 정보가 'COP_daily_prices.csv' 파일에 저장되었습니다.\n",
      "Downloading data for ED\n"
     ]
    },
    {
     "name": "stderr",
     "output_type": "stream",
     "text": [
      "[*********************100%***********************]  1 of 1 completed\n"
     ]
    },
    {
     "name": "stdout",
     "output_type": "stream",
     "text": [
      "122. ED 주식의 일별 가격 정보가 'ED_daily_prices.csv' 파일에 저장되었습니다.\n",
      "Downloading data for STZ\n"
     ]
    },
    {
     "name": "stderr",
     "output_type": "stream",
     "text": [
      "[*********************100%***********************]  1 of 1 completed\n"
     ]
    },
    {
     "name": "stdout",
     "output_type": "stream",
     "text": [
      "123. STZ 주식의 일별 가격 정보가 'STZ_daily_prices.csv' 파일에 저장되었습니다.\n",
      "Downloading data for CEG\n"
     ]
    },
    {
     "name": "stderr",
     "output_type": "stream",
     "text": [
      "[*********************100%***********************]  1 of 1 completed\n"
     ]
    },
    {
     "name": "stdout",
     "output_type": "stream",
     "text": [
      "124. CEG 주식의 일별 가격 정보가 'CEG_daily_prices.csv' 파일에 저장되었습니다.\n",
      "Downloading data for COO\n"
     ]
    },
    {
     "name": "stderr",
     "output_type": "stream",
     "text": [
      "[*********************100%***********************]  1 of 1 completed\n"
     ]
    },
    {
     "name": "stdout",
     "output_type": "stream",
     "text": [
      "125. COO 주식의 일별 가격 정보가 'COO_daily_prices.csv' 파일에 저장되었습니다.\n",
      "Downloading data for CPRT\n"
     ]
    },
    {
     "name": "stderr",
     "output_type": "stream",
     "text": [
      "[*********************100%***********************]  1 of 1 completed\n"
     ]
    },
    {
     "name": "stdout",
     "output_type": "stream",
     "text": [
      "126. CPRT 주식의 일별 가격 정보가 'CPRT_daily_prices.csv' 파일에 저장되었습니다.\n",
      "Downloading data for GLW\n"
     ]
    },
    {
     "name": "stderr",
     "output_type": "stream",
     "text": [
      "[*********************100%***********************]  1 of 1 completed\n"
     ]
    },
    {
     "name": "stdout",
     "output_type": "stream",
     "text": [
      "127. GLW 주식의 일별 가격 정보가 'GLW_daily_prices.csv' 파일에 저장되었습니다.\n",
      "Downloading data for CPAY\n"
     ]
    },
    {
     "name": "stderr",
     "output_type": "stream",
     "text": [
      "[*********************100%***********************]  1 of 1 completed\n"
     ]
    },
    {
     "name": "stdout",
     "output_type": "stream",
     "text": [
      "128. CPAY 주식의 일별 가격 정보가 'CPAY_daily_prices.csv' 파일에 저장되었습니다.\n",
      "Downloading data for CTVA\n"
     ]
    },
    {
     "name": "stderr",
     "output_type": "stream",
     "text": [
      "[*********************100%***********************]  1 of 1 completed\n"
     ]
    },
    {
     "name": "stdout",
     "output_type": "stream",
     "text": [
      "129. CTVA 주식의 일별 가격 정보가 'CTVA_daily_prices.csv' 파일에 저장되었습니다.\n",
      "Downloading data for CSGP\n"
     ]
    },
    {
     "name": "stderr",
     "output_type": "stream",
     "text": [
      "[*********************100%***********************]  1 of 1 completed\n"
     ]
    },
    {
     "name": "stdout",
     "output_type": "stream",
     "text": [
      "130. CSGP 주식의 일별 가격 정보가 'CSGP_daily_prices.csv' 파일에 저장되었습니다.\n",
      "Downloading data for COST\n"
     ]
    },
    {
     "name": "stderr",
     "output_type": "stream",
     "text": [
      "[*********************100%***********************]  1 of 1 completed\n"
     ]
    },
    {
     "name": "stdout",
     "output_type": "stream",
     "text": [
      "131. COST 주식의 일별 가격 정보가 'COST_daily_prices.csv' 파일에 저장되었습니다.\n",
      "Downloading data for CTRA\n"
     ]
    },
    {
     "name": "stderr",
     "output_type": "stream",
     "text": [
      "[*********************100%***********************]  1 of 1 completed\n"
     ]
    },
    {
     "name": "stdout",
     "output_type": "stream",
     "text": [
      "132. CTRA 주식의 일별 가격 정보가 'CTRA_daily_prices.csv' 파일에 저장되었습니다.\n",
      "Downloading data for CRWD\n"
     ]
    },
    {
     "name": "stderr",
     "output_type": "stream",
     "text": [
      "[*********************100%***********************]  1 of 1 completed\n"
     ]
    },
    {
     "name": "stdout",
     "output_type": "stream",
     "text": [
      "133. CRWD 주식의 일별 가격 정보가 'CRWD_daily_prices.csv' 파일에 저장되었습니다.\n",
      "Downloading data for CCI\n"
     ]
    },
    {
     "name": "stderr",
     "output_type": "stream",
     "text": [
      "[*********************100%***********************]  1 of 1 completed\n"
     ]
    },
    {
     "name": "stdout",
     "output_type": "stream",
     "text": [
      "134. CCI 주식의 일별 가격 정보가 'CCI_daily_prices.csv' 파일에 저장되었습니다.\n",
      "Downloading data for CSX\n"
     ]
    },
    {
     "name": "stderr",
     "output_type": "stream",
     "text": [
      "[*********************100%***********************]  1 of 1 completed\n"
     ]
    },
    {
     "name": "stdout",
     "output_type": "stream",
     "text": [
      "135. CSX 주식의 일별 가격 정보가 'CSX_daily_prices.csv' 파일에 저장되었습니다.\n",
      "Downloading data for CMI\n"
     ]
    },
    {
     "name": "stderr",
     "output_type": "stream",
     "text": [
      "[*********************100%***********************]  1 of 1 completed\n"
     ]
    },
    {
     "name": "stdout",
     "output_type": "stream",
     "text": [
      "136. CMI 주식의 일별 가격 정보가 'CMI_daily_prices.csv' 파일에 저장되었습니다.\n",
      "Downloading data for CVS\n"
     ]
    },
    {
     "name": "stderr",
     "output_type": "stream",
     "text": [
      "[*********************100%***********************]  1 of 1 completed\n"
     ]
    },
    {
     "name": "stdout",
     "output_type": "stream",
     "text": [
      "137. CVS 주식의 일별 가격 정보가 'CVS_daily_prices.csv' 파일에 저장되었습니다.\n",
      "Downloading data for DHR\n"
     ]
    },
    {
     "name": "stderr",
     "output_type": "stream",
     "text": [
      "[*********************100%***********************]  1 of 1 completed\n"
     ]
    },
    {
     "name": "stdout",
     "output_type": "stream",
     "text": [
      "138. DHR 주식의 일별 가격 정보가 'DHR_daily_prices.csv' 파일에 저장되었습니다.\n",
      "Downloading data for DRI\n"
     ]
    },
    {
     "name": "stderr",
     "output_type": "stream",
     "text": [
      "[*********************100%***********************]  1 of 1 completed\n"
     ]
    },
    {
     "name": "stdout",
     "output_type": "stream",
     "text": [
      "139. DRI 주식의 일별 가격 정보가 'DRI_daily_prices.csv' 파일에 저장되었습니다.\n",
      "Downloading data for DVA\n"
     ]
    },
    {
     "name": "stderr",
     "output_type": "stream",
     "text": [
      "[*********************100%***********************]  1 of 1 completed\n"
     ]
    },
    {
     "name": "stdout",
     "output_type": "stream",
     "text": [
      "140. DVA 주식의 일별 가격 정보가 'DVA_daily_prices.csv' 파일에 저장되었습니다.\n",
      "Downloading data for DAY\n"
     ]
    },
    {
     "name": "stderr",
     "output_type": "stream",
     "text": [
      "[*********************100%***********************]  1 of 1 completed\n"
     ]
    },
    {
     "name": "stdout",
     "output_type": "stream",
     "text": [
      "141. DAY 주식의 일별 가격 정보가 'DAY_daily_prices.csv' 파일에 저장되었습니다.\n",
      "Downloading data for DECK\n"
     ]
    },
    {
     "name": "stderr",
     "output_type": "stream",
     "text": [
      "[*********************100%***********************]  1 of 1 completed\n"
     ]
    },
    {
     "name": "stdout",
     "output_type": "stream",
     "text": [
      "142. DECK 주식의 일별 가격 정보가 'DECK_daily_prices.csv' 파일에 저장되었습니다.\n",
      "Downloading data for DE\n"
     ]
    },
    {
     "name": "stderr",
     "output_type": "stream",
     "text": [
      "[*********************100%***********************]  1 of 1 completed\n"
     ]
    },
    {
     "name": "stdout",
     "output_type": "stream",
     "text": [
      "143. DE 주식의 일별 가격 정보가 'DE_daily_prices.csv' 파일에 저장되었습니다.\n",
      "Downloading data for DELL\n"
     ]
    },
    {
     "name": "stderr",
     "output_type": "stream",
     "text": [
      "[*********************100%***********************]  1 of 1 completed\n"
     ]
    },
    {
     "name": "stdout",
     "output_type": "stream",
     "text": [
      "144. DELL 주식의 일별 가격 정보가 'DELL_daily_prices.csv' 파일에 저장되었습니다.\n",
      "Downloading data for DAL\n"
     ]
    },
    {
     "name": "stderr",
     "output_type": "stream",
     "text": [
      "[*********************100%***********************]  1 of 1 completed\n"
     ]
    },
    {
     "name": "stdout",
     "output_type": "stream",
     "text": [
      "145. DAL 주식의 일별 가격 정보가 'DAL_daily_prices.csv' 파일에 저장되었습니다.\n",
      "Downloading data for DVN\n"
     ]
    },
    {
     "name": "stderr",
     "output_type": "stream",
     "text": [
      "[*********************100%***********************]  1 of 1 completed\n"
     ]
    },
    {
     "name": "stdout",
     "output_type": "stream",
     "text": [
      "146. DVN 주식의 일별 가격 정보가 'DVN_daily_prices.csv' 파일에 저장되었습니다.\n",
      "Downloading data for DXCM\n"
     ]
    },
    {
     "name": "stderr",
     "output_type": "stream",
     "text": [
      "[*********************100%***********************]  1 of 1 completed\n"
     ]
    },
    {
     "name": "stdout",
     "output_type": "stream",
     "text": [
      "147. DXCM 주식의 일별 가격 정보가 'DXCM_daily_prices.csv' 파일에 저장되었습니다.\n",
      "Downloading data for FANG\n"
     ]
    },
    {
     "name": "stderr",
     "output_type": "stream",
     "text": [
      "[*********************100%***********************]  1 of 1 completed\n"
     ]
    },
    {
     "name": "stdout",
     "output_type": "stream",
     "text": [
      "148. FANG 주식의 일별 가격 정보가 'FANG_daily_prices.csv' 파일에 저장되었습니다.\n",
      "Downloading data for DLR\n"
     ]
    },
    {
     "name": "stderr",
     "output_type": "stream",
     "text": [
      "[*********************100%***********************]  1 of 1 completed\n"
     ]
    },
    {
     "name": "stdout",
     "output_type": "stream",
     "text": [
      "149. DLR 주식의 일별 가격 정보가 'DLR_daily_prices.csv' 파일에 저장되었습니다.\n",
      "Downloading data for DFS\n"
     ]
    },
    {
     "name": "stderr",
     "output_type": "stream",
     "text": [
      "[*********************100%***********************]  1 of 1 completed\n"
     ]
    },
    {
     "name": "stdout",
     "output_type": "stream",
     "text": [
      "150. DFS 주식의 일별 가격 정보가 'DFS_daily_prices.csv' 파일에 저장되었습니다.\n",
      "Downloading data for DG\n"
     ]
    },
    {
     "name": "stderr",
     "output_type": "stream",
     "text": [
      "[*********************100%***********************]  1 of 1 completed\n"
     ]
    },
    {
     "name": "stdout",
     "output_type": "stream",
     "text": [
      "151. DG 주식의 일별 가격 정보가 'DG_daily_prices.csv' 파일에 저장되었습니다.\n",
      "Downloading data for DLTR\n"
     ]
    },
    {
     "name": "stderr",
     "output_type": "stream",
     "text": [
      "[*********************100%***********************]  1 of 1 completed\n"
     ]
    },
    {
     "name": "stdout",
     "output_type": "stream",
     "text": [
      "152. DLTR 주식의 일별 가격 정보가 'DLTR_daily_prices.csv' 파일에 저장되었습니다.\n",
      "Downloading data for D\n"
     ]
    },
    {
     "name": "stderr",
     "output_type": "stream",
     "text": [
      "[*********************100%***********************]  1 of 1 completed\n"
     ]
    },
    {
     "name": "stdout",
     "output_type": "stream",
     "text": [
      "153. D 주식의 일별 가격 정보가 'D_daily_prices.csv' 파일에 저장되었습니다.\n",
      "Downloading data for DPZ\n"
     ]
    },
    {
     "name": "stderr",
     "output_type": "stream",
     "text": [
      "[*********************100%***********************]  1 of 1 completed\n"
     ]
    },
    {
     "name": "stdout",
     "output_type": "stream",
     "text": [
      "154. DPZ 주식의 일별 가격 정보가 'DPZ_daily_prices.csv' 파일에 저장되었습니다.\n",
      "Downloading data for DOV\n"
     ]
    },
    {
     "name": "stderr",
     "output_type": "stream",
     "text": [
      "[*********************100%***********************]  1 of 1 completed\n"
     ]
    },
    {
     "name": "stdout",
     "output_type": "stream",
     "text": [
      "155. DOV 주식의 일별 가격 정보가 'DOV_daily_prices.csv' 파일에 저장되었습니다.\n",
      "Downloading data for DOW\n"
     ]
    },
    {
     "name": "stderr",
     "output_type": "stream",
     "text": [
      "[*********************100%***********************]  1 of 1 completed\n"
     ]
    },
    {
     "name": "stdout",
     "output_type": "stream",
     "text": [
      "156. DOW 주식의 일별 가격 정보가 'DOW_daily_prices.csv' 파일에 저장되었습니다.\n",
      "Downloading data for DHI\n"
     ]
    },
    {
     "name": "stderr",
     "output_type": "stream",
     "text": [
      "[*********************100%***********************]  1 of 1 completed\n"
     ]
    },
    {
     "name": "stdout",
     "output_type": "stream",
     "text": [
      "157. DHI 주식의 일별 가격 정보가 'DHI_daily_prices.csv' 파일에 저장되었습니다.\n",
      "Downloading data for DTE\n"
     ]
    },
    {
     "name": "stderr",
     "output_type": "stream",
     "text": [
      "[*********************100%***********************]  1 of 1 completed\n"
     ]
    },
    {
     "name": "stdout",
     "output_type": "stream",
     "text": [
      "158. DTE 주식의 일별 가격 정보가 'DTE_daily_prices.csv' 파일에 저장되었습니다.\n",
      "Downloading data for DUK\n"
     ]
    },
    {
     "name": "stderr",
     "output_type": "stream",
     "text": [
      "[*********************100%***********************]  1 of 1 completed\n"
     ]
    },
    {
     "name": "stdout",
     "output_type": "stream",
     "text": [
      "159. DUK 주식의 일별 가격 정보가 'DUK_daily_prices.csv' 파일에 저장되었습니다.\n",
      "Downloading data for DD\n"
     ]
    },
    {
     "name": "stderr",
     "output_type": "stream",
     "text": [
      "[*********************100%***********************]  1 of 1 completed\n"
     ]
    },
    {
     "name": "stdout",
     "output_type": "stream",
     "text": [
      "160. DD 주식의 일별 가격 정보가 'DD_daily_prices.csv' 파일에 저장되었습니다.\n",
      "Downloading data for EMN\n"
     ]
    },
    {
     "name": "stderr",
     "output_type": "stream",
     "text": [
      "[*********************100%***********************]  1 of 1 completed\n"
     ]
    },
    {
     "name": "stdout",
     "output_type": "stream",
     "text": [
      "161. EMN 주식의 일별 가격 정보가 'EMN_daily_prices.csv' 파일에 저장되었습니다.\n",
      "Downloading data for ETN\n"
     ]
    },
    {
     "name": "stderr",
     "output_type": "stream",
     "text": [
      "[*********************100%***********************]  1 of 1 completed\n"
     ]
    },
    {
     "name": "stdout",
     "output_type": "stream",
     "text": [
      "162. ETN 주식의 일별 가격 정보가 'ETN_daily_prices.csv' 파일에 저장되었습니다.\n",
      "Downloading data for EBAY\n"
     ]
    },
    {
     "name": "stderr",
     "output_type": "stream",
     "text": [
      "[*********************100%***********************]  1 of 1 completed\n"
     ]
    },
    {
     "name": "stdout",
     "output_type": "stream",
     "text": [
      "163. EBAY 주식의 일별 가격 정보가 'EBAY_daily_prices.csv' 파일에 저장되었습니다.\n",
      "Downloading data for ECL\n"
     ]
    },
    {
     "name": "stderr",
     "output_type": "stream",
     "text": [
      "[*********************100%***********************]  1 of 1 completed\n"
     ]
    },
    {
     "name": "stdout",
     "output_type": "stream",
     "text": [
      "164. ECL 주식의 일별 가격 정보가 'ECL_daily_prices.csv' 파일에 저장되었습니다.\n",
      "Downloading data for EIX\n"
     ]
    },
    {
     "name": "stderr",
     "output_type": "stream",
     "text": [
      "[*********************100%***********************]  1 of 1 completed\n"
     ]
    },
    {
     "name": "stdout",
     "output_type": "stream",
     "text": [
      "165. EIX 주식의 일별 가격 정보가 'EIX_daily_prices.csv' 파일에 저장되었습니다.\n",
      "Downloading data for EW\n"
     ]
    },
    {
     "name": "stderr",
     "output_type": "stream",
     "text": [
      "[*********************100%***********************]  1 of 1 completed\n"
     ]
    },
    {
     "name": "stdout",
     "output_type": "stream",
     "text": [
      "166. EW 주식의 일별 가격 정보가 'EW_daily_prices.csv' 파일에 저장되었습니다.\n",
      "Downloading data for EA\n"
     ]
    },
    {
     "name": "stderr",
     "output_type": "stream",
     "text": [
      "[*********************100%***********************]  1 of 1 completed\n"
     ]
    },
    {
     "name": "stdout",
     "output_type": "stream",
     "text": [
      "167. EA 주식의 일별 가격 정보가 'EA_daily_prices.csv' 파일에 저장되었습니다.\n",
      "Downloading data for ELV\n"
     ]
    },
    {
     "name": "stderr",
     "output_type": "stream",
     "text": [
      "[*********************100%***********************]  1 of 1 completed\n"
     ]
    },
    {
     "name": "stdout",
     "output_type": "stream",
     "text": [
      "168. ELV 주식의 일별 가격 정보가 'ELV_daily_prices.csv' 파일에 저장되었습니다.\n",
      "Downloading data for EMR\n"
     ]
    },
    {
     "name": "stderr",
     "output_type": "stream",
     "text": [
      "[*********************100%***********************]  1 of 1 completed\n"
     ]
    },
    {
     "name": "stdout",
     "output_type": "stream",
     "text": [
      "169. EMR 주식의 일별 가격 정보가 'EMR_daily_prices.csv' 파일에 저장되었습니다.\n",
      "Downloading data for ENPH\n"
     ]
    },
    {
     "name": "stderr",
     "output_type": "stream",
     "text": [
      "[*********************100%***********************]  1 of 1 completed\n"
     ]
    },
    {
     "name": "stdout",
     "output_type": "stream",
     "text": [
      "170. ENPH 주식의 일별 가격 정보가 'ENPH_daily_prices.csv' 파일에 저장되었습니다.\n",
      "Downloading data for ETR\n"
     ]
    },
    {
     "name": "stderr",
     "output_type": "stream",
     "text": [
      "[*********************100%***********************]  1 of 1 completed\n"
     ]
    },
    {
     "name": "stdout",
     "output_type": "stream",
     "text": [
      "171. ETR 주식의 일별 가격 정보가 'ETR_daily_prices.csv' 파일에 저장되었습니다.\n",
      "Downloading data for EOG\n"
     ]
    },
    {
     "name": "stderr",
     "output_type": "stream",
     "text": [
      "[*********************100%***********************]  1 of 1 completed\n",
      "[*********************100%***********************]  1 of 1 completed"
     ]
    },
    {
     "name": "stdout",
     "output_type": "stream",
     "text": [
      "172. EOG 주식의 일별 가격 정보가 'EOG_daily_prices.csv' 파일에 저장되었습니다.\n",
      "Downloading data for EPAM\n"
     ]
    },
    {
     "name": "stderr",
     "output_type": "stream",
     "text": [
      "\n"
     ]
    },
    {
     "name": "stdout",
     "output_type": "stream",
     "text": [
      "173. EPAM 주식의 일별 가격 정보가 'EPAM_daily_prices.csv' 파일에 저장되었습니다.\n",
      "Downloading data for EQT\n"
     ]
    },
    {
     "name": "stderr",
     "output_type": "stream",
     "text": [
      "[*********************100%***********************]  1 of 1 completed\n"
     ]
    },
    {
     "name": "stdout",
     "output_type": "stream",
     "text": [
      "174. EQT 주식의 일별 가격 정보가 'EQT_daily_prices.csv' 파일에 저장되었습니다.\n",
      "Downloading data for EFX\n"
     ]
    },
    {
     "name": "stderr",
     "output_type": "stream",
     "text": [
      "[*********************100%***********************]  1 of 1 completed\n"
     ]
    },
    {
     "name": "stdout",
     "output_type": "stream",
     "text": [
      "175. EFX 주식의 일별 가격 정보가 'EFX_daily_prices.csv' 파일에 저장되었습니다.\n",
      "Downloading data for EQIX\n"
     ]
    },
    {
     "name": "stderr",
     "output_type": "stream",
     "text": [
      "[*********************100%***********************]  1 of 1 completed\n"
     ]
    },
    {
     "name": "stdout",
     "output_type": "stream",
     "text": [
      "176. EQIX 주식의 일별 가격 정보가 'EQIX_daily_prices.csv' 파일에 저장되었습니다.\n",
      "Downloading data for EQR\n"
     ]
    },
    {
     "name": "stderr",
     "output_type": "stream",
     "text": [
      "[*********************100%***********************]  1 of 1 completed\n"
     ]
    },
    {
     "name": "stdout",
     "output_type": "stream",
     "text": [
      "177. EQR 주식의 일별 가격 정보가 'EQR_daily_prices.csv' 파일에 저장되었습니다.\n",
      "Downloading data for ERIE\n"
     ]
    },
    {
     "name": "stderr",
     "output_type": "stream",
     "text": [
      "[*********************100%***********************]  1 of 1 completed\n"
     ]
    },
    {
     "name": "stdout",
     "output_type": "stream",
     "text": [
      "178. ERIE 주식의 일별 가격 정보가 'ERIE_daily_prices.csv' 파일에 저장되었습니다.\n",
      "Downloading data for ESS\n"
     ]
    },
    {
     "name": "stderr",
     "output_type": "stream",
     "text": [
      "[*********************100%***********************]  1 of 1 completed\n"
     ]
    },
    {
     "name": "stdout",
     "output_type": "stream",
     "text": [
      "179. ESS 주식의 일별 가격 정보가 'ESS_daily_prices.csv' 파일에 저장되었습니다.\n",
      "Downloading data for EL\n"
     ]
    },
    {
     "name": "stderr",
     "output_type": "stream",
     "text": [
      "[*********************100%***********************]  1 of 1 completed\n"
     ]
    },
    {
     "name": "stdout",
     "output_type": "stream",
     "text": [
      "180. EL 주식의 일별 가격 정보가 'EL_daily_prices.csv' 파일에 저장되었습니다.\n",
      "Downloading data for EG\n"
     ]
    },
    {
     "name": "stderr",
     "output_type": "stream",
     "text": [
      "[*********************100%***********************]  1 of 1 completed\n"
     ]
    },
    {
     "name": "stdout",
     "output_type": "stream",
     "text": [
      "181. EG 주식의 일별 가격 정보가 'EG_daily_prices.csv' 파일에 저장되었습니다.\n",
      "Downloading data for EVRG\n"
     ]
    },
    {
     "name": "stderr",
     "output_type": "stream",
     "text": [
      "[*********************100%***********************]  1 of 1 completed\n"
     ]
    },
    {
     "name": "stdout",
     "output_type": "stream",
     "text": [
      "182. EVRG 주식의 일별 가격 정보가 'EVRG_daily_prices.csv' 파일에 저장되었습니다.\n",
      "Downloading data for ES\n"
     ]
    },
    {
     "name": "stderr",
     "output_type": "stream",
     "text": [
      "[*********************100%***********************]  1 of 1 completed\n"
     ]
    },
    {
     "name": "stdout",
     "output_type": "stream",
     "text": [
      "183. ES 주식의 일별 가격 정보가 'ES_daily_prices.csv' 파일에 저장되었습니다.\n",
      "Downloading data for EXC\n"
     ]
    },
    {
     "name": "stderr",
     "output_type": "stream",
     "text": [
      "[*********************100%***********************]  1 of 1 completed\n"
     ]
    },
    {
     "name": "stdout",
     "output_type": "stream",
     "text": [
      "184. EXC 주식의 일별 가격 정보가 'EXC_daily_prices.csv' 파일에 저장되었습니다.\n",
      "Downloading data for EXPE\n"
     ]
    },
    {
     "name": "stderr",
     "output_type": "stream",
     "text": [
      "[*********************100%***********************]  1 of 1 completed\n"
     ]
    },
    {
     "name": "stdout",
     "output_type": "stream",
     "text": [
      "185. EXPE 주식의 일별 가격 정보가 'EXPE_daily_prices.csv' 파일에 저장되었습니다.\n",
      "Downloading data for EXPD\n"
     ]
    },
    {
     "name": "stderr",
     "output_type": "stream",
     "text": [
      "[*********************100%***********************]  1 of 1 completed\n"
     ]
    },
    {
     "name": "stdout",
     "output_type": "stream",
     "text": [
      "186. EXPD 주식의 일별 가격 정보가 'EXPD_daily_prices.csv' 파일에 저장되었습니다.\n",
      "Downloading data for EXR\n"
     ]
    },
    {
     "name": "stderr",
     "output_type": "stream",
     "text": [
      "[*********************100%***********************]  1 of 1 completed\n"
     ]
    },
    {
     "name": "stdout",
     "output_type": "stream",
     "text": [
      "187. EXR 주식의 일별 가격 정보가 'EXR_daily_prices.csv' 파일에 저장되었습니다.\n",
      "Downloading data for XOM\n"
     ]
    },
    {
     "name": "stderr",
     "output_type": "stream",
     "text": [
      "[*********************100%***********************]  1 of 1 completed\n"
     ]
    },
    {
     "name": "stdout",
     "output_type": "stream",
     "text": [
      "188. XOM 주식의 일별 가격 정보가 'XOM_daily_prices.csv' 파일에 저장되었습니다.\n",
      "Downloading data for FFIV\n"
     ]
    },
    {
     "name": "stderr",
     "output_type": "stream",
     "text": [
      "[*********************100%***********************]  1 of 1 completed\n"
     ]
    },
    {
     "name": "stdout",
     "output_type": "stream",
     "text": [
      "189. FFIV 주식의 일별 가격 정보가 'FFIV_daily_prices.csv' 파일에 저장되었습니다.\n",
      "Downloading data for FDS\n"
     ]
    },
    {
     "name": "stderr",
     "output_type": "stream",
     "text": [
      "[*********************100%***********************]  1 of 1 completed\n"
     ]
    },
    {
     "name": "stdout",
     "output_type": "stream",
     "text": [
      "190. FDS 주식의 일별 가격 정보가 'FDS_daily_prices.csv' 파일에 저장되었습니다.\n",
      "Downloading data for FICO\n"
     ]
    },
    {
     "name": "stderr",
     "output_type": "stream",
     "text": [
      "[*********************100%***********************]  1 of 1 completed\n"
     ]
    },
    {
     "name": "stdout",
     "output_type": "stream",
     "text": [
      "191. FICO 주식의 일별 가격 정보가 'FICO_daily_prices.csv' 파일에 저장되었습니다.\n",
      "Downloading data for FAST\n"
     ]
    },
    {
     "name": "stderr",
     "output_type": "stream",
     "text": [
      "[*********************100%***********************]  1 of 1 completed\n"
     ]
    },
    {
     "name": "stdout",
     "output_type": "stream",
     "text": [
      "192. FAST 주식의 일별 가격 정보가 'FAST_daily_prices.csv' 파일에 저장되었습니다.\n",
      "Downloading data for FRT\n"
     ]
    },
    {
     "name": "stderr",
     "output_type": "stream",
     "text": [
      "[*********************100%***********************]  1 of 1 completed\n"
     ]
    },
    {
     "name": "stdout",
     "output_type": "stream",
     "text": [
      "193. FRT 주식의 일별 가격 정보가 'FRT_daily_prices.csv' 파일에 저장되었습니다.\n",
      "Downloading data for FDX\n"
     ]
    },
    {
     "name": "stderr",
     "output_type": "stream",
     "text": [
      "[*********************100%***********************]  1 of 1 completed\n"
     ]
    },
    {
     "name": "stdout",
     "output_type": "stream",
     "text": [
      "194. FDX 주식의 일별 가격 정보가 'FDX_daily_prices.csv' 파일에 저장되었습니다.\n",
      "Downloading data for FIS\n"
     ]
    },
    {
     "name": "stderr",
     "output_type": "stream",
     "text": [
      "[*********************100%***********************]  1 of 1 completed\n"
     ]
    },
    {
     "name": "stdout",
     "output_type": "stream",
     "text": [
      "195. FIS 주식의 일별 가격 정보가 'FIS_daily_prices.csv' 파일에 저장되었습니다.\n",
      "Downloading data for FITB\n"
     ]
    },
    {
     "name": "stderr",
     "output_type": "stream",
     "text": [
      "[*********************100%***********************]  1 of 1 completed\n"
     ]
    },
    {
     "name": "stdout",
     "output_type": "stream",
     "text": [
      "196. FITB 주식의 일별 가격 정보가 'FITB_daily_prices.csv' 파일에 저장되었습니다.\n",
      "Downloading data for FSLR\n"
     ]
    },
    {
     "name": "stderr",
     "output_type": "stream",
     "text": [
      "[*********************100%***********************]  1 of 1 completed\n"
     ]
    },
    {
     "name": "stdout",
     "output_type": "stream",
     "text": [
      "197. FSLR 주식의 일별 가격 정보가 'FSLR_daily_prices.csv' 파일에 저장되었습니다.\n",
      "Downloading data for FE\n"
     ]
    },
    {
     "name": "stderr",
     "output_type": "stream",
     "text": [
      "[*********************100%***********************]  1 of 1 completed\n"
     ]
    },
    {
     "name": "stdout",
     "output_type": "stream",
     "text": [
      "198. FE 주식의 일별 가격 정보가 'FE_daily_prices.csv' 파일에 저장되었습니다.\n",
      "Downloading data for FI\n"
     ]
    },
    {
     "name": "stderr",
     "output_type": "stream",
     "text": [
      "[*********************100%***********************]  1 of 1 completed\n"
     ]
    },
    {
     "name": "stdout",
     "output_type": "stream",
     "text": [
      "199. FI 주식의 일별 가격 정보가 'FI_daily_prices.csv' 파일에 저장되었습니다.\n",
      "Downloading data for FMC\n"
     ]
    },
    {
     "name": "stderr",
     "output_type": "stream",
     "text": [
      "[*********************100%***********************]  1 of 1 completed\n"
     ]
    },
    {
     "name": "stdout",
     "output_type": "stream",
     "text": [
      "200. FMC 주식의 일별 가격 정보가 'FMC_daily_prices.csv' 파일에 저장되었습니다.\n",
      "Downloading data for F\n"
     ]
    },
    {
     "name": "stderr",
     "output_type": "stream",
     "text": [
      "[*********************100%***********************]  1 of 1 completed\n"
     ]
    },
    {
     "name": "stdout",
     "output_type": "stream",
     "text": [
      "201. F 주식의 일별 가격 정보가 'F_daily_prices.csv' 파일에 저장되었습니다.\n",
      "Downloading data for FTNT\n"
     ]
    },
    {
     "name": "stderr",
     "output_type": "stream",
     "text": [
      "[*********************100%***********************]  1 of 1 completed\n"
     ]
    },
    {
     "name": "stdout",
     "output_type": "stream",
     "text": [
      "202. FTNT 주식의 일별 가격 정보가 'FTNT_daily_prices.csv' 파일에 저장되었습니다.\n",
      "Downloading data for FTV\n"
     ]
    },
    {
     "name": "stderr",
     "output_type": "stream",
     "text": [
      "[*********************100%***********************]  1 of 1 completed\n",
      "[*********************100%***********************]  1 of 1 completed"
     ]
    },
    {
     "name": "stdout",
     "output_type": "stream",
     "text": [
      "203. FTV 주식의 일별 가격 정보가 'FTV_daily_prices.csv' 파일에 저장되었습니다.\n",
      "Downloading data for FOXA\n"
     ]
    },
    {
     "name": "stderr",
     "output_type": "stream",
     "text": [
      "\n"
     ]
    },
    {
     "name": "stdout",
     "output_type": "stream",
     "text": [
      "204. FOXA 주식의 일별 가격 정보가 'FOXA_daily_prices.csv' 파일에 저장되었습니다.\n",
      "Downloading data for FOX\n"
     ]
    },
    {
     "name": "stderr",
     "output_type": "stream",
     "text": [
      "[*********************100%***********************]  1 of 1 completed\n"
     ]
    },
    {
     "name": "stdout",
     "output_type": "stream",
     "text": [
      "205. FOX 주식의 일별 가격 정보가 'FOX_daily_prices.csv' 파일에 저장되었습니다.\n",
      "Downloading data for BEN\n"
     ]
    },
    {
     "name": "stderr",
     "output_type": "stream",
     "text": [
      "[*********************100%***********************]  1 of 1 completed\n"
     ]
    },
    {
     "name": "stdout",
     "output_type": "stream",
     "text": [
      "206. BEN 주식의 일별 가격 정보가 'BEN_daily_prices.csv' 파일에 저장되었습니다.\n",
      "Downloading data for FCX\n"
     ]
    },
    {
     "name": "stderr",
     "output_type": "stream",
     "text": [
      "[*********************100%***********************]  1 of 1 completed\n"
     ]
    },
    {
     "name": "stdout",
     "output_type": "stream",
     "text": [
      "207. FCX 주식의 일별 가격 정보가 'FCX_daily_prices.csv' 파일에 저장되었습니다.\n",
      "Downloading data for GRMN\n"
     ]
    },
    {
     "name": "stderr",
     "output_type": "stream",
     "text": [
      "[*********************100%***********************]  1 of 1 completed\n"
     ]
    },
    {
     "name": "stdout",
     "output_type": "stream",
     "text": [
      "208. GRMN 주식의 일별 가격 정보가 'GRMN_daily_prices.csv' 파일에 저장되었습니다.\n",
      "Downloading data for IT\n"
     ]
    },
    {
     "name": "stderr",
     "output_type": "stream",
     "text": [
      "[*********************100%***********************]  1 of 1 completed\n"
     ]
    },
    {
     "name": "stdout",
     "output_type": "stream",
     "text": [
      "209. IT 주식의 일별 가격 정보가 'IT_daily_prices.csv' 파일에 저장되었습니다.\n",
      "Downloading data for GE\n"
     ]
    },
    {
     "name": "stderr",
     "output_type": "stream",
     "text": [
      "[*********************100%***********************]  1 of 1 completed\n"
     ]
    },
    {
     "name": "stdout",
     "output_type": "stream",
     "text": [
      "210. GE 주식의 일별 가격 정보가 'GE_daily_prices.csv' 파일에 저장되었습니다.\n",
      "Downloading data for GEHC\n"
     ]
    },
    {
     "name": "stderr",
     "output_type": "stream",
     "text": [
      "[*********************100%***********************]  1 of 1 completed\n",
      "[*********************100%***********************]  1 of 1 completed\n"
     ]
    },
    {
     "name": "stdout",
     "output_type": "stream",
     "text": [
      "211. GEHC 주식의 일별 가격 정보가 'GEHC_daily_prices.csv' 파일에 저장되었습니다.\n",
      "Downloading data for GEV\n",
      "212. GEV 주식의 일별 가격 정보가 'GEV_daily_prices.csv' 파일에 저장되었습니다.\n",
      "Downloading data for GEN\n"
     ]
    },
    {
     "name": "stderr",
     "output_type": "stream",
     "text": [
      "[*********************100%***********************]  1 of 1 completed\n"
     ]
    },
    {
     "name": "stdout",
     "output_type": "stream",
     "text": [
      "213. GEN 주식의 일별 가격 정보가 'GEN_daily_prices.csv' 파일에 저장되었습니다.\n",
      "Downloading data for GNRC\n"
     ]
    },
    {
     "name": "stderr",
     "output_type": "stream",
     "text": [
      "[*********************100%***********************]  1 of 1 completed\n"
     ]
    },
    {
     "name": "stdout",
     "output_type": "stream",
     "text": [
      "214. GNRC 주식의 일별 가격 정보가 'GNRC_daily_prices.csv' 파일에 저장되었습니다.\n",
      "Downloading data for GD\n"
     ]
    },
    {
     "name": "stderr",
     "output_type": "stream",
     "text": [
      "[*********************100%***********************]  1 of 1 completed\n"
     ]
    },
    {
     "name": "stdout",
     "output_type": "stream",
     "text": [
      "215. GD 주식의 일별 가격 정보가 'GD_daily_prices.csv' 파일에 저장되었습니다.\n",
      "Downloading data for GIS\n"
     ]
    },
    {
     "name": "stderr",
     "output_type": "stream",
     "text": [
      "[*********************100%***********************]  1 of 1 completed\n"
     ]
    },
    {
     "name": "stdout",
     "output_type": "stream",
     "text": [
      "216. GIS 주식의 일별 가격 정보가 'GIS_daily_prices.csv' 파일에 저장되었습니다.\n",
      "Downloading data for GM\n"
     ]
    },
    {
     "name": "stderr",
     "output_type": "stream",
     "text": [
      "[*********************100%***********************]  1 of 1 completed\n"
     ]
    },
    {
     "name": "stdout",
     "output_type": "stream",
     "text": [
      "217. GM 주식의 일별 가격 정보가 'GM_daily_prices.csv' 파일에 저장되었습니다.\n",
      "Downloading data for GPC\n"
     ]
    },
    {
     "name": "stderr",
     "output_type": "stream",
     "text": [
      "[*********************100%***********************]  1 of 1 completed\n"
     ]
    },
    {
     "name": "stdout",
     "output_type": "stream",
     "text": [
      "218. GPC 주식의 일별 가격 정보가 'GPC_daily_prices.csv' 파일에 저장되었습니다.\n",
      "Downloading data for GILD\n"
     ]
    },
    {
     "name": "stderr",
     "output_type": "stream",
     "text": [
      "[*********************100%***********************]  1 of 1 completed\n"
     ]
    },
    {
     "name": "stdout",
     "output_type": "stream",
     "text": [
      "219. GILD 주식의 일별 가격 정보가 'GILD_daily_prices.csv' 파일에 저장되었습니다.\n",
      "Downloading data for GPN\n"
     ]
    },
    {
     "name": "stderr",
     "output_type": "stream",
     "text": [
      "[*********************100%***********************]  1 of 1 completed\n"
     ]
    },
    {
     "name": "stdout",
     "output_type": "stream",
     "text": [
      "220. GPN 주식의 일별 가격 정보가 'GPN_daily_prices.csv' 파일에 저장되었습니다.\n",
      "Downloading data for GL\n"
     ]
    },
    {
     "name": "stderr",
     "output_type": "stream",
     "text": [
      "[*********************100%***********************]  1 of 1 completed\n"
     ]
    },
    {
     "name": "stdout",
     "output_type": "stream",
     "text": [
      "221. GL 주식의 일별 가격 정보가 'GL_daily_prices.csv' 파일에 저장되었습니다.\n",
      "Downloading data for GDDY\n"
     ]
    },
    {
     "name": "stderr",
     "output_type": "stream",
     "text": [
      "[*********************100%***********************]  1 of 1 completed\n"
     ]
    },
    {
     "name": "stdout",
     "output_type": "stream",
     "text": [
      "222. GDDY 주식의 일별 가격 정보가 'GDDY_daily_prices.csv' 파일에 저장되었습니다.\n",
      "Downloading data for GS\n"
     ]
    },
    {
     "name": "stderr",
     "output_type": "stream",
     "text": [
      "[*********************100%***********************]  1 of 1 completed\n"
     ]
    },
    {
     "name": "stdout",
     "output_type": "stream",
     "text": [
      "223. GS 주식의 일별 가격 정보가 'GS_daily_prices.csv' 파일에 저장되었습니다.\n",
      "Downloading data for HAL\n"
     ]
    },
    {
     "name": "stderr",
     "output_type": "stream",
     "text": [
      "[*********************100%***********************]  1 of 1 completed\n"
     ]
    },
    {
     "name": "stdout",
     "output_type": "stream",
     "text": [
      "224. HAL 주식의 일별 가격 정보가 'HAL_daily_prices.csv' 파일에 저장되었습니다.\n",
      "Downloading data for HIG\n"
     ]
    },
    {
     "name": "stderr",
     "output_type": "stream",
     "text": [
      "[*********************100%***********************]  1 of 1 completed\n"
     ]
    },
    {
     "name": "stdout",
     "output_type": "stream",
     "text": [
      "225. HIG 주식의 일별 가격 정보가 'HIG_daily_prices.csv' 파일에 저장되었습니다.\n",
      "Downloading data for HAS\n"
     ]
    },
    {
     "name": "stderr",
     "output_type": "stream",
     "text": [
      "[*********************100%***********************]  1 of 1 completed\n"
     ]
    },
    {
     "name": "stdout",
     "output_type": "stream",
     "text": [
      "226. HAS 주식의 일별 가격 정보가 'HAS_daily_prices.csv' 파일에 저장되었습니다.\n",
      "Downloading data for HCA\n"
     ]
    },
    {
     "name": "stderr",
     "output_type": "stream",
     "text": [
      "[*********************100%***********************]  1 of 1 completed\n"
     ]
    },
    {
     "name": "stdout",
     "output_type": "stream",
     "text": [
      "227. HCA 주식의 일별 가격 정보가 'HCA_daily_prices.csv' 파일에 저장되었습니다.\n",
      "Downloading data for DOC\n"
     ]
    },
    {
     "name": "stderr",
     "output_type": "stream",
     "text": [
      "[*********************100%***********************]  1 of 1 completed\n"
     ]
    },
    {
     "name": "stdout",
     "output_type": "stream",
     "text": [
      "228. DOC 주식의 일별 가격 정보가 'DOC_daily_prices.csv' 파일에 저장되었습니다.\n",
      "Downloading data for HSIC\n"
     ]
    },
    {
     "name": "stderr",
     "output_type": "stream",
     "text": [
      "[*********************100%***********************]  1 of 1 completed\n"
     ]
    },
    {
     "name": "stdout",
     "output_type": "stream",
     "text": [
      "229. HSIC 주식의 일별 가격 정보가 'HSIC_daily_prices.csv' 파일에 저장되었습니다.\n",
      "Downloading data for HSY\n"
     ]
    },
    {
     "name": "stderr",
     "output_type": "stream",
     "text": [
      "[*********************100%***********************]  1 of 1 completed\n"
     ]
    },
    {
     "name": "stdout",
     "output_type": "stream",
     "text": [
      "230. HSY 주식의 일별 가격 정보가 'HSY_daily_prices.csv' 파일에 저장되었습니다.\n",
      "Downloading data for HES\n"
     ]
    },
    {
     "name": "stderr",
     "output_type": "stream",
     "text": [
      "[*********************100%***********************]  1 of 1 completed\n"
     ]
    },
    {
     "name": "stdout",
     "output_type": "stream",
     "text": [
      "231. HES 주식의 일별 가격 정보가 'HES_daily_prices.csv' 파일에 저장되었습니다.\n",
      "Downloading data for HPE\n"
     ]
    },
    {
     "name": "stderr",
     "output_type": "stream",
     "text": [
      "[*********************100%***********************]  1 of 1 completed\n"
     ]
    },
    {
     "name": "stdout",
     "output_type": "stream",
     "text": [
      "232. HPE 주식의 일별 가격 정보가 'HPE_daily_prices.csv' 파일에 저장되었습니다.\n",
      "Downloading data for HLT\n"
     ]
    },
    {
     "name": "stderr",
     "output_type": "stream",
     "text": [
      "[*********************100%***********************]  1 of 1 completed\n"
     ]
    },
    {
     "name": "stdout",
     "output_type": "stream",
     "text": [
      "233. HLT 주식의 일별 가격 정보가 'HLT_daily_prices.csv' 파일에 저장되었습니다.\n",
      "Downloading data for HOLX\n"
     ]
    },
    {
     "name": "stderr",
     "output_type": "stream",
     "text": [
      "[*********************100%***********************]  1 of 1 completed\n"
     ]
    },
    {
     "name": "stdout",
     "output_type": "stream",
     "text": [
      "234. HOLX 주식의 일별 가격 정보가 'HOLX_daily_prices.csv' 파일에 저장되었습니다.\n",
      "Downloading data for HD\n"
     ]
    },
    {
     "name": "stderr",
     "output_type": "stream",
     "text": [
      "[*********************100%***********************]  1 of 1 completed\n"
     ]
    },
    {
     "name": "stdout",
     "output_type": "stream",
     "text": [
      "235. HD 주식의 일별 가격 정보가 'HD_daily_prices.csv' 파일에 저장되었습니다.\n",
      "Downloading data for HON\n"
     ]
    },
    {
     "name": "stderr",
     "output_type": "stream",
     "text": [
      "[*********************100%***********************]  1 of 1 completed\n"
     ]
    },
    {
     "name": "stdout",
     "output_type": "stream",
     "text": [
      "236. HON 주식의 일별 가격 정보가 'HON_daily_prices.csv' 파일에 저장되었습니다.\n",
      "Downloading data for HRL\n"
     ]
    },
    {
     "name": "stderr",
     "output_type": "stream",
     "text": [
      "[*********************100%***********************]  1 of 1 completed\n"
     ]
    },
    {
     "name": "stdout",
     "output_type": "stream",
     "text": [
      "237. HRL 주식의 일별 가격 정보가 'HRL_daily_prices.csv' 파일에 저장되었습니다.\n",
      "Downloading data for HST\n"
     ]
    },
    {
     "name": "stderr",
     "output_type": "stream",
     "text": [
      "[*********************100%***********************]  1 of 1 completed\n"
     ]
    },
    {
     "name": "stdout",
     "output_type": "stream",
     "text": [
      "238. HST 주식의 일별 가격 정보가 'HST_daily_prices.csv' 파일에 저장되었습니다.\n",
      "Downloading data for HWM\n"
     ]
    },
    {
     "name": "stderr",
     "output_type": "stream",
     "text": [
      "[*********************100%***********************]  1 of 1 completed\n"
     ]
    },
    {
     "name": "stdout",
     "output_type": "stream",
     "text": [
      "239. HWM 주식의 일별 가격 정보가 'HWM_daily_prices.csv' 파일에 저장되었습니다.\n",
      "Downloading data for HPQ\n"
     ]
    },
    {
     "name": "stderr",
     "output_type": "stream",
     "text": [
      "[*********************100%***********************]  1 of 1 completed\n"
     ]
    },
    {
     "name": "stdout",
     "output_type": "stream",
     "text": [
      "240. HPQ 주식의 일별 가격 정보가 'HPQ_daily_prices.csv' 파일에 저장되었습니다.\n",
      "Downloading data for HUBB\n"
     ]
    },
    {
     "name": "stderr",
     "output_type": "stream",
     "text": [
      "[*********************100%***********************]  1 of 1 completed\n"
     ]
    },
    {
     "name": "stdout",
     "output_type": "stream",
     "text": [
      "241. HUBB 주식의 일별 가격 정보가 'HUBB_daily_prices.csv' 파일에 저장되었습니다.\n",
      "Downloading data for HUM\n"
     ]
    },
    {
     "name": "stderr",
     "output_type": "stream",
     "text": [
      "[*********************100%***********************]  1 of 1 completed\n"
     ]
    },
    {
     "name": "stdout",
     "output_type": "stream",
     "text": [
      "242. HUM 주식의 일별 가격 정보가 'HUM_daily_prices.csv' 파일에 저장되었습니다.\n",
      "Downloading data for HBAN\n"
     ]
    },
    {
     "name": "stderr",
     "output_type": "stream",
     "text": [
      "[*********************100%***********************]  1 of 1 completed\n"
     ]
    },
    {
     "name": "stdout",
     "output_type": "stream",
     "text": [
      "243. HBAN 주식의 일별 가격 정보가 'HBAN_daily_prices.csv' 파일에 저장되었습니다.\n",
      "Downloading data for HII\n"
     ]
    },
    {
     "name": "stderr",
     "output_type": "stream",
     "text": [
      "[*********************100%***********************]  1 of 1 completed\n"
     ]
    },
    {
     "name": "stdout",
     "output_type": "stream",
     "text": [
      "244. HII 주식의 일별 가격 정보가 'HII_daily_prices.csv' 파일에 저장되었습니다.\n",
      "Downloading data for IBM\n"
     ]
    },
    {
     "name": "stderr",
     "output_type": "stream",
     "text": [
      "[*********************100%***********************]  1 of 1 completed\n"
     ]
    },
    {
     "name": "stdout",
     "output_type": "stream",
     "text": [
      "245. IBM 주식의 일별 가격 정보가 'IBM_daily_prices.csv' 파일에 저장되었습니다.\n",
      "Downloading data for IEX\n"
     ]
    },
    {
     "name": "stderr",
     "output_type": "stream",
     "text": [
      "[*********************100%***********************]  1 of 1 completed\n"
     ]
    },
    {
     "name": "stdout",
     "output_type": "stream",
     "text": [
      "246. IEX 주식의 일별 가격 정보가 'IEX_daily_prices.csv' 파일에 저장되었습니다.\n",
      "Downloading data for IDXX\n"
     ]
    },
    {
     "name": "stderr",
     "output_type": "stream",
     "text": [
      "[*********************100%***********************]  1 of 1 completed\n"
     ]
    },
    {
     "name": "stdout",
     "output_type": "stream",
     "text": [
      "247. IDXX 주식의 일별 가격 정보가 'IDXX_daily_prices.csv' 파일에 저장되었습니다.\n",
      "Downloading data for ITW\n"
     ]
    },
    {
     "name": "stderr",
     "output_type": "stream",
     "text": [
      "[*********************100%***********************]  1 of 1 completed\n"
     ]
    },
    {
     "name": "stdout",
     "output_type": "stream",
     "text": [
      "248. ITW 주식의 일별 가격 정보가 'ITW_daily_prices.csv' 파일에 저장되었습니다.\n",
      "Downloading data for INCY\n"
     ]
    },
    {
     "name": "stderr",
     "output_type": "stream",
     "text": [
      "[*********************100%***********************]  1 of 1 completed\n",
      "[*********************100%***********************]  1 of 1 completed"
     ]
    },
    {
     "name": "stdout",
     "output_type": "stream",
     "text": [
      "249. INCY 주식의 일별 가격 정보가 'INCY_daily_prices.csv' 파일에 저장되었습니다.\n",
      "Downloading data for IR\n"
     ]
    },
    {
     "name": "stderr",
     "output_type": "stream",
     "text": [
      "\n"
     ]
    },
    {
     "name": "stdout",
     "output_type": "stream",
     "text": [
      "250. IR 주식의 일별 가격 정보가 'IR_daily_prices.csv' 파일에 저장되었습니다.\n",
      "Downloading data for PODD\n"
     ]
    },
    {
     "name": "stderr",
     "output_type": "stream",
     "text": [
      "[*********************100%***********************]  1 of 1 completed\n"
     ]
    },
    {
     "name": "stdout",
     "output_type": "stream",
     "text": [
      "251. PODD 주식의 일별 가격 정보가 'PODD_daily_prices.csv' 파일에 저장되었습니다.\n",
      "Downloading data for INTC\n"
     ]
    },
    {
     "name": "stderr",
     "output_type": "stream",
     "text": [
      "[*********************100%***********************]  1 of 1 completed\n"
     ]
    },
    {
     "name": "stdout",
     "output_type": "stream",
     "text": [
      "252. INTC 주식의 일별 가격 정보가 'INTC_daily_prices.csv' 파일에 저장되었습니다.\n",
      "Downloading data for ICE\n"
     ]
    },
    {
     "name": "stderr",
     "output_type": "stream",
     "text": [
      "[*********************100%***********************]  1 of 1 completed\n"
     ]
    },
    {
     "name": "stdout",
     "output_type": "stream",
     "text": [
      "253. ICE 주식의 일별 가격 정보가 'ICE_daily_prices.csv' 파일에 저장되었습니다.\n",
      "Downloading data for IFF\n"
     ]
    },
    {
     "name": "stderr",
     "output_type": "stream",
     "text": [
      "[*********************100%***********************]  1 of 1 completed\n"
     ]
    },
    {
     "name": "stdout",
     "output_type": "stream",
     "text": [
      "254. IFF 주식의 일별 가격 정보가 'IFF_daily_prices.csv' 파일에 저장되었습니다.\n",
      "Downloading data for IP\n"
     ]
    },
    {
     "name": "stderr",
     "output_type": "stream",
     "text": [
      "[*********************100%***********************]  1 of 1 completed\n"
     ]
    },
    {
     "name": "stdout",
     "output_type": "stream",
     "text": [
      "255. IP 주식의 일별 가격 정보가 'IP_daily_prices.csv' 파일에 저장되었습니다.\n",
      "Downloading data for IPG\n"
     ]
    },
    {
     "name": "stderr",
     "output_type": "stream",
     "text": [
      "[*********************100%***********************]  1 of 1 completed\n"
     ]
    },
    {
     "name": "stdout",
     "output_type": "stream",
     "text": [
      "256. IPG 주식의 일별 가격 정보가 'IPG_daily_prices.csv' 파일에 저장되었습니다.\n",
      "Downloading data for INTU\n"
     ]
    },
    {
     "name": "stderr",
     "output_type": "stream",
     "text": [
      "[*********************100%***********************]  1 of 1 completed\n"
     ]
    },
    {
     "name": "stdout",
     "output_type": "stream",
     "text": [
      "257. INTU 주식의 일별 가격 정보가 'INTU_daily_prices.csv' 파일에 저장되었습니다.\n",
      "Downloading data for ISRG\n"
     ]
    },
    {
     "name": "stderr",
     "output_type": "stream",
     "text": [
      "[*********************100%***********************]  1 of 1 completed\n"
     ]
    },
    {
     "name": "stdout",
     "output_type": "stream",
     "text": [
      "258. ISRG 주식의 일별 가격 정보가 'ISRG_daily_prices.csv' 파일에 저장되었습니다.\n",
      "Downloading data for IVZ\n"
     ]
    },
    {
     "name": "stderr",
     "output_type": "stream",
     "text": [
      "[*********************100%***********************]  1 of 1 completed\n"
     ]
    },
    {
     "name": "stdout",
     "output_type": "stream",
     "text": [
      "259. IVZ 주식의 일별 가격 정보가 'IVZ_daily_prices.csv' 파일에 저장되었습니다.\n",
      "Downloading data for INVH\n"
     ]
    },
    {
     "name": "stderr",
     "output_type": "stream",
     "text": [
      "[*********************100%***********************]  1 of 1 completed\n"
     ]
    },
    {
     "name": "stdout",
     "output_type": "stream",
     "text": [
      "260. INVH 주식의 일별 가격 정보가 'INVH_daily_prices.csv' 파일에 저장되었습니다.\n",
      "Downloading data for IQV\n"
     ]
    },
    {
     "name": "stderr",
     "output_type": "stream",
     "text": [
      "[*********************100%***********************]  1 of 1 completed\n"
     ]
    },
    {
     "name": "stdout",
     "output_type": "stream",
     "text": [
      "261. IQV 주식의 일별 가격 정보가 'IQV_daily_prices.csv' 파일에 저장되었습니다.\n",
      "Downloading data for IRM\n"
     ]
    },
    {
     "name": "stderr",
     "output_type": "stream",
     "text": [
      "[*********************100%***********************]  1 of 1 completed\n"
     ]
    },
    {
     "name": "stdout",
     "output_type": "stream",
     "text": [
      "262. IRM 주식의 일별 가격 정보가 'IRM_daily_prices.csv' 파일에 저장되었습니다.\n",
      "Downloading data for JBHT\n"
     ]
    },
    {
     "name": "stderr",
     "output_type": "stream",
     "text": [
      "[*********************100%***********************]  1 of 1 completed\n"
     ]
    },
    {
     "name": "stdout",
     "output_type": "stream",
     "text": [
      "263. JBHT 주식의 일별 가격 정보가 'JBHT_daily_prices.csv' 파일에 저장되었습니다.\n",
      "Downloading data for JBL\n"
     ]
    },
    {
     "name": "stderr",
     "output_type": "stream",
     "text": [
      "[*********************100%***********************]  1 of 1 completed\n"
     ]
    },
    {
     "name": "stdout",
     "output_type": "stream",
     "text": [
      "264. JBL 주식의 일별 가격 정보가 'JBL_daily_prices.csv' 파일에 저장되었습니다.\n",
      "Downloading data for JKHY\n"
     ]
    },
    {
     "name": "stderr",
     "output_type": "stream",
     "text": [
      "[*********************100%***********************]  1 of 1 completed\n"
     ]
    },
    {
     "name": "stdout",
     "output_type": "stream",
     "text": [
      "265. JKHY 주식의 일별 가격 정보가 'JKHY_daily_prices.csv' 파일에 저장되었습니다.\n",
      "Downloading data for J\n"
     ]
    },
    {
     "name": "stderr",
     "output_type": "stream",
     "text": [
      "[*********************100%***********************]  1 of 1 completed\n"
     ]
    },
    {
     "name": "stdout",
     "output_type": "stream",
     "text": [
      "266. J 주식의 일별 가격 정보가 'J_daily_prices.csv' 파일에 저장되었습니다.\n",
      "Downloading data for JNJ\n"
     ]
    },
    {
     "name": "stderr",
     "output_type": "stream",
     "text": [
      "[*********************100%***********************]  1 of 1 completed\n"
     ]
    },
    {
     "name": "stdout",
     "output_type": "stream",
     "text": [
      "267. JNJ 주식의 일별 가격 정보가 'JNJ_daily_prices.csv' 파일에 저장되었습니다.\n",
      "Downloading data for JCI\n"
     ]
    },
    {
     "name": "stderr",
     "output_type": "stream",
     "text": [
      "[*********************100%***********************]  1 of 1 completed\n"
     ]
    },
    {
     "name": "stdout",
     "output_type": "stream",
     "text": [
      "268. JCI 주식의 일별 가격 정보가 'JCI_daily_prices.csv' 파일에 저장되었습니다.\n",
      "Downloading data for JPM\n"
     ]
    },
    {
     "name": "stderr",
     "output_type": "stream",
     "text": [
      "[*********************100%***********************]  1 of 1 completed\n"
     ]
    },
    {
     "name": "stdout",
     "output_type": "stream",
     "text": [
      "269. JPM 주식의 일별 가격 정보가 'JPM_daily_prices.csv' 파일에 저장되었습니다.\n",
      "Downloading data for JNPR\n"
     ]
    },
    {
     "name": "stderr",
     "output_type": "stream",
     "text": [
      "[*********************100%***********************]  1 of 1 completed\n"
     ]
    },
    {
     "name": "stdout",
     "output_type": "stream",
     "text": [
      "270. JNPR 주식의 일별 가격 정보가 'JNPR_daily_prices.csv' 파일에 저장되었습니다.\n",
      "Downloading data for K\n"
     ]
    },
    {
     "name": "stderr",
     "output_type": "stream",
     "text": [
      "[*********************100%***********************]  1 of 1 completed\n",
      "[*********************100%***********************]  1 of 1 completed"
     ]
    },
    {
     "name": "stdout",
     "output_type": "stream",
     "text": [
      "271. K 주식의 일별 가격 정보가 'K_daily_prices.csv' 파일에 저장되었습니다.\n",
      "Downloading data for KVUE\n",
      "272. KVUE 주식의 일별 가격 정보가 'KVUE_daily_prices.csv' 파일에 저장되었습니다.\n",
      "Downloading data for KDP\n"
     ]
    },
    {
     "name": "stderr",
     "output_type": "stream",
     "text": [
      "\n",
      "[*********************100%***********************]  1 of 1 completed\n"
     ]
    },
    {
     "name": "stdout",
     "output_type": "stream",
     "text": [
      "273. KDP 주식의 일별 가격 정보가 'KDP_daily_prices.csv' 파일에 저장되었습니다.\n",
      "Downloading data for KEY\n"
     ]
    },
    {
     "name": "stderr",
     "output_type": "stream",
     "text": [
      "[*********************100%***********************]  1 of 1 completed\n"
     ]
    },
    {
     "name": "stdout",
     "output_type": "stream",
     "text": [
      "274. KEY 주식의 일별 가격 정보가 'KEY_daily_prices.csv' 파일에 저장되었습니다.\n",
      "Downloading data for KEYS\n"
     ]
    },
    {
     "name": "stderr",
     "output_type": "stream",
     "text": [
      "[*********************100%***********************]  1 of 1 completed\n"
     ]
    },
    {
     "name": "stdout",
     "output_type": "stream",
     "text": [
      "275. KEYS 주식의 일별 가격 정보가 'KEYS_daily_prices.csv' 파일에 저장되었습니다.\n",
      "Downloading data for KMB\n"
     ]
    },
    {
     "name": "stderr",
     "output_type": "stream",
     "text": [
      "[*********************100%***********************]  1 of 1 completed\n"
     ]
    },
    {
     "name": "stdout",
     "output_type": "stream",
     "text": [
      "276. KMB 주식의 일별 가격 정보가 'KMB_daily_prices.csv' 파일에 저장되었습니다.\n",
      "Downloading data for KIM\n"
     ]
    },
    {
     "name": "stderr",
     "output_type": "stream",
     "text": [
      "[*********************100%***********************]  1 of 1 completed\n"
     ]
    },
    {
     "name": "stdout",
     "output_type": "stream",
     "text": [
      "277. KIM 주식의 일별 가격 정보가 'KIM_daily_prices.csv' 파일에 저장되었습니다.\n",
      "Downloading data for KMI\n"
     ]
    },
    {
     "name": "stderr",
     "output_type": "stream",
     "text": [
      "[*********************100%***********************]  1 of 1 completed\n"
     ]
    },
    {
     "name": "stdout",
     "output_type": "stream",
     "text": [
      "278. KMI 주식의 일별 가격 정보가 'KMI_daily_prices.csv' 파일에 저장되었습니다.\n",
      "Downloading data for KKR\n"
     ]
    },
    {
     "name": "stderr",
     "output_type": "stream",
     "text": [
      "[*********************100%***********************]  1 of 1 completed\n"
     ]
    },
    {
     "name": "stdout",
     "output_type": "stream",
     "text": [
      "279. KKR 주식의 일별 가격 정보가 'KKR_daily_prices.csv' 파일에 저장되었습니다.\n",
      "Downloading data for KLAC\n"
     ]
    },
    {
     "name": "stderr",
     "output_type": "stream",
     "text": [
      "[*********************100%***********************]  1 of 1 completed\n"
     ]
    },
    {
     "name": "stdout",
     "output_type": "stream",
     "text": [
      "280. KLAC 주식의 일별 가격 정보가 'KLAC_daily_prices.csv' 파일에 저장되었습니다.\n",
      "Downloading data for KHC\n"
     ]
    },
    {
     "name": "stderr",
     "output_type": "stream",
     "text": [
      "[*********************100%***********************]  1 of 1 completed\n"
     ]
    },
    {
     "name": "stdout",
     "output_type": "stream",
     "text": [
      "281. KHC 주식의 일별 가격 정보가 'KHC_daily_prices.csv' 파일에 저장되었습니다.\n",
      "Downloading data for KR\n"
     ]
    },
    {
     "name": "stderr",
     "output_type": "stream",
     "text": [
      "[*********************100%***********************]  1 of 1 completed\n"
     ]
    },
    {
     "name": "stdout",
     "output_type": "stream",
     "text": [
      "282. KR 주식의 일별 가격 정보가 'KR_daily_prices.csv' 파일에 저장되었습니다.\n",
      "Downloading data for LHX\n"
     ]
    },
    {
     "name": "stderr",
     "output_type": "stream",
     "text": [
      "[*********************100%***********************]  1 of 1 completed\n"
     ]
    },
    {
     "name": "stdout",
     "output_type": "stream",
     "text": [
      "283. LHX 주식의 일별 가격 정보가 'LHX_daily_prices.csv' 파일에 저장되었습니다.\n",
      "Downloading data for LH\n"
     ]
    },
    {
     "name": "stderr",
     "output_type": "stream",
     "text": [
      "[*********************100%***********************]  1 of 1 completed\n"
     ]
    },
    {
     "name": "stdout",
     "output_type": "stream",
     "text": [
      "284. LH 주식의 일별 가격 정보가 'LH_daily_prices.csv' 파일에 저장되었습니다.\n",
      "Downloading data for LRCX\n"
     ]
    },
    {
     "name": "stderr",
     "output_type": "stream",
     "text": [
      "[*********************100%***********************]  1 of 1 completed\n"
     ]
    },
    {
     "name": "stdout",
     "output_type": "stream",
     "text": [
      "285. LRCX 주식의 일별 가격 정보가 'LRCX_daily_prices.csv' 파일에 저장되었습니다.\n",
      "Downloading data for LW\n"
     ]
    },
    {
     "name": "stderr",
     "output_type": "stream",
     "text": [
      "[*********************100%***********************]  1 of 1 completed\n"
     ]
    },
    {
     "name": "stdout",
     "output_type": "stream",
     "text": [
      "286. LW 주식의 일별 가격 정보가 'LW_daily_prices.csv' 파일에 저장되었습니다.\n",
      "Downloading data for LVS\n"
     ]
    },
    {
     "name": "stderr",
     "output_type": "stream",
     "text": [
      "[*********************100%***********************]  1 of 1 completed\n"
     ]
    },
    {
     "name": "stdout",
     "output_type": "stream",
     "text": [
      "287. LVS 주식의 일별 가격 정보가 'LVS_daily_prices.csv' 파일에 저장되었습니다.\n",
      "Downloading data for LDOS\n"
     ]
    },
    {
     "name": "stderr",
     "output_type": "stream",
     "text": [
      "[*********************100%***********************]  1 of 1 completed\n"
     ]
    },
    {
     "name": "stdout",
     "output_type": "stream",
     "text": [
      "288. LDOS 주식의 일별 가격 정보가 'LDOS_daily_prices.csv' 파일에 저장되었습니다.\n",
      "Downloading data for LEN\n"
     ]
    },
    {
     "name": "stderr",
     "output_type": "stream",
     "text": [
      "[*********************100%***********************]  1 of 1 completed\n"
     ]
    },
    {
     "name": "stdout",
     "output_type": "stream",
     "text": [
      "289. LEN 주식의 일별 가격 정보가 'LEN_daily_prices.csv' 파일에 저장되었습니다.\n",
      "Downloading data for LLY\n"
     ]
    },
    {
     "name": "stderr",
     "output_type": "stream",
     "text": [
      "[*********************100%***********************]  1 of 1 completed\n"
     ]
    },
    {
     "name": "stdout",
     "output_type": "stream",
     "text": [
      "290. LLY 주식의 일별 가격 정보가 'LLY_daily_prices.csv' 파일에 저장되었습니다.\n",
      "Downloading data for LIN\n"
     ]
    },
    {
     "name": "stderr",
     "output_type": "stream",
     "text": [
      "[*********************100%***********************]  1 of 1 completed\n"
     ]
    },
    {
     "name": "stdout",
     "output_type": "stream",
     "text": [
      "291. LIN 주식의 일별 가격 정보가 'LIN_daily_prices.csv' 파일에 저장되었습니다.\n",
      "Downloading data for LYV\n"
     ]
    },
    {
     "name": "stderr",
     "output_type": "stream",
     "text": [
      "[*********************100%***********************]  1 of 1 completed\n"
     ]
    },
    {
     "name": "stdout",
     "output_type": "stream",
     "text": [
      "292. LYV 주식의 일별 가격 정보가 'LYV_daily_prices.csv' 파일에 저장되었습니다.\n",
      "Downloading data for LKQ\n"
     ]
    },
    {
     "name": "stderr",
     "output_type": "stream",
     "text": [
      "[*********************100%***********************]  1 of 1 completed\n"
     ]
    },
    {
     "name": "stdout",
     "output_type": "stream",
     "text": [
      "293. LKQ 주식의 일별 가격 정보가 'LKQ_daily_prices.csv' 파일에 저장되었습니다.\n",
      "Downloading data for LMT\n"
     ]
    },
    {
     "name": "stderr",
     "output_type": "stream",
     "text": [
      "[*********************100%***********************]  1 of 1 completed\n"
     ]
    },
    {
     "name": "stdout",
     "output_type": "stream",
     "text": [
      "294. LMT 주식의 일별 가격 정보가 'LMT_daily_prices.csv' 파일에 저장되었습니다.\n",
      "Downloading data for L\n"
     ]
    },
    {
     "name": "stderr",
     "output_type": "stream",
     "text": [
      "[*********************100%***********************]  1 of 1 completed\n"
     ]
    },
    {
     "name": "stdout",
     "output_type": "stream",
     "text": [
      "295. L 주식의 일별 가격 정보가 'L_daily_prices.csv' 파일에 저장되었습니다.\n",
      "Downloading data for LOW\n"
     ]
    },
    {
     "name": "stderr",
     "output_type": "stream",
     "text": [
      "[*********************100%***********************]  1 of 1 completed\n"
     ]
    },
    {
     "name": "stdout",
     "output_type": "stream",
     "text": [
      "296. LOW 주식의 일별 가격 정보가 'LOW_daily_prices.csv' 파일에 저장되었습니다.\n",
      "Downloading data for LULU\n"
     ]
    },
    {
     "name": "stderr",
     "output_type": "stream",
     "text": [
      "[*********************100%***********************]  1 of 1 completed\n"
     ]
    },
    {
     "name": "stdout",
     "output_type": "stream",
     "text": [
      "297. LULU 주식의 일별 가격 정보가 'LULU_daily_prices.csv' 파일에 저장되었습니다.\n",
      "Downloading data for LYB\n"
     ]
    },
    {
     "name": "stderr",
     "output_type": "stream",
     "text": [
      "[*********************100%***********************]  1 of 1 completed\n"
     ]
    },
    {
     "name": "stdout",
     "output_type": "stream",
     "text": [
      "298. LYB 주식의 일별 가격 정보가 'LYB_daily_prices.csv' 파일에 저장되었습니다.\n",
      "Downloading data for MTB\n"
     ]
    },
    {
     "name": "stderr",
     "output_type": "stream",
     "text": [
      "[*********************100%***********************]  1 of 1 completed\n"
     ]
    },
    {
     "name": "stdout",
     "output_type": "stream",
     "text": [
      "299. MTB 주식의 일별 가격 정보가 'MTB_daily_prices.csv' 파일에 저장되었습니다.\n",
      "Downloading data for MRO\n"
     ]
    },
    {
     "name": "stderr",
     "output_type": "stream",
     "text": [
      "[*********************100%***********************]  1 of 1 completed\n"
     ]
    },
    {
     "name": "stdout",
     "output_type": "stream",
     "text": [
      "300. MRO 주식의 일별 가격 정보가 'MRO_daily_prices.csv' 파일에 저장되었습니다.\n",
      "Downloading data for MPC\n"
     ]
    },
    {
     "name": "stderr",
     "output_type": "stream",
     "text": [
      "[*********************100%***********************]  1 of 1 completed\n"
     ]
    },
    {
     "name": "stdout",
     "output_type": "stream",
     "text": [
      "301. MPC 주식의 일별 가격 정보가 'MPC_daily_prices.csv' 파일에 저장되었습니다.\n",
      "Downloading data for MKTX\n"
     ]
    },
    {
     "name": "stderr",
     "output_type": "stream",
     "text": [
      "[*********************100%***********************]  1 of 1 completed\n"
     ]
    },
    {
     "name": "stdout",
     "output_type": "stream",
     "text": [
      "302. MKTX 주식의 일별 가격 정보가 'MKTX_daily_prices.csv' 파일에 저장되었습니다.\n",
      "Downloading data for MAR\n"
     ]
    },
    {
     "name": "stderr",
     "output_type": "stream",
     "text": [
      "[*********************100%***********************]  1 of 1 completed\n"
     ]
    },
    {
     "name": "stdout",
     "output_type": "stream",
     "text": [
      "303. MAR 주식의 일별 가격 정보가 'MAR_daily_prices.csv' 파일에 저장되었습니다.\n",
      "Downloading data for MMC\n"
     ]
    },
    {
     "name": "stderr",
     "output_type": "stream",
     "text": [
      "[*********************100%***********************]  1 of 1 completed\n"
     ]
    },
    {
     "name": "stdout",
     "output_type": "stream",
     "text": [
      "304. MMC 주식의 일별 가격 정보가 'MMC_daily_prices.csv' 파일에 저장되었습니다.\n",
      "Downloading data for MLM\n"
     ]
    },
    {
     "name": "stderr",
     "output_type": "stream",
     "text": [
      "[*********************100%***********************]  1 of 1 completed\n"
     ]
    },
    {
     "name": "stdout",
     "output_type": "stream",
     "text": [
      "305. MLM 주식의 일별 가격 정보가 'MLM_daily_prices.csv' 파일에 저장되었습니다.\n",
      "Downloading data for MAS\n"
     ]
    },
    {
     "name": "stderr",
     "output_type": "stream",
     "text": [
      "[*********************100%***********************]  1 of 1 completed\n"
     ]
    },
    {
     "name": "stdout",
     "output_type": "stream",
     "text": [
      "306. MAS 주식의 일별 가격 정보가 'MAS_daily_prices.csv' 파일에 저장되었습니다.\n",
      "Downloading data for MA\n"
     ]
    },
    {
     "name": "stderr",
     "output_type": "stream",
     "text": [
      "[*********************100%***********************]  1 of 1 completed\n"
     ]
    },
    {
     "name": "stdout",
     "output_type": "stream",
     "text": [
      "307. MA 주식의 일별 가격 정보가 'MA_daily_prices.csv' 파일에 저장되었습니다.\n",
      "Downloading data for MTCH\n"
     ]
    },
    {
     "name": "stderr",
     "output_type": "stream",
     "text": [
      "[*********************100%***********************]  1 of 1 completed\n"
     ]
    },
    {
     "name": "stdout",
     "output_type": "stream",
     "text": [
      "308. MTCH 주식의 일별 가격 정보가 'MTCH_daily_prices.csv' 파일에 저장되었습니다.\n",
      "Downloading data for MKC\n"
     ]
    },
    {
     "name": "stderr",
     "output_type": "stream",
     "text": [
      "[*********************100%***********************]  1 of 1 completed\n"
     ]
    },
    {
     "name": "stdout",
     "output_type": "stream",
     "text": [
      "309. MKC 주식의 일별 가격 정보가 'MKC_daily_prices.csv' 파일에 저장되었습니다.\n",
      "Downloading data for MCD\n"
     ]
    },
    {
     "name": "stderr",
     "output_type": "stream",
     "text": [
      "[*********************100%***********************]  1 of 1 completed\n"
     ]
    },
    {
     "name": "stdout",
     "output_type": "stream",
     "text": [
      "310. MCD 주식의 일별 가격 정보가 'MCD_daily_prices.csv' 파일에 저장되었습니다.\n",
      "Downloading data for MCK\n"
     ]
    },
    {
     "name": "stderr",
     "output_type": "stream",
     "text": [
      "[*********************100%***********************]  1 of 1 completed\n"
     ]
    },
    {
     "name": "stdout",
     "output_type": "stream",
     "text": [
      "311. MCK 주식의 일별 가격 정보가 'MCK_daily_prices.csv' 파일에 저장되었습니다.\n",
      "Downloading data for MDT\n"
     ]
    },
    {
     "name": "stderr",
     "output_type": "stream",
     "text": [
      "[*********************100%***********************]  1 of 1 completed\n"
     ]
    },
    {
     "name": "stdout",
     "output_type": "stream",
     "text": [
      "312. MDT 주식의 일별 가격 정보가 'MDT_daily_prices.csv' 파일에 저장되었습니다.\n",
      "Downloading data for MRK\n"
     ]
    },
    {
     "name": "stderr",
     "output_type": "stream",
     "text": [
      "[*********************100%***********************]  1 of 1 completed\n"
     ]
    },
    {
     "name": "stdout",
     "output_type": "stream",
     "text": [
      "313. MRK 주식의 일별 가격 정보가 'MRK_daily_prices.csv' 파일에 저장되었습니다.\n",
      "Downloading data for META\n"
     ]
    },
    {
     "name": "stderr",
     "output_type": "stream",
     "text": [
      "[*********************100%***********************]  1 of 1 completed\n"
     ]
    },
    {
     "name": "stdout",
     "output_type": "stream",
     "text": [
      "314. META 주식의 일별 가격 정보가 'META_daily_prices.csv' 파일에 저장되었습니다.\n",
      "Downloading data for MET\n"
     ]
    },
    {
     "name": "stderr",
     "output_type": "stream",
     "text": [
      "[*********************100%***********************]  1 of 1 completed\n"
     ]
    },
    {
     "name": "stdout",
     "output_type": "stream",
     "text": [
      "315. MET 주식의 일별 가격 정보가 'MET_daily_prices.csv' 파일에 저장되었습니다.\n",
      "Downloading data for MTD\n"
     ]
    },
    {
     "name": "stderr",
     "output_type": "stream",
     "text": [
      "[*********************100%***********************]  1 of 1 completed\n"
     ]
    },
    {
     "name": "stdout",
     "output_type": "stream",
     "text": [
      "316. MTD 주식의 일별 가격 정보가 'MTD_daily_prices.csv' 파일에 저장되었습니다.\n",
      "Downloading data for MGM\n"
     ]
    },
    {
     "name": "stderr",
     "output_type": "stream",
     "text": [
      "[*********************100%***********************]  1 of 1 completed\n"
     ]
    },
    {
     "name": "stdout",
     "output_type": "stream",
     "text": [
      "317. MGM 주식의 일별 가격 정보가 'MGM_daily_prices.csv' 파일에 저장되었습니다.\n",
      "Downloading data for MCHP\n"
     ]
    },
    {
     "name": "stderr",
     "output_type": "stream",
     "text": [
      "[*********************100%***********************]  1 of 1 completed\n"
     ]
    },
    {
     "name": "stdout",
     "output_type": "stream",
     "text": [
      "318. MCHP 주식의 일별 가격 정보가 'MCHP_daily_prices.csv' 파일에 저장되었습니다.\n",
      "Downloading data for MU\n"
     ]
    },
    {
     "name": "stderr",
     "output_type": "stream",
     "text": [
      "[*********************100%***********************]  1 of 1 completed\n"
     ]
    },
    {
     "name": "stdout",
     "output_type": "stream",
     "text": [
      "319. MU 주식의 일별 가격 정보가 'MU_daily_prices.csv' 파일에 저장되었습니다.\n",
      "Downloading data for MSFT\n"
     ]
    },
    {
     "name": "stderr",
     "output_type": "stream",
     "text": [
      "[*********************100%***********************]  1 of 1 completed\n"
     ]
    },
    {
     "name": "stdout",
     "output_type": "stream",
     "text": [
      "320. MSFT 주식의 일별 가격 정보가 'MSFT_daily_prices.csv' 파일에 저장되었습니다.\n",
      "Downloading data for MAA\n"
     ]
    },
    {
     "name": "stderr",
     "output_type": "stream",
     "text": [
      "[*********************100%***********************]  1 of 1 completed\n"
     ]
    },
    {
     "name": "stdout",
     "output_type": "stream",
     "text": [
      "321. MAA 주식의 일별 가격 정보가 'MAA_daily_prices.csv' 파일에 저장되었습니다.\n",
      "Downloading data for MRNA\n"
     ]
    },
    {
     "name": "stderr",
     "output_type": "stream",
     "text": [
      "[*********************100%***********************]  1 of 1 completed\n"
     ]
    },
    {
     "name": "stdout",
     "output_type": "stream",
     "text": [
      "322. MRNA 주식의 일별 가격 정보가 'MRNA_daily_prices.csv' 파일에 저장되었습니다.\n",
      "Downloading data for MHK\n"
     ]
    },
    {
     "name": "stderr",
     "output_type": "stream",
     "text": [
      "[*********************100%***********************]  1 of 1 completed\n"
     ]
    },
    {
     "name": "stdout",
     "output_type": "stream",
     "text": [
      "323. MHK 주식의 일별 가격 정보가 'MHK_daily_prices.csv' 파일에 저장되었습니다.\n",
      "Downloading data for MOH\n"
     ]
    },
    {
     "name": "stderr",
     "output_type": "stream",
     "text": [
      "[*********************100%***********************]  1 of 1 completed\n"
     ]
    },
    {
     "name": "stdout",
     "output_type": "stream",
     "text": [
      "324. MOH 주식의 일별 가격 정보가 'MOH_daily_prices.csv' 파일에 저장되었습니다.\n",
      "Downloading data for TAP\n"
     ]
    },
    {
     "name": "stderr",
     "output_type": "stream",
     "text": [
      "[*********************100%***********************]  1 of 1 completed\n"
     ]
    },
    {
     "name": "stdout",
     "output_type": "stream",
     "text": [
      "325. TAP 주식의 일별 가격 정보가 'TAP_daily_prices.csv' 파일에 저장되었습니다.\n",
      "Downloading data for MDLZ\n"
     ]
    },
    {
     "name": "stderr",
     "output_type": "stream",
     "text": [
      "[*********************100%***********************]  1 of 1 completed\n"
     ]
    },
    {
     "name": "stdout",
     "output_type": "stream",
     "text": [
      "326. MDLZ 주식의 일별 가격 정보가 'MDLZ_daily_prices.csv' 파일에 저장되었습니다.\n",
      "Downloading data for MPWR\n"
     ]
    },
    {
     "name": "stderr",
     "output_type": "stream",
     "text": [
      "[*********************100%***********************]  1 of 1 completed\n"
     ]
    },
    {
     "name": "stdout",
     "output_type": "stream",
     "text": [
      "327. MPWR 주식의 일별 가격 정보가 'MPWR_daily_prices.csv' 파일에 저장되었습니다.\n",
      "Downloading data for MNST\n"
     ]
    },
    {
     "name": "stderr",
     "output_type": "stream",
     "text": [
      "[*********************100%***********************]  1 of 1 completed\n"
     ]
    },
    {
     "name": "stdout",
     "output_type": "stream",
     "text": [
      "328. MNST 주식의 일별 가격 정보가 'MNST_daily_prices.csv' 파일에 저장되었습니다.\n",
      "Downloading data for MCO\n"
     ]
    },
    {
     "name": "stderr",
     "output_type": "stream",
     "text": [
      "[*********************100%***********************]  1 of 1 completed\n"
     ]
    },
    {
     "name": "stdout",
     "output_type": "stream",
     "text": [
      "329. MCO 주식의 일별 가격 정보가 'MCO_daily_prices.csv' 파일에 저장되었습니다.\n",
      "Downloading data for MS\n"
     ]
    },
    {
     "name": "stderr",
     "output_type": "stream",
     "text": [
      "[*********************100%***********************]  1 of 1 completed\n"
     ]
    },
    {
     "name": "stdout",
     "output_type": "stream",
     "text": [
      "330. MS 주식의 일별 가격 정보가 'MS_daily_prices.csv' 파일에 저장되었습니다.\n",
      "Downloading data for MOS\n"
     ]
    },
    {
     "name": "stderr",
     "output_type": "stream",
     "text": [
      "[*********************100%***********************]  1 of 1 completed\n"
     ]
    },
    {
     "name": "stdout",
     "output_type": "stream",
     "text": [
      "331. MOS 주식의 일별 가격 정보가 'MOS_daily_prices.csv' 파일에 저장되었습니다.\n",
      "Downloading data for MSI\n"
     ]
    },
    {
     "name": "stderr",
     "output_type": "stream",
     "text": [
      "[*********************100%***********************]  1 of 1 completed\n"
     ]
    },
    {
     "name": "stdout",
     "output_type": "stream",
     "text": [
      "332. MSI 주식의 일별 가격 정보가 'MSI_daily_prices.csv' 파일에 저장되었습니다.\n",
      "Downloading data for MSCI\n"
     ]
    },
    {
     "name": "stderr",
     "output_type": "stream",
     "text": [
      "[*********************100%***********************]  1 of 1 completed\n"
     ]
    },
    {
     "name": "stdout",
     "output_type": "stream",
     "text": [
      "333. MSCI 주식의 일별 가격 정보가 'MSCI_daily_prices.csv' 파일에 저장되었습니다.\n",
      "Downloading data for NDAQ\n"
     ]
    },
    {
     "name": "stderr",
     "output_type": "stream",
     "text": [
      "[*********************100%***********************]  1 of 1 completed\n"
     ]
    },
    {
     "name": "stdout",
     "output_type": "stream",
     "text": [
      "334. NDAQ 주식의 일별 가격 정보가 'NDAQ_daily_prices.csv' 파일에 저장되었습니다.\n",
      "Downloading data for NTAP\n"
     ]
    },
    {
     "name": "stderr",
     "output_type": "stream",
     "text": [
      "[*********************100%***********************]  1 of 1 completed\n"
     ]
    },
    {
     "name": "stdout",
     "output_type": "stream",
     "text": [
      "335. NTAP 주식의 일별 가격 정보가 'NTAP_daily_prices.csv' 파일에 저장되었습니다.\n",
      "Downloading data for NFLX\n"
     ]
    },
    {
     "name": "stderr",
     "output_type": "stream",
     "text": [
      "[*********************100%***********************]  1 of 1 completed\n"
     ]
    },
    {
     "name": "stdout",
     "output_type": "stream",
     "text": [
      "336. NFLX 주식의 일별 가격 정보가 'NFLX_daily_prices.csv' 파일에 저장되었습니다.\n",
      "Downloading data for NEM\n"
     ]
    },
    {
     "name": "stderr",
     "output_type": "stream",
     "text": [
      "[*********************100%***********************]  1 of 1 completed\n"
     ]
    },
    {
     "name": "stdout",
     "output_type": "stream",
     "text": [
      "337. NEM 주식의 일별 가격 정보가 'NEM_daily_prices.csv' 파일에 저장되었습니다.\n",
      "Downloading data for NWSA\n"
     ]
    },
    {
     "name": "stderr",
     "output_type": "stream",
     "text": [
      "[*********************100%***********************]  1 of 1 completed\n"
     ]
    },
    {
     "name": "stdout",
     "output_type": "stream",
     "text": [
      "338. NWSA 주식의 일별 가격 정보가 'NWSA_daily_prices.csv' 파일에 저장되었습니다.\n",
      "Downloading data for NWS\n"
     ]
    },
    {
     "name": "stderr",
     "output_type": "stream",
     "text": [
      "[*********************100%***********************]  1 of 1 completed\n"
     ]
    },
    {
     "name": "stdout",
     "output_type": "stream",
     "text": [
      "339. NWS 주식의 일별 가격 정보가 'NWS_daily_prices.csv' 파일에 저장되었습니다.\n",
      "Downloading data for NEE\n"
     ]
    },
    {
     "name": "stderr",
     "output_type": "stream",
     "text": [
      "[*********************100%***********************]  1 of 1 completed\n"
     ]
    },
    {
     "name": "stdout",
     "output_type": "stream",
     "text": [
      "340. NEE 주식의 일별 가격 정보가 'NEE_daily_prices.csv' 파일에 저장되었습니다.\n",
      "Downloading data for NKE\n"
     ]
    },
    {
     "name": "stderr",
     "output_type": "stream",
     "text": [
      "[*********************100%***********************]  1 of 1 completed\n"
     ]
    },
    {
     "name": "stdout",
     "output_type": "stream",
     "text": [
      "341. NKE 주식의 일별 가격 정보가 'NKE_daily_prices.csv' 파일에 저장되었습니다.\n",
      "Downloading data for NI\n"
     ]
    },
    {
     "name": "stderr",
     "output_type": "stream",
     "text": [
      "[*********************100%***********************]  1 of 1 completed\n"
     ]
    },
    {
     "name": "stdout",
     "output_type": "stream",
     "text": [
      "342. NI 주식의 일별 가격 정보가 'NI_daily_prices.csv' 파일에 저장되었습니다.\n",
      "Downloading data for NDSN\n"
     ]
    },
    {
     "name": "stderr",
     "output_type": "stream",
     "text": [
      "[*********************100%***********************]  1 of 1 completed\n"
     ]
    },
    {
     "name": "stdout",
     "output_type": "stream",
     "text": [
      "343. NDSN 주식의 일별 가격 정보가 'NDSN_daily_prices.csv' 파일에 저장되었습니다.\n",
      "Downloading data for NSC\n"
     ]
    },
    {
     "name": "stderr",
     "output_type": "stream",
     "text": [
      "[*********************100%***********************]  1 of 1 completed\n"
     ]
    },
    {
     "name": "stdout",
     "output_type": "stream",
     "text": [
      "344. NSC 주식의 일별 가격 정보가 'NSC_daily_prices.csv' 파일에 저장되었습니다.\n",
      "Downloading data for NTRS\n"
     ]
    },
    {
     "name": "stderr",
     "output_type": "stream",
     "text": [
      "[*********************100%***********************]  1 of 1 completed\n"
     ]
    },
    {
     "name": "stdout",
     "output_type": "stream",
     "text": [
      "345. NTRS 주식의 일별 가격 정보가 'NTRS_daily_prices.csv' 파일에 저장되었습니다.\n",
      "Downloading data for NOC\n"
     ]
    },
    {
     "name": "stderr",
     "output_type": "stream",
     "text": [
      "[*********************100%***********************]  1 of 1 completed\n"
     ]
    },
    {
     "name": "stdout",
     "output_type": "stream",
     "text": [
      "346. NOC 주식의 일별 가격 정보가 'NOC_daily_prices.csv' 파일에 저장되었습니다.\n",
      "Downloading data for NCLH\n"
     ]
    },
    {
     "name": "stderr",
     "output_type": "stream",
     "text": [
      "[*********************100%***********************]  1 of 1 completed\n"
     ]
    },
    {
     "name": "stdout",
     "output_type": "stream",
     "text": [
      "347. NCLH 주식의 일별 가격 정보가 'NCLH_daily_prices.csv' 파일에 저장되었습니다.\n",
      "Downloading data for NRG\n"
     ]
    },
    {
     "name": "stderr",
     "output_type": "stream",
     "text": [
      "[*********************100%***********************]  1 of 1 completed\n"
     ]
    },
    {
     "name": "stdout",
     "output_type": "stream",
     "text": [
      "348. NRG 주식의 일별 가격 정보가 'NRG_daily_prices.csv' 파일에 저장되었습니다.\n",
      "Downloading data for NUE\n"
     ]
    },
    {
     "name": "stderr",
     "output_type": "stream",
     "text": [
      "[*********************100%***********************]  1 of 1 completed\n"
     ]
    },
    {
     "name": "stdout",
     "output_type": "stream",
     "text": [
      "349. NUE 주식의 일별 가격 정보가 'NUE_daily_prices.csv' 파일에 저장되었습니다.\n",
      "Downloading data for NVDA\n"
     ]
    },
    {
     "name": "stderr",
     "output_type": "stream",
     "text": [
      "[*********************100%***********************]  1 of 1 completed\n"
     ]
    },
    {
     "name": "stdout",
     "output_type": "stream",
     "text": [
      "350. NVDA 주식의 일별 가격 정보가 'NVDA_daily_prices.csv' 파일에 저장되었습니다.\n",
      "Downloading data for NVR\n"
     ]
    },
    {
     "name": "stderr",
     "output_type": "stream",
     "text": [
      "[*********************100%***********************]  1 of 1 completed\n"
     ]
    },
    {
     "name": "stdout",
     "output_type": "stream",
     "text": [
      "351. NVR 주식의 일별 가격 정보가 'NVR_daily_prices.csv' 파일에 저장되었습니다.\n",
      "Downloading data for NXPI\n"
     ]
    },
    {
     "name": "stderr",
     "output_type": "stream",
     "text": [
      "[*********************100%***********************]  1 of 1 completed\n"
     ]
    },
    {
     "name": "stdout",
     "output_type": "stream",
     "text": [
      "352. NXPI 주식의 일별 가격 정보가 'NXPI_daily_prices.csv' 파일에 저장되었습니다.\n",
      "Downloading data for ORLY\n"
     ]
    },
    {
     "name": "stderr",
     "output_type": "stream",
     "text": [
      "[*********************100%***********************]  1 of 1 completed\n"
     ]
    },
    {
     "name": "stdout",
     "output_type": "stream",
     "text": [
      "353. ORLY 주식의 일별 가격 정보가 'ORLY_daily_prices.csv' 파일에 저장되었습니다.\n",
      "Downloading data for OXY\n"
     ]
    },
    {
     "name": "stderr",
     "output_type": "stream",
     "text": [
      "[*********************100%***********************]  1 of 1 completed\n"
     ]
    },
    {
     "name": "stdout",
     "output_type": "stream",
     "text": [
      "354. OXY 주식의 일별 가격 정보가 'OXY_daily_prices.csv' 파일에 저장되었습니다.\n",
      "Downloading data for ODFL\n"
     ]
    },
    {
     "name": "stderr",
     "output_type": "stream",
     "text": [
      "[*********************100%***********************]  1 of 1 completed\n"
     ]
    },
    {
     "name": "stdout",
     "output_type": "stream",
     "text": [
      "355. ODFL 주식의 일별 가격 정보가 'ODFL_daily_prices.csv' 파일에 저장되었습니다.\n",
      "Downloading data for OMC\n"
     ]
    },
    {
     "name": "stderr",
     "output_type": "stream",
     "text": [
      "[*********************100%***********************]  1 of 1 completed\n"
     ]
    },
    {
     "name": "stdout",
     "output_type": "stream",
     "text": [
      "356. OMC 주식의 일별 가격 정보가 'OMC_daily_prices.csv' 파일에 저장되었습니다.\n",
      "Downloading data for ON\n"
     ]
    },
    {
     "name": "stderr",
     "output_type": "stream",
     "text": [
      "[*********************100%***********************]  1 of 1 completed\n"
     ]
    },
    {
     "name": "stdout",
     "output_type": "stream",
     "text": [
      "357. ON 주식의 일별 가격 정보가 'ON_daily_prices.csv' 파일에 저장되었습니다.\n",
      "Downloading data for OKE\n"
     ]
    },
    {
     "name": "stderr",
     "output_type": "stream",
     "text": [
      "[*********************100%***********************]  1 of 1 completed\n"
     ]
    },
    {
     "name": "stdout",
     "output_type": "stream",
     "text": [
      "358. OKE 주식의 일별 가격 정보가 'OKE_daily_prices.csv' 파일에 저장되었습니다.\n",
      "Downloading data for ORCL\n"
     ]
    },
    {
     "name": "stderr",
     "output_type": "stream",
     "text": [
      "[*********************100%***********************]  1 of 1 completed\n"
     ]
    },
    {
     "name": "stdout",
     "output_type": "stream",
     "text": [
      "359. ORCL 주식의 일별 가격 정보가 'ORCL_daily_prices.csv' 파일에 저장되었습니다.\n",
      "Downloading data for OTIS\n"
     ]
    },
    {
     "name": "stderr",
     "output_type": "stream",
     "text": [
      "[*********************100%***********************]  1 of 1 completed\n"
     ]
    },
    {
     "name": "stdout",
     "output_type": "stream",
     "text": [
      "360. OTIS 주식의 일별 가격 정보가 'OTIS_daily_prices.csv' 파일에 저장되었습니다.\n",
      "Downloading data for PCAR\n"
     ]
    },
    {
     "name": "stderr",
     "output_type": "stream",
     "text": [
      "[*********************100%***********************]  1 of 1 completed\n"
     ]
    },
    {
     "name": "stdout",
     "output_type": "stream",
     "text": [
      "361. PCAR 주식의 일별 가격 정보가 'PCAR_daily_prices.csv' 파일에 저장되었습니다.\n",
      "Downloading data for PKG\n"
     ]
    },
    {
     "name": "stderr",
     "output_type": "stream",
     "text": [
      "[*********************100%***********************]  1 of 1 completed\n"
     ]
    },
    {
     "name": "stdout",
     "output_type": "stream",
     "text": [
      "362. PKG 주식의 일별 가격 정보가 'PKG_daily_prices.csv' 파일에 저장되었습니다.\n",
      "Downloading data for PLTR\n"
     ]
    },
    {
     "name": "stderr",
     "output_type": "stream",
     "text": [
      "[*********************100%***********************]  1 of 1 completed\n"
     ]
    },
    {
     "name": "stdout",
     "output_type": "stream",
     "text": [
      "363. PLTR 주식의 일별 가격 정보가 'PLTR_daily_prices.csv' 파일에 저장되었습니다.\n",
      "Downloading data for PANW\n"
     ]
    },
    {
     "name": "stderr",
     "output_type": "stream",
     "text": [
      "[*********************100%***********************]  1 of 1 completed\n"
     ]
    },
    {
     "name": "stdout",
     "output_type": "stream",
     "text": [
      "364. PANW 주식의 일별 가격 정보가 'PANW_daily_prices.csv' 파일에 저장되었습니다.\n",
      "Downloading data for PARA\n"
     ]
    },
    {
     "name": "stderr",
     "output_type": "stream",
     "text": [
      "[*********************100%***********************]  1 of 1 completed\n"
     ]
    },
    {
     "name": "stdout",
     "output_type": "stream",
     "text": [
      "365. PARA 주식의 일별 가격 정보가 'PARA_daily_prices.csv' 파일에 저장되었습니다.\n",
      "Downloading data for PH\n"
     ]
    },
    {
     "name": "stderr",
     "output_type": "stream",
     "text": [
      "[*********************100%***********************]  1 of 1 completed\n"
     ]
    },
    {
     "name": "stdout",
     "output_type": "stream",
     "text": [
      "366. PH 주식의 일별 가격 정보가 'PH_daily_prices.csv' 파일에 저장되었습니다.\n",
      "Downloading data for PAYX\n"
     ]
    },
    {
     "name": "stderr",
     "output_type": "stream",
     "text": [
      "[*********************100%***********************]  1 of 1 completed\n"
     ]
    },
    {
     "name": "stdout",
     "output_type": "stream",
     "text": [
      "367. PAYX 주식의 일별 가격 정보가 'PAYX_daily_prices.csv' 파일에 저장되었습니다.\n",
      "Downloading data for PAYC\n"
     ]
    },
    {
     "name": "stderr",
     "output_type": "stream",
     "text": [
      "[*********************100%***********************]  1 of 1 completed\n"
     ]
    },
    {
     "name": "stdout",
     "output_type": "stream",
     "text": [
      "368. PAYC 주식의 일별 가격 정보가 'PAYC_daily_prices.csv' 파일에 저장되었습니다.\n",
      "Downloading data for PYPL\n"
     ]
    },
    {
     "name": "stderr",
     "output_type": "stream",
     "text": [
      "[*********************100%***********************]  1 of 1 completed\n"
     ]
    },
    {
     "name": "stdout",
     "output_type": "stream",
     "text": [
      "369. PYPL 주식의 일별 가격 정보가 'PYPL_daily_prices.csv' 파일에 저장되었습니다.\n",
      "Downloading data for PNR\n"
     ]
    },
    {
     "name": "stderr",
     "output_type": "stream",
     "text": [
      "[*********************100%***********************]  1 of 1 completed\n"
     ]
    },
    {
     "name": "stdout",
     "output_type": "stream",
     "text": [
      "370. PNR 주식의 일별 가격 정보가 'PNR_daily_prices.csv' 파일에 저장되었습니다.\n",
      "Downloading data for PEP\n"
     ]
    },
    {
     "name": "stderr",
     "output_type": "stream",
     "text": [
      "[*********************100%***********************]  1 of 1 completed\n"
     ]
    },
    {
     "name": "stdout",
     "output_type": "stream",
     "text": [
      "371. PEP 주식의 일별 가격 정보가 'PEP_daily_prices.csv' 파일에 저장되었습니다.\n",
      "Downloading data for PFE\n"
     ]
    },
    {
     "name": "stderr",
     "output_type": "stream",
     "text": [
      "[*********************100%***********************]  1 of 1 completed\n"
     ]
    },
    {
     "name": "stdout",
     "output_type": "stream",
     "text": [
      "372. PFE 주식의 일별 가격 정보가 'PFE_daily_prices.csv' 파일에 저장되었습니다.\n",
      "Downloading data for PCG\n"
     ]
    },
    {
     "name": "stderr",
     "output_type": "stream",
     "text": [
      "[*********************100%***********************]  1 of 1 completed\n"
     ]
    },
    {
     "name": "stdout",
     "output_type": "stream",
     "text": [
      "373. PCG 주식의 일별 가격 정보가 'PCG_daily_prices.csv' 파일에 저장되었습니다.\n",
      "Downloading data for PM\n"
     ]
    },
    {
     "name": "stderr",
     "output_type": "stream",
     "text": [
      "[*********************100%***********************]  1 of 1 completed\n"
     ]
    },
    {
     "name": "stdout",
     "output_type": "stream",
     "text": [
      "374. PM 주식의 일별 가격 정보가 'PM_daily_prices.csv' 파일에 저장되었습니다.\n",
      "Downloading data for PSX\n"
     ]
    },
    {
     "name": "stderr",
     "output_type": "stream",
     "text": [
      "[*********************100%***********************]  1 of 1 completed\n"
     ]
    },
    {
     "name": "stdout",
     "output_type": "stream",
     "text": [
      "375. PSX 주식의 일별 가격 정보가 'PSX_daily_prices.csv' 파일에 저장되었습니다.\n",
      "Downloading data for PNW\n"
     ]
    },
    {
     "name": "stderr",
     "output_type": "stream",
     "text": [
      "[*********************100%***********************]  1 of 1 completed\n"
     ]
    },
    {
     "name": "stdout",
     "output_type": "stream",
     "text": [
      "376. PNW 주식의 일별 가격 정보가 'PNW_daily_prices.csv' 파일에 저장되었습니다.\n",
      "Downloading data for PNC\n"
     ]
    },
    {
     "name": "stderr",
     "output_type": "stream",
     "text": [
      "[*********************100%***********************]  1 of 1 completed\n"
     ]
    },
    {
     "name": "stdout",
     "output_type": "stream",
     "text": [
      "377. PNC 주식의 일별 가격 정보가 'PNC_daily_prices.csv' 파일에 저장되었습니다.\n",
      "Downloading data for POOL\n"
     ]
    },
    {
     "name": "stderr",
     "output_type": "stream",
     "text": [
      "[*********************100%***********************]  1 of 1 completed\n"
     ]
    },
    {
     "name": "stdout",
     "output_type": "stream",
     "text": [
      "378. POOL 주식의 일별 가격 정보가 'POOL_daily_prices.csv' 파일에 저장되었습니다.\n",
      "Downloading data for PPG\n"
     ]
    },
    {
     "name": "stderr",
     "output_type": "stream",
     "text": [
      "[*********************100%***********************]  1 of 1 completed\n"
     ]
    },
    {
     "name": "stdout",
     "output_type": "stream",
     "text": [
      "379. PPG 주식의 일별 가격 정보가 'PPG_daily_prices.csv' 파일에 저장되었습니다.\n",
      "Downloading data for PPL\n"
     ]
    },
    {
     "name": "stderr",
     "output_type": "stream",
     "text": [
      "[*********************100%***********************]  1 of 1 completed\n"
     ]
    },
    {
     "name": "stdout",
     "output_type": "stream",
     "text": [
      "380. PPL 주식의 일별 가격 정보가 'PPL_daily_prices.csv' 파일에 저장되었습니다.\n",
      "Downloading data for PFG\n"
     ]
    },
    {
     "name": "stderr",
     "output_type": "stream",
     "text": [
      "[*********************100%***********************]  1 of 1 completed\n"
     ]
    },
    {
     "name": "stdout",
     "output_type": "stream",
     "text": [
      "381. PFG 주식의 일별 가격 정보가 'PFG_daily_prices.csv' 파일에 저장되었습니다.\n",
      "Downloading data for PG\n"
     ]
    },
    {
     "name": "stderr",
     "output_type": "stream",
     "text": [
      "[*********************100%***********************]  1 of 1 completed\n"
     ]
    },
    {
     "name": "stdout",
     "output_type": "stream",
     "text": [
      "382. PG 주식의 일별 가격 정보가 'PG_daily_prices.csv' 파일에 저장되었습니다.\n",
      "Downloading data for PGR\n"
     ]
    },
    {
     "name": "stderr",
     "output_type": "stream",
     "text": [
      "[*********************100%***********************]  1 of 1 completed\n"
     ]
    },
    {
     "name": "stdout",
     "output_type": "stream",
     "text": [
      "383. PGR 주식의 일별 가격 정보가 'PGR_daily_prices.csv' 파일에 저장되었습니다.\n",
      "Downloading data for PLD\n"
     ]
    },
    {
     "name": "stderr",
     "output_type": "stream",
     "text": [
      "[*********************100%***********************]  1 of 1 completed\n"
     ]
    },
    {
     "name": "stdout",
     "output_type": "stream",
     "text": [
      "384. PLD 주식의 일별 가격 정보가 'PLD_daily_prices.csv' 파일에 저장되었습니다.\n",
      "Downloading data for PRU\n"
     ]
    },
    {
     "name": "stderr",
     "output_type": "stream",
     "text": [
      "[*********************100%***********************]  1 of 1 completed\n"
     ]
    },
    {
     "name": "stdout",
     "output_type": "stream",
     "text": [
      "385. PRU 주식의 일별 가격 정보가 'PRU_daily_prices.csv' 파일에 저장되었습니다.\n",
      "Downloading data for PEG\n"
     ]
    },
    {
     "name": "stderr",
     "output_type": "stream",
     "text": [
      "[*********************100%***********************]  1 of 1 completed\n"
     ]
    },
    {
     "name": "stdout",
     "output_type": "stream",
     "text": [
      "386. PEG 주식의 일별 가격 정보가 'PEG_daily_prices.csv' 파일에 저장되었습니다.\n",
      "Downloading data for PTC\n"
     ]
    },
    {
     "name": "stderr",
     "output_type": "stream",
     "text": [
      "[*********************100%***********************]  1 of 1 completed\n"
     ]
    },
    {
     "name": "stdout",
     "output_type": "stream",
     "text": [
      "387. PTC 주식의 일별 가격 정보가 'PTC_daily_prices.csv' 파일에 저장되었습니다.\n",
      "Downloading data for PSA\n"
     ]
    },
    {
     "name": "stderr",
     "output_type": "stream",
     "text": [
      "[*********************100%***********************]  1 of 1 completed\n"
     ]
    },
    {
     "name": "stdout",
     "output_type": "stream",
     "text": [
      "388. PSA 주식의 일별 가격 정보가 'PSA_daily_prices.csv' 파일에 저장되었습니다.\n",
      "Downloading data for PHM\n"
     ]
    },
    {
     "name": "stderr",
     "output_type": "stream",
     "text": [
      "[*********************100%***********************]  1 of 1 completed\n"
     ]
    },
    {
     "name": "stdout",
     "output_type": "stream",
     "text": [
      "389. PHM 주식의 일별 가격 정보가 'PHM_daily_prices.csv' 파일에 저장되었습니다.\n",
      "Downloading data for QRVO\n"
     ]
    },
    {
     "name": "stderr",
     "output_type": "stream",
     "text": [
      "[*********************100%***********************]  1 of 1 completed\n"
     ]
    },
    {
     "name": "stdout",
     "output_type": "stream",
     "text": [
      "390. QRVO 주식의 일별 가격 정보가 'QRVO_daily_prices.csv' 파일에 저장되었습니다.\n",
      "Downloading data for PWR\n"
     ]
    },
    {
     "name": "stderr",
     "output_type": "stream",
     "text": [
      "[*********************100%***********************]  1 of 1 completed\n"
     ]
    },
    {
     "name": "stdout",
     "output_type": "stream",
     "text": [
      "391. PWR 주식의 일별 가격 정보가 'PWR_daily_prices.csv' 파일에 저장되었습니다.\n",
      "Downloading data for QCOM\n"
     ]
    },
    {
     "name": "stderr",
     "output_type": "stream",
     "text": [
      "[*********************100%***********************]  1 of 1 completed\n"
     ]
    },
    {
     "name": "stdout",
     "output_type": "stream",
     "text": [
      "392. QCOM 주식의 일별 가격 정보가 'QCOM_daily_prices.csv' 파일에 저장되었습니다.\n",
      "Downloading data for DGX\n"
     ]
    },
    {
     "name": "stderr",
     "output_type": "stream",
     "text": [
      "[*********************100%***********************]  1 of 1 completed\n"
     ]
    },
    {
     "name": "stdout",
     "output_type": "stream",
     "text": [
      "393. DGX 주식의 일별 가격 정보가 'DGX_daily_prices.csv' 파일에 저장되었습니다.\n",
      "Downloading data for RL\n"
     ]
    },
    {
     "name": "stderr",
     "output_type": "stream",
     "text": [
      "[*********************100%***********************]  1 of 1 completed\n"
     ]
    },
    {
     "name": "stdout",
     "output_type": "stream",
     "text": [
      "394. RL 주식의 일별 가격 정보가 'RL_daily_prices.csv' 파일에 저장되었습니다.\n",
      "Downloading data for RJF\n"
     ]
    },
    {
     "name": "stderr",
     "output_type": "stream",
     "text": [
      "[*********************100%***********************]  1 of 1 completed\n"
     ]
    },
    {
     "name": "stdout",
     "output_type": "stream",
     "text": [
      "395. RJF 주식의 일별 가격 정보가 'RJF_daily_prices.csv' 파일에 저장되었습니다.\n",
      "Downloading data for RTX\n"
     ]
    },
    {
     "name": "stderr",
     "output_type": "stream",
     "text": [
      "[*********************100%***********************]  1 of 1 completed\n"
     ]
    },
    {
     "name": "stdout",
     "output_type": "stream",
     "text": [
      "396. RTX 주식의 일별 가격 정보가 'RTX_daily_prices.csv' 파일에 저장되었습니다.\n",
      "Downloading data for O\n"
     ]
    },
    {
     "name": "stderr",
     "output_type": "stream",
     "text": [
      "[*********************100%***********************]  1 of 1 completed\n"
     ]
    },
    {
     "name": "stdout",
     "output_type": "stream",
     "text": [
      "397. O 주식의 일별 가격 정보가 'O_daily_prices.csv' 파일에 저장되었습니다.\n",
      "Downloading data for REG\n"
     ]
    },
    {
     "name": "stderr",
     "output_type": "stream",
     "text": [
      "[*********************100%***********************]  1 of 1 completed\n"
     ]
    },
    {
     "name": "stdout",
     "output_type": "stream",
     "text": [
      "398. REG 주식의 일별 가격 정보가 'REG_daily_prices.csv' 파일에 저장되었습니다.\n",
      "Downloading data for REGN\n"
     ]
    },
    {
     "name": "stderr",
     "output_type": "stream",
     "text": [
      "[*********************100%***********************]  1 of 1 completed\n"
     ]
    },
    {
     "name": "stdout",
     "output_type": "stream",
     "text": [
      "399. REGN 주식의 일별 가격 정보가 'REGN_daily_prices.csv' 파일에 저장되었습니다.\n",
      "Downloading data for RF\n"
     ]
    },
    {
     "name": "stderr",
     "output_type": "stream",
     "text": [
      "[*********************100%***********************]  1 of 1 completed\n"
     ]
    },
    {
     "name": "stdout",
     "output_type": "stream",
     "text": [
      "400. RF 주식의 일별 가격 정보가 'RF_daily_prices.csv' 파일에 저장되었습니다.\n",
      "Downloading data for RSG\n"
     ]
    },
    {
     "name": "stderr",
     "output_type": "stream",
     "text": [
      "[*********************100%***********************]  1 of 1 completed\n"
     ]
    },
    {
     "name": "stdout",
     "output_type": "stream",
     "text": [
      "401. RSG 주식의 일별 가격 정보가 'RSG_daily_prices.csv' 파일에 저장되었습니다.\n",
      "Downloading data for RMD\n"
     ]
    },
    {
     "name": "stderr",
     "output_type": "stream",
     "text": [
      "[*********************100%***********************]  1 of 1 completed\n"
     ]
    },
    {
     "name": "stdout",
     "output_type": "stream",
     "text": [
      "402. RMD 주식의 일별 가격 정보가 'RMD_daily_prices.csv' 파일에 저장되었습니다.\n",
      "Downloading data for RVTY\n"
     ]
    },
    {
     "name": "stderr",
     "output_type": "stream",
     "text": [
      "[*********************100%***********************]  1 of 1 completed\n"
     ]
    },
    {
     "name": "stdout",
     "output_type": "stream",
     "text": [
      "403. RVTY 주식의 일별 가격 정보가 'RVTY_daily_prices.csv' 파일에 저장되었습니다.\n",
      "Downloading data for ROK\n"
     ]
    },
    {
     "name": "stderr",
     "output_type": "stream",
     "text": [
      "[*********************100%***********************]  1 of 1 completed\n"
     ]
    },
    {
     "name": "stdout",
     "output_type": "stream",
     "text": [
      "404. ROK 주식의 일별 가격 정보가 'ROK_daily_prices.csv' 파일에 저장되었습니다.\n",
      "Downloading data for ROL\n"
     ]
    },
    {
     "name": "stderr",
     "output_type": "stream",
     "text": [
      "[*********************100%***********************]  1 of 1 completed\n"
     ]
    },
    {
     "name": "stdout",
     "output_type": "stream",
     "text": [
      "405. ROL 주식의 일별 가격 정보가 'ROL_daily_prices.csv' 파일에 저장되었습니다.\n",
      "Downloading data for ROP\n"
     ]
    },
    {
     "name": "stderr",
     "output_type": "stream",
     "text": [
      "[*********************100%***********************]  1 of 1 completed\n"
     ]
    },
    {
     "name": "stdout",
     "output_type": "stream",
     "text": [
      "406. ROP 주식의 일별 가격 정보가 'ROP_daily_prices.csv' 파일에 저장되었습니다.\n",
      "Downloading data for ROST\n"
     ]
    },
    {
     "name": "stderr",
     "output_type": "stream",
     "text": [
      "[*********************100%***********************]  1 of 1 completed\n"
     ]
    },
    {
     "name": "stdout",
     "output_type": "stream",
     "text": [
      "407. ROST 주식의 일별 가격 정보가 'ROST_daily_prices.csv' 파일에 저장되었습니다.\n",
      "Downloading data for RCL\n"
     ]
    },
    {
     "name": "stderr",
     "output_type": "stream",
     "text": [
      "[*********************100%***********************]  1 of 1 completed\n"
     ]
    },
    {
     "name": "stdout",
     "output_type": "stream",
     "text": [
      "408. RCL 주식의 일별 가격 정보가 'RCL_daily_prices.csv' 파일에 저장되었습니다.\n",
      "Downloading data for SPGI\n"
     ]
    },
    {
     "name": "stderr",
     "output_type": "stream",
     "text": [
      "[*********************100%***********************]  1 of 1 completed\n"
     ]
    },
    {
     "name": "stdout",
     "output_type": "stream",
     "text": [
      "409. SPGI 주식의 일별 가격 정보가 'SPGI_daily_prices.csv' 파일에 저장되었습니다.\n",
      "Downloading data for CRM\n"
     ]
    },
    {
     "name": "stderr",
     "output_type": "stream",
     "text": [
      "[*********************100%***********************]  1 of 1 completed\n"
     ]
    },
    {
     "name": "stdout",
     "output_type": "stream",
     "text": [
      "410. CRM 주식의 일별 가격 정보가 'CRM_daily_prices.csv' 파일에 저장되었습니다.\n",
      "Downloading data for SBAC\n"
     ]
    },
    {
     "name": "stderr",
     "output_type": "stream",
     "text": [
      "[*********************100%***********************]  1 of 1 completed\n"
     ]
    },
    {
     "name": "stdout",
     "output_type": "stream",
     "text": [
      "411. SBAC 주식의 일별 가격 정보가 'SBAC_daily_prices.csv' 파일에 저장되었습니다.\n",
      "Downloading data for SLB\n"
     ]
    },
    {
     "name": "stderr",
     "output_type": "stream",
     "text": [
      "[*********************100%***********************]  1 of 1 completed\n"
     ]
    },
    {
     "name": "stdout",
     "output_type": "stream",
     "text": [
      "412. SLB 주식의 일별 가격 정보가 'SLB_daily_prices.csv' 파일에 저장되었습니다.\n",
      "Downloading data for STX\n"
     ]
    },
    {
     "name": "stderr",
     "output_type": "stream",
     "text": [
      "[*********************100%***********************]  1 of 1 completed\n"
     ]
    },
    {
     "name": "stdout",
     "output_type": "stream",
     "text": [
      "413. STX 주식의 일별 가격 정보가 'STX_daily_prices.csv' 파일에 저장되었습니다.\n",
      "Downloading data for SRE\n"
     ]
    },
    {
     "name": "stderr",
     "output_type": "stream",
     "text": [
      "[*********************100%***********************]  1 of 1 completed\n"
     ]
    },
    {
     "name": "stdout",
     "output_type": "stream",
     "text": [
      "414. SRE 주식의 일별 가격 정보가 'SRE_daily_prices.csv' 파일에 저장되었습니다.\n",
      "Downloading data for NOW\n"
     ]
    },
    {
     "name": "stderr",
     "output_type": "stream",
     "text": [
      "[*********************100%***********************]  1 of 1 completed\n"
     ]
    },
    {
     "name": "stdout",
     "output_type": "stream",
     "text": [
      "415. NOW 주식의 일별 가격 정보가 'NOW_daily_prices.csv' 파일에 저장되었습니다.\n",
      "Downloading data for SHW\n"
     ]
    },
    {
     "name": "stderr",
     "output_type": "stream",
     "text": [
      "[*********************100%***********************]  1 of 1 completed\n"
     ]
    },
    {
     "name": "stdout",
     "output_type": "stream",
     "text": [
      "416. SHW 주식의 일별 가격 정보가 'SHW_daily_prices.csv' 파일에 저장되었습니다.\n",
      "Downloading data for SPG\n"
     ]
    },
    {
     "name": "stderr",
     "output_type": "stream",
     "text": [
      "[*********************100%***********************]  1 of 1 completed\n"
     ]
    },
    {
     "name": "stdout",
     "output_type": "stream",
     "text": [
      "417. SPG 주식의 일별 가격 정보가 'SPG_daily_prices.csv' 파일에 저장되었습니다.\n",
      "Downloading data for SWKS\n"
     ]
    },
    {
     "name": "stderr",
     "output_type": "stream",
     "text": [
      "[*********************100%***********************]  1 of 1 completed\n"
     ]
    },
    {
     "name": "stdout",
     "output_type": "stream",
     "text": [
      "418. SWKS 주식의 일별 가격 정보가 'SWKS_daily_prices.csv' 파일에 저장되었습니다.\n",
      "Downloading data for SJM\n"
     ]
    },
    {
     "name": "stderr",
     "output_type": "stream",
     "text": [
      "[*********************100%***********************]  1 of 1 completed\n"
     ]
    },
    {
     "name": "stdout",
     "output_type": "stream",
     "text": [
      "419. SJM 주식의 일별 가격 정보가 'SJM_daily_prices.csv' 파일에 저장되었습니다.\n",
      "Downloading data for SW\n"
     ]
    },
    {
     "name": "stderr",
     "output_type": "stream",
     "text": [
      "[*********************100%***********************]  1 of 1 completed\n"
     ]
    },
    {
     "name": "stdout",
     "output_type": "stream",
     "text": [
      "420. SW 주식의 일별 가격 정보가 'SW_daily_prices.csv' 파일에 저장되었습니다.\n",
      "Downloading data for SNA\n"
     ]
    },
    {
     "name": "stderr",
     "output_type": "stream",
     "text": [
      "[*********************100%***********************]  1 of 1 completed\n"
     ]
    },
    {
     "name": "stdout",
     "output_type": "stream",
     "text": [
      "421. SNA 주식의 일별 가격 정보가 'SNA_daily_prices.csv' 파일에 저장되었습니다.\n",
      "Downloading data for SOLV\n"
     ]
    },
    {
     "name": "stderr",
     "output_type": "stream",
     "text": [
      "[*********************100%***********************]  1 of 1 completed\n"
     ]
    },
    {
     "name": "stdout",
     "output_type": "stream",
     "text": [
      "422. SOLV 주식의 일별 가격 정보가 'SOLV_daily_prices.csv' 파일에 저장되었습니다.\n",
      "Downloading data for SO\n"
     ]
    },
    {
     "name": "stderr",
     "output_type": "stream",
     "text": [
      "[*********************100%***********************]  1 of 1 completed\n"
     ]
    },
    {
     "name": "stdout",
     "output_type": "stream",
     "text": [
      "423. SO 주식의 일별 가격 정보가 'SO_daily_prices.csv' 파일에 저장되었습니다.\n",
      "Downloading data for LUV\n"
     ]
    },
    {
     "name": "stderr",
     "output_type": "stream",
     "text": [
      "[*********************100%***********************]  1 of 1 completed\n"
     ]
    },
    {
     "name": "stdout",
     "output_type": "stream",
     "text": [
      "424. LUV 주식의 일별 가격 정보가 'LUV_daily_prices.csv' 파일에 저장되었습니다.\n",
      "Downloading data for SWK\n"
     ]
    },
    {
     "name": "stderr",
     "output_type": "stream",
     "text": [
      "[*********************100%***********************]  1 of 1 completed\n"
     ]
    },
    {
     "name": "stdout",
     "output_type": "stream",
     "text": [
      "425. SWK 주식의 일별 가격 정보가 'SWK_daily_prices.csv' 파일에 저장되었습니다.\n",
      "Downloading data for SBUX\n"
     ]
    },
    {
     "name": "stderr",
     "output_type": "stream",
     "text": [
      "[*********************100%***********************]  1 of 1 completed\n"
     ]
    },
    {
     "name": "stdout",
     "output_type": "stream",
     "text": [
      "426. SBUX 주식의 일별 가격 정보가 'SBUX_daily_prices.csv' 파일에 저장되었습니다.\n",
      "Downloading data for STT\n"
     ]
    },
    {
     "name": "stderr",
     "output_type": "stream",
     "text": [
      "[*********************100%***********************]  1 of 1 completed\n"
     ]
    },
    {
     "name": "stdout",
     "output_type": "stream",
     "text": [
      "427. STT 주식의 일별 가격 정보가 'STT_daily_prices.csv' 파일에 저장되었습니다.\n",
      "Downloading data for STLD\n"
     ]
    },
    {
     "name": "stderr",
     "output_type": "stream",
     "text": [
      "[*********************100%***********************]  1 of 1 completed\n"
     ]
    },
    {
     "name": "stdout",
     "output_type": "stream",
     "text": [
      "428. STLD 주식의 일별 가격 정보가 'STLD_daily_prices.csv' 파일에 저장되었습니다.\n",
      "Downloading data for STE\n"
     ]
    },
    {
     "name": "stderr",
     "output_type": "stream",
     "text": [
      "[*********************100%***********************]  1 of 1 completed\n"
     ]
    },
    {
     "name": "stdout",
     "output_type": "stream",
     "text": [
      "429. STE 주식의 일별 가격 정보가 'STE_daily_prices.csv' 파일에 저장되었습니다.\n",
      "Downloading data for SYK\n"
     ]
    },
    {
     "name": "stderr",
     "output_type": "stream",
     "text": [
      "[*********************100%***********************]  1 of 1 completed\n"
     ]
    },
    {
     "name": "stdout",
     "output_type": "stream",
     "text": [
      "430. SYK 주식의 일별 가격 정보가 'SYK_daily_prices.csv' 파일에 저장되었습니다.\n",
      "Downloading data for SMCI\n"
     ]
    },
    {
     "name": "stderr",
     "output_type": "stream",
     "text": [
      "[*********************100%***********************]  1 of 1 completed\n"
     ]
    },
    {
     "name": "stdout",
     "output_type": "stream",
     "text": [
      "431. SMCI 주식의 일별 가격 정보가 'SMCI_daily_prices.csv' 파일에 저장되었습니다.\n",
      "Downloading data for SYF\n"
     ]
    },
    {
     "name": "stderr",
     "output_type": "stream",
     "text": [
      "[*********************100%***********************]  1 of 1 completed\n"
     ]
    },
    {
     "name": "stdout",
     "output_type": "stream",
     "text": [
      "432. SYF 주식의 일별 가격 정보가 'SYF_daily_prices.csv' 파일에 저장되었습니다.\n",
      "Downloading data for SNPS\n"
     ]
    },
    {
     "name": "stderr",
     "output_type": "stream",
     "text": [
      "[*********************100%***********************]  1 of 1 completed\n"
     ]
    },
    {
     "name": "stdout",
     "output_type": "stream",
     "text": [
      "433. SNPS 주식의 일별 가격 정보가 'SNPS_daily_prices.csv' 파일에 저장되었습니다.\n",
      "Downloading data for SYY\n"
     ]
    },
    {
     "name": "stderr",
     "output_type": "stream",
     "text": [
      "[*********************100%***********************]  1 of 1 completed\n"
     ]
    },
    {
     "name": "stdout",
     "output_type": "stream",
     "text": [
      "434. SYY 주식의 일별 가격 정보가 'SYY_daily_prices.csv' 파일에 저장되었습니다.\n",
      "Downloading data for TMUS\n"
     ]
    },
    {
     "name": "stderr",
     "output_type": "stream",
     "text": [
      "[*********************100%***********************]  1 of 1 completed\n"
     ]
    },
    {
     "name": "stdout",
     "output_type": "stream",
     "text": [
      "435. TMUS 주식의 일별 가격 정보가 'TMUS_daily_prices.csv' 파일에 저장되었습니다.\n",
      "Downloading data for TROW\n"
     ]
    },
    {
     "name": "stderr",
     "output_type": "stream",
     "text": [
      "[*********************100%***********************]  1 of 1 completed\n"
     ]
    },
    {
     "name": "stdout",
     "output_type": "stream",
     "text": [
      "436. TROW 주식의 일별 가격 정보가 'TROW_daily_prices.csv' 파일에 저장되었습니다.\n",
      "Downloading data for TTWO\n"
     ]
    },
    {
     "name": "stderr",
     "output_type": "stream",
     "text": [
      "[*********************100%***********************]  1 of 1 completed\n"
     ]
    },
    {
     "name": "stdout",
     "output_type": "stream",
     "text": [
      "437. TTWO 주식의 일별 가격 정보가 'TTWO_daily_prices.csv' 파일에 저장되었습니다.\n",
      "Downloading data for TPR\n"
     ]
    },
    {
     "name": "stderr",
     "output_type": "stream",
     "text": [
      "[*********************100%***********************]  1 of 1 completed\n"
     ]
    },
    {
     "name": "stdout",
     "output_type": "stream",
     "text": [
      "438. TPR 주식의 일별 가격 정보가 'TPR_daily_prices.csv' 파일에 저장되었습니다.\n",
      "Downloading data for TRGP\n"
     ]
    },
    {
     "name": "stderr",
     "output_type": "stream",
     "text": [
      "[*********************100%***********************]  1 of 1 completed\n"
     ]
    },
    {
     "name": "stdout",
     "output_type": "stream",
     "text": [
      "439. TRGP 주식의 일별 가격 정보가 'TRGP_daily_prices.csv' 파일에 저장되었습니다.\n",
      "Downloading data for TGT\n"
     ]
    },
    {
     "name": "stderr",
     "output_type": "stream",
     "text": [
      "[*********************100%***********************]  1 of 1 completed\n"
     ]
    },
    {
     "name": "stdout",
     "output_type": "stream",
     "text": [
      "440. TGT 주식의 일별 가격 정보가 'TGT_daily_prices.csv' 파일에 저장되었습니다.\n",
      "Downloading data for TEL\n"
     ]
    },
    {
     "name": "stderr",
     "output_type": "stream",
     "text": [
      "[*********************100%***********************]  1 of 1 completed\n"
     ]
    },
    {
     "name": "stdout",
     "output_type": "stream",
     "text": [
      "441. TEL 주식의 일별 가격 정보가 'TEL_daily_prices.csv' 파일에 저장되었습니다.\n",
      "Downloading data for TDY\n"
     ]
    },
    {
     "name": "stderr",
     "output_type": "stream",
     "text": [
      "[*********************100%***********************]  1 of 1 completed\n"
     ]
    },
    {
     "name": "stdout",
     "output_type": "stream",
     "text": [
      "442. TDY 주식의 일별 가격 정보가 'TDY_daily_prices.csv' 파일에 저장되었습니다.\n",
      "Downloading data for TFX\n"
     ]
    },
    {
     "name": "stderr",
     "output_type": "stream",
     "text": [
      "[*********************100%***********************]  1 of 1 completed\n"
     ]
    },
    {
     "name": "stdout",
     "output_type": "stream",
     "text": [
      "443. TFX 주식의 일별 가격 정보가 'TFX_daily_prices.csv' 파일에 저장되었습니다.\n",
      "Downloading data for TER\n"
     ]
    },
    {
     "name": "stderr",
     "output_type": "stream",
     "text": [
      "[*********************100%***********************]  1 of 1 completed\n"
     ]
    },
    {
     "name": "stdout",
     "output_type": "stream",
     "text": [
      "444. TER 주식의 일별 가격 정보가 'TER_daily_prices.csv' 파일에 저장되었습니다.\n",
      "Downloading data for TSLA\n"
     ]
    },
    {
     "name": "stderr",
     "output_type": "stream",
     "text": [
      "[*********************100%***********************]  1 of 1 completed\n"
     ]
    },
    {
     "name": "stdout",
     "output_type": "stream",
     "text": [
      "445. TSLA 주식의 일별 가격 정보가 'TSLA_daily_prices.csv' 파일에 저장되었습니다.\n",
      "Downloading data for TXN\n"
     ]
    },
    {
     "name": "stderr",
     "output_type": "stream",
     "text": [
      "[*********************100%***********************]  1 of 1 completed\n"
     ]
    },
    {
     "name": "stdout",
     "output_type": "stream",
     "text": [
      "446. TXN 주식의 일별 가격 정보가 'TXN_daily_prices.csv' 파일에 저장되었습니다.\n",
      "Downloading data for TXT\n"
     ]
    },
    {
     "name": "stderr",
     "output_type": "stream",
     "text": [
      "[*********************100%***********************]  1 of 1 completed\n"
     ]
    },
    {
     "name": "stdout",
     "output_type": "stream",
     "text": [
      "447. TXT 주식의 일별 가격 정보가 'TXT_daily_prices.csv' 파일에 저장되었습니다.\n",
      "Downloading data for TMO\n"
     ]
    },
    {
     "name": "stderr",
     "output_type": "stream",
     "text": [
      "[*********************100%***********************]  1 of 1 completed\n"
     ]
    },
    {
     "name": "stdout",
     "output_type": "stream",
     "text": [
      "448. TMO 주식의 일별 가격 정보가 'TMO_daily_prices.csv' 파일에 저장되었습니다.\n",
      "Downloading data for TJX\n"
     ]
    },
    {
     "name": "stderr",
     "output_type": "stream",
     "text": [
      "[*********************100%***********************]  1 of 1 completed\n"
     ]
    },
    {
     "name": "stdout",
     "output_type": "stream",
     "text": [
      "449. TJX 주식의 일별 가격 정보가 'TJX_daily_prices.csv' 파일에 저장되었습니다.\n",
      "Downloading data for TSCO\n"
     ]
    },
    {
     "name": "stderr",
     "output_type": "stream",
     "text": [
      "[*********************100%***********************]  1 of 1 completed\n"
     ]
    },
    {
     "name": "stdout",
     "output_type": "stream",
     "text": [
      "450. TSCO 주식의 일별 가격 정보가 'TSCO_daily_prices.csv' 파일에 저장되었습니다.\n",
      "Downloading data for TT\n"
     ]
    },
    {
     "name": "stderr",
     "output_type": "stream",
     "text": [
      "[*********************100%***********************]  1 of 1 completed\n"
     ]
    },
    {
     "name": "stdout",
     "output_type": "stream",
     "text": [
      "451. TT 주식의 일별 가격 정보가 'TT_daily_prices.csv' 파일에 저장되었습니다.\n",
      "Downloading data for TDG\n"
     ]
    },
    {
     "name": "stderr",
     "output_type": "stream",
     "text": [
      "[*********************100%***********************]  1 of 1 completed\n"
     ]
    },
    {
     "name": "stdout",
     "output_type": "stream",
     "text": [
      "452. TDG 주식의 일별 가격 정보가 'TDG_daily_prices.csv' 파일에 저장되었습니다.\n",
      "Downloading data for TRV\n"
     ]
    },
    {
     "name": "stderr",
     "output_type": "stream",
     "text": [
      "[*********************100%***********************]  1 of 1 completed\n"
     ]
    },
    {
     "name": "stdout",
     "output_type": "stream",
     "text": [
      "453. TRV 주식의 일별 가격 정보가 'TRV_daily_prices.csv' 파일에 저장되었습니다.\n",
      "Downloading data for TRMB\n"
     ]
    },
    {
     "name": "stderr",
     "output_type": "stream",
     "text": [
      "[*********************100%***********************]  1 of 1 completed\n"
     ]
    },
    {
     "name": "stdout",
     "output_type": "stream",
     "text": [
      "454. TRMB 주식의 일별 가격 정보가 'TRMB_daily_prices.csv' 파일에 저장되었습니다.\n",
      "Downloading data for TFC\n"
     ]
    },
    {
     "name": "stderr",
     "output_type": "stream",
     "text": [
      "[*********************100%***********************]  1 of 1 completed\n"
     ]
    },
    {
     "name": "stdout",
     "output_type": "stream",
     "text": [
      "455. TFC 주식의 일별 가격 정보가 'TFC_daily_prices.csv' 파일에 저장되었습니다.\n",
      "Downloading data for TYL\n"
     ]
    },
    {
     "name": "stderr",
     "output_type": "stream",
     "text": [
      "[*********************100%***********************]  1 of 1 completed\n"
     ]
    },
    {
     "name": "stdout",
     "output_type": "stream",
     "text": [
      "456. TYL 주식의 일별 가격 정보가 'TYL_daily_prices.csv' 파일에 저장되었습니다.\n",
      "Downloading data for TSN\n"
     ]
    },
    {
     "name": "stderr",
     "output_type": "stream",
     "text": [
      "[*********************100%***********************]  1 of 1 completed\n"
     ]
    },
    {
     "name": "stdout",
     "output_type": "stream",
     "text": [
      "457. TSN 주식의 일별 가격 정보가 'TSN_daily_prices.csv' 파일에 저장되었습니다.\n",
      "Downloading data for USB\n"
     ]
    },
    {
     "name": "stderr",
     "output_type": "stream",
     "text": [
      "[*********************100%***********************]  1 of 1 completed\n"
     ]
    },
    {
     "name": "stdout",
     "output_type": "stream",
     "text": [
      "458. USB 주식의 일별 가격 정보가 'USB_daily_prices.csv' 파일에 저장되었습니다.\n",
      "Downloading data for UBER\n"
     ]
    },
    {
     "name": "stderr",
     "output_type": "stream",
     "text": [
      "[*********************100%***********************]  1 of 1 completed\n"
     ]
    },
    {
     "name": "stdout",
     "output_type": "stream",
     "text": [
      "459. UBER 주식의 일별 가격 정보가 'UBER_daily_prices.csv' 파일에 저장되었습니다.\n",
      "Downloading data for UDR\n"
     ]
    },
    {
     "name": "stderr",
     "output_type": "stream",
     "text": [
      "[*********************100%***********************]  1 of 1 completed\n"
     ]
    },
    {
     "name": "stdout",
     "output_type": "stream",
     "text": [
      "460. UDR 주식의 일별 가격 정보가 'UDR_daily_prices.csv' 파일에 저장되었습니다.\n",
      "Downloading data for ULTA\n"
     ]
    },
    {
     "name": "stderr",
     "output_type": "stream",
     "text": [
      "[*********************100%***********************]  1 of 1 completed\n"
     ]
    },
    {
     "name": "stdout",
     "output_type": "stream",
     "text": [
      "461. ULTA 주식의 일별 가격 정보가 'ULTA_daily_prices.csv' 파일에 저장되었습니다.\n",
      "Downloading data for UNP\n"
     ]
    },
    {
     "name": "stderr",
     "output_type": "stream",
     "text": [
      "[*********************100%***********************]  1 of 1 completed\n"
     ]
    },
    {
     "name": "stdout",
     "output_type": "stream",
     "text": [
      "462. UNP 주식의 일별 가격 정보가 'UNP_daily_prices.csv' 파일에 저장되었습니다.\n",
      "Downloading data for UAL\n"
     ]
    },
    {
     "name": "stderr",
     "output_type": "stream",
     "text": [
      "[*********************100%***********************]  1 of 1 completed\n"
     ]
    },
    {
     "name": "stdout",
     "output_type": "stream",
     "text": [
      "463. UAL 주식의 일별 가격 정보가 'UAL_daily_prices.csv' 파일에 저장되었습니다.\n",
      "Downloading data for UPS\n"
     ]
    },
    {
     "name": "stderr",
     "output_type": "stream",
     "text": [
      "[*********************100%***********************]  1 of 1 completed\n"
     ]
    },
    {
     "name": "stdout",
     "output_type": "stream",
     "text": [
      "464. UPS 주식의 일별 가격 정보가 'UPS_daily_prices.csv' 파일에 저장되었습니다.\n",
      "Downloading data for URI\n"
     ]
    },
    {
     "name": "stderr",
     "output_type": "stream",
     "text": [
      "[*********************100%***********************]  1 of 1 completed\n"
     ]
    },
    {
     "name": "stdout",
     "output_type": "stream",
     "text": [
      "465. URI 주식의 일별 가격 정보가 'URI_daily_prices.csv' 파일에 저장되었습니다.\n",
      "Downloading data for UNH\n"
     ]
    },
    {
     "name": "stderr",
     "output_type": "stream",
     "text": [
      "[*********************100%***********************]  1 of 1 completed\n"
     ]
    },
    {
     "name": "stdout",
     "output_type": "stream",
     "text": [
      "466. UNH 주식의 일별 가격 정보가 'UNH_daily_prices.csv' 파일에 저장되었습니다.\n",
      "Downloading data for UHS\n"
     ]
    },
    {
     "name": "stderr",
     "output_type": "stream",
     "text": [
      "[*********************100%***********************]  1 of 1 completed\n"
     ]
    },
    {
     "name": "stdout",
     "output_type": "stream",
     "text": [
      "467. UHS 주식의 일별 가격 정보가 'UHS_daily_prices.csv' 파일에 저장되었습니다.\n",
      "Downloading data for VLO\n"
     ]
    },
    {
     "name": "stderr",
     "output_type": "stream",
     "text": [
      "[*********************100%***********************]  1 of 1 completed\n"
     ]
    },
    {
     "name": "stdout",
     "output_type": "stream",
     "text": [
      "468. VLO 주식의 일별 가격 정보가 'VLO_daily_prices.csv' 파일에 저장되었습니다.\n",
      "Downloading data for VTR\n"
     ]
    },
    {
     "name": "stderr",
     "output_type": "stream",
     "text": [
      "[*********************100%***********************]  1 of 1 completed\n"
     ]
    },
    {
     "name": "stdout",
     "output_type": "stream",
     "text": [
      "469. VTR 주식의 일별 가격 정보가 'VTR_daily_prices.csv' 파일에 저장되었습니다.\n",
      "Downloading data for VLTO\n"
     ]
    },
    {
     "name": "stderr",
     "output_type": "stream",
     "text": [
      "[*********************100%***********************]  1 of 1 completed\n"
     ]
    },
    {
     "name": "stdout",
     "output_type": "stream",
     "text": [
      "470. VLTO 주식의 일별 가격 정보가 'VLTO_daily_prices.csv' 파일에 저장되었습니다.\n",
      "Downloading data for VRSN\n"
     ]
    },
    {
     "name": "stderr",
     "output_type": "stream",
     "text": [
      "[*********************100%***********************]  1 of 1 completed\n"
     ]
    },
    {
     "name": "stdout",
     "output_type": "stream",
     "text": [
      "471. VRSN 주식의 일별 가격 정보가 'VRSN_daily_prices.csv' 파일에 저장되었습니다.\n",
      "Downloading data for VRSK\n"
     ]
    },
    {
     "name": "stderr",
     "output_type": "stream",
     "text": [
      "[*********************100%***********************]  1 of 1 completed\n"
     ]
    },
    {
     "name": "stdout",
     "output_type": "stream",
     "text": [
      "472. VRSK 주식의 일별 가격 정보가 'VRSK_daily_prices.csv' 파일에 저장되었습니다.\n",
      "Downloading data for VZ\n"
     ]
    },
    {
     "name": "stderr",
     "output_type": "stream",
     "text": [
      "[*********************100%***********************]  1 of 1 completed\n"
     ]
    },
    {
     "name": "stdout",
     "output_type": "stream",
     "text": [
      "473. VZ 주식의 일별 가격 정보가 'VZ_daily_prices.csv' 파일에 저장되었습니다.\n",
      "Downloading data for VRTX\n"
     ]
    },
    {
     "name": "stderr",
     "output_type": "stream",
     "text": [
      "[*********************100%***********************]  1 of 1 completed\n"
     ]
    },
    {
     "name": "stdout",
     "output_type": "stream",
     "text": [
      "474. VRTX 주식의 일별 가격 정보가 'VRTX_daily_prices.csv' 파일에 저장되었습니다.\n",
      "Downloading data for VTRS\n"
     ]
    },
    {
     "name": "stderr",
     "output_type": "stream",
     "text": [
      "[*********************100%***********************]  1 of 1 completed\n"
     ]
    },
    {
     "name": "stdout",
     "output_type": "stream",
     "text": [
      "475. VTRS 주식의 일별 가격 정보가 'VTRS_daily_prices.csv' 파일에 저장되었습니다.\n",
      "Downloading data for VICI\n"
     ]
    },
    {
     "name": "stderr",
     "output_type": "stream",
     "text": [
      "[*********************100%***********************]  1 of 1 completed\n"
     ]
    },
    {
     "name": "stdout",
     "output_type": "stream",
     "text": [
      "476. VICI 주식의 일별 가격 정보가 'VICI_daily_prices.csv' 파일에 저장되었습니다.\n",
      "Downloading data for V\n"
     ]
    },
    {
     "name": "stderr",
     "output_type": "stream",
     "text": [
      "[*********************100%***********************]  1 of 1 completed\n"
     ]
    },
    {
     "name": "stdout",
     "output_type": "stream",
     "text": [
      "477. V 주식의 일별 가격 정보가 'V_daily_prices.csv' 파일에 저장되었습니다.\n",
      "Downloading data for VST\n"
     ]
    },
    {
     "name": "stderr",
     "output_type": "stream",
     "text": [
      "[*********************100%***********************]  1 of 1 completed\n"
     ]
    },
    {
     "name": "stdout",
     "output_type": "stream",
     "text": [
      "478. VST 주식의 일별 가격 정보가 'VST_daily_prices.csv' 파일에 저장되었습니다.\n",
      "Downloading data for VMC\n"
     ]
    },
    {
     "name": "stderr",
     "output_type": "stream",
     "text": [
      "[*********************100%***********************]  1 of 1 completed\n"
     ]
    },
    {
     "name": "stdout",
     "output_type": "stream",
     "text": [
      "479. VMC 주식의 일별 가격 정보가 'VMC_daily_prices.csv' 파일에 저장되었습니다.\n",
      "Downloading data for WRB\n"
     ]
    },
    {
     "name": "stderr",
     "output_type": "stream",
     "text": [
      "[*********************100%***********************]  1 of 1 completed\n"
     ]
    },
    {
     "name": "stdout",
     "output_type": "stream",
     "text": [
      "480. WRB 주식의 일별 가격 정보가 'WRB_daily_prices.csv' 파일에 저장되었습니다.\n",
      "Downloading data for GWW\n"
     ]
    },
    {
     "name": "stderr",
     "output_type": "stream",
     "text": [
      "[*********************100%***********************]  1 of 1 completed\n"
     ]
    },
    {
     "name": "stdout",
     "output_type": "stream",
     "text": [
      "481. GWW 주식의 일별 가격 정보가 'GWW_daily_prices.csv' 파일에 저장되었습니다.\n",
      "Downloading data for WAB\n"
     ]
    },
    {
     "name": "stderr",
     "output_type": "stream",
     "text": [
      "[*********************100%***********************]  1 of 1 completed\n"
     ]
    },
    {
     "name": "stdout",
     "output_type": "stream",
     "text": [
      "482. WAB 주식의 일별 가격 정보가 'WAB_daily_prices.csv' 파일에 저장되었습니다.\n",
      "Downloading data for WBA\n"
     ]
    },
    {
     "name": "stderr",
     "output_type": "stream",
     "text": [
      "[*********************100%***********************]  1 of 1 completed\n"
     ]
    },
    {
     "name": "stdout",
     "output_type": "stream",
     "text": [
      "483. WBA 주식의 일별 가격 정보가 'WBA_daily_prices.csv' 파일에 저장되었습니다.\n",
      "Downloading data for WMT\n"
     ]
    },
    {
     "name": "stderr",
     "output_type": "stream",
     "text": [
      "[*********************100%***********************]  1 of 1 completed\n"
     ]
    },
    {
     "name": "stdout",
     "output_type": "stream",
     "text": [
      "484. WMT 주식의 일별 가격 정보가 'WMT_daily_prices.csv' 파일에 저장되었습니다.\n",
      "Downloading data for DIS\n"
     ]
    },
    {
     "name": "stderr",
     "output_type": "stream",
     "text": [
      "[*********************100%***********************]  1 of 1 completed\n"
     ]
    },
    {
     "name": "stdout",
     "output_type": "stream",
     "text": [
      "485. DIS 주식의 일별 가격 정보가 'DIS_daily_prices.csv' 파일에 저장되었습니다.\n",
      "Downloading data for WBD\n"
     ]
    },
    {
     "name": "stderr",
     "output_type": "stream",
     "text": [
      "[*********************100%***********************]  1 of 1 completed\n"
     ]
    },
    {
     "name": "stdout",
     "output_type": "stream",
     "text": [
      "486. WBD 주식의 일별 가격 정보가 'WBD_daily_prices.csv' 파일에 저장되었습니다.\n",
      "Downloading data for WM\n"
     ]
    },
    {
     "name": "stderr",
     "output_type": "stream",
     "text": [
      "[*********************100%***********************]  1 of 1 completed\n"
     ]
    },
    {
     "name": "stdout",
     "output_type": "stream",
     "text": [
      "487. WM 주식의 일별 가격 정보가 'WM_daily_prices.csv' 파일에 저장되었습니다.\n",
      "Downloading data for WAT\n"
     ]
    },
    {
     "name": "stderr",
     "output_type": "stream",
     "text": [
      "[*********************100%***********************]  1 of 1 completed\n"
     ]
    },
    {
     "name": "stdout",
     "output_type": "stream",
     "text": [
      "488. WAT 주식의 일별 가격 정보가 'WAT_daily_prices.csv' 파일에 저장되었습니다.\n",
      "Downloading data for WEC\n"
     ]
    },
    {
     "name": "stderr",
     "output_type": "stream",
     "text": [
      "[*********************100%***********************]  1 of 1 completed\n"
     ]
    },
    {
     "name": "stdout",
     "output_type": "stream",
     "text": [
      "489. WEC 주식의 일별 가격 정보가 'WEC_daily_prices.csv' 파일에 저장되었습니다.\n",
      "Downloading data for WFC\n"
     ]
    },
    {
     "name": "stderr",
     "output_type": "stream",
     "text": [
      "[*********************100%***********************]  1 of 1 completed\n"
     ]
    },
    {
     "name": "stdout",
     "output_type": "stream",
     "text": [
      "490. WFC 주식의 일별 가격 정보가 'WFC_daily_prices.csv' 파일에 저장되었습니다.\n",
      "Downloading data for WELL\n"
     ]
    },
    {
     "name": "stderr",
     "output_type": "stream",
     "text": [
      "[*********************100%***********************]  1 of 1 completed\n"
     ]
    },
    {
     "name": "stdout",
     "output_type": "stream",
     "text": [
      "491. WELL 주식의 일별 가격 정보가 'WELL_daily_prices.csv' 파일에 저장되었습니다.\n",
      "Downloading data for WST\n"
     ]
    },
    {
     "name": "stderr",
     "output_type": "stream",
     "text": [
      "[*********************100%***********************]  1 of 1 completed\n"
     ]
    },
    {
     "name": "stdout",
     "output_type": "stream",
     "text": [
      "492. WST 주식의 일별 가격 정보가 'WST_daily_prices.csv' 파일에 저장되었습니다.\n",
      "Downloading data for WDC\n"
     ]
    },
    {
     "name": "stderr",
     "output_type": "stream",
     "text": [
      "[*********************100%***********************]  1 of 1 completed\n"
     ]
    },
    {
     "name": "stdout",
     "output_type": "stream",
     "text": [
      "493. WDC 주식의 일별 가격 정보가 'WDC_daily_prices.csv' 파일에 저장되었습니다.\n",
      "Downloading data for WY\n"
     ]
    },
    {
     "name": "stderr",
     "output_type": "stream",
     "text": [
      "[*********************100%***********************]  1 of 1 completed\n"
     ]
    },
    {
     "name": "stdout",
     "output_type": "stream",
     "text": [
      "494. WY 주식의 일별 가격 정보가 'WY_daily_prices.csv' 파일에 저장되었습니다.\n",
      "Downloading data for WMB\n"
     ]
    },
    {
     "name": "stderr",
     "output_type": "stream",
     "text": [
      "[*********************100%***********************]  1 of 1 completed\n"
     ]
    },
    {
     "name": "stdout",
     "output_type": "stream",
     "text": [
      "495. WMB 주식의 일별 가격 정보가 'WMB_daily_prices.csv' 파일에 저장되었습니다.\n",
      "Downloading data for WTW\n"
     ]
    },
    {
     "name": "stderr",
     "output_type": "stream",
     "text": [
      "[*********************100%***********************]  1 of 1 completed\n"
     ]
    },
    {
     "name": "stdout",
     "output_type": "stream",
     "text": [
      "496. WTW 주식의 일별 가격 정보가 'WTW_daily_prices.csv' 파일에 저장되었습니다.\n",
      "Downloading data for WYNN\n"
     ]
    },
    {
     "name": "stderr",
     "output_type": "stream",
     "text": [
      "[*********************100%***********************]  1 of 1 completed\n"
     ]
    },
    {
     "name": "stdout",
     "output_type": "stream",
     "text": [
      "497. WYNN 주식의 일별 가격 정보가 'WYNN_daily_prices.csv' 파일에 저장되었습니다.\n",
      "Downloading data for XEL\n"
     ]
    },
    {
     "name": "stderr",
     "output_type": "stream",
     "text": [
      "[*********************100%***********************]  1 of 1 completed\n"
     ]
    },
    {
     "name": "stdout",
     "output_type": "stream",
     "text": [
      "498. XEL 주식의 일별 가격 정보가 'XEL_daily_prices.csv' 파일에 저장되었습니다.\n",
      "Downloading data for XYL\n"
     ]
    },
    {
     "name": "stderr",
     "output_type": "stream",
     "text": [
      "[*********************100%***********************]  1 of 1 completed\n"
     ]
    },
    {
     "name": "stdout",
     "output_type": "stream",
     "text": [
      "499. XYL 주식의 일별 가격 정보가 'XYL_daily_prices.csv' 파일에 저장되었습니다.\n",
      "Downloading data for YUM\n"
     ]
    },
    {
     "name": "stderr",
     "output_type": "stream",
     "text": [
      "[*********************100%***********************]  1 of 1 completed\n"
     ]
    },
    {
     "name": "stdout",
     "output_type": "stream",
     "text": [
      "500. YUM 주식의 일별 가격 정보가 'YUM_daily_prices.csv' 파일에 저장되었습니다.\n",
      "Downloading data for ZBRA\n"
     ]
    },
    {
     "name": "stderr",
     "output_type": "stream",
     "text": [
      "[*********************100%***********************]  1 of 1 completed\n"
     ]
    },
    {
     "name": "stdout",
     "output_type": "stream",
     "text": [
      "501. ZBRA 주식의 일별 가격 정보가 'ZBRA_daily_prices.csv' 파일에 저장되었습니다.\n",
      "Downloading data for ZBH\n"
     ]
    },
    {
     "name": "stderr",
     "output_type": "stream",
     "text": [
      "[*********************100%***********************]  1 of 1 completed\n"
     ]
    },
    {
     "name": "stdout",
     "output_type": "stream",
     "text": [
      "502. ZBH 주식의 일별 가격 정보가 'ZBH_daily_prices.csv' 파일에 저장되었습니다.\n",
      "Downloading data for ZTS\n"
     ]
    },
    {
     "name": "stderr",
     "output_type": "stream",
     "text": [
      "[*********************100%***********************]  1 of 1 completed"
     ]
    },
    {
     "name": "stdout",
     "output_type": "stream",
     "text": [
      "503. ZTS 주식의 일별 가격 정보가 'ZTS_daily_prices.csv' 파일에 저장되었습니다.\n",
      "모든 S&P 500 종목의 일별 가격 정보가 개별 CSV 파일에 저장되었습니다.\n"
     ]
    },
    {
     "name": "stderr",
     "output_type": "stream",
     "text": [
      "\n"
     ]
    }
   ],
   "source": [
    "# 각 종목의 일별 가격 정보를 개별 CSV 파일로 저장\n",
    "i=0\n",
    "for symbol in sp500_symbols:\n",
    "    i=i+1\n",
    "    print(f\"Downloading data for {symbol}\")\n",
    "    data = yf.download(symbol, period=\"max\")\n",
    "    data.to_csv(f'/home/ec2-user/SageMaker/DATA_SP500/{symbol}.csv')\n",
    "    print(f\"{i}. {symbol} 주식의 일별 가격 정보가 '{symbol}_daily_prices.csv' 파일에 저장되었습니다.\")\n",
    "\n",
    "print(\"모든 S&P 500 종목의 일별 가격 정보가 개별 CSV 파일에 저장되었습니다.\")"
   ]
  }
 ],
 "metadata": {
  "kernelspec": {
   "display_name": "Custom (custom_python)",
   "language": "python",
   "name": "custom_python"
  },
  "language_info": {
   "codemirror_mode": {
    "name": "ipython",
    "version": 3
   },
   "file_extension": ".py",
   "mimetype": "text/x-python",
   "name": "python",
   "nbconvert_exporter": "python",
   "pygments_lexer": "ipython3",
   "version": "3.10.6"
  }
 },
 "nbformat": 4,
 "nbformat_minor": 5
}
