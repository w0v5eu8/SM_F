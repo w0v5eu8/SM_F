{
 "cells": [
  {
   "cell_type": "code",
   "execution_count": null,
   "id": "fa51b205-c5c3-4700-8666-4cf8bc7e6b84",
   "metadata": {
    "tags": []
   },
   "outputs": [],
   "source": [
    "conda install --yes -c conda-forge ta-lib"
   ]
  },
  {
   "cell_type": "code",
   "execution_count": null,
   "id": "bed3429d-b4a9-4337-8100-ba3b2b2f45d9",
   "metadata": {
    "tags": []
   },
   "outputs": [],
   "source": [
    "conda install --yes -c ranaroussi yfinance"
   ]
  },
  {
   "cell_type": "code",
   "execution_count": 3,
   "id": "154dd255-b0aa-4375-a4bd-61c130bff46b",
   "metadata": {
    "tags": []
   },
   "outputs": [
    {
     "name": "stdout",
     "output_type": "stream",
     "text": [
      "Collecting package metadata: done\n",
      "Solving environment: done\n",
      "\n",
      "# All requested packages already installed.\n",
      "\n",
      "\n",
      "Note: you may need to restart the kernel to use updated packages.\n"
     ]
    }
   ],
   "source": [
    "conda install --yes -c conda-forge pandas"
   ]
  },
  {
   "cell_type": "code",
   "execution_count": null,
   "id": "4a421ca6-9a42-416f-a826-1fbc78efa2cd",
   "metadata": {},
   "outputs": [],
   "source": []
  }
 ],
 "metadata": {
  "kernelspec": {
   "display_name": "Custom (custom_python)",
   "language": "python",
   "name": "custom_python"
  },
  "language_info": {
   "codemirror_mode": {
    "name": "ipython",
    "version": 3
   },
   "file_extension": ".py",
   "mimetype": "text/x-python",
   "name": "python",
   "nbconvert_exporter": "python",
   "pygments_lexer": "ipython3",
   "version": "3.6.15"
  }
 },
 "nbformat": 4,
 "nbformat_minor": 5
}
