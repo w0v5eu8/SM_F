{
 "cells": [
  {
   "cell_type": "markdown",
   "id": "575a20f4-fb25-48e9-9b38-f30e87f0981b",
   "metadata": {},
   "source": [
    "persistent-conda-ebs:\n",
    "https://github.com/aws-samples/amazon-sagemaker-notebook-instance-lifecycle-config-samples/tree/master/scripts/persistent-conda-ebs\n",
    "\n",
    "SageMaker Notebook Instance 수명 주기 구성 생성을 위 스크립트로 설정을 하고 인스턴스 실행 후 pip install로 패키지 설치시 하면 \n",
    "/home/ec2-user/SageMaker/custom-miniconda/miniconda/envs/INSTANCE_NAME/lib/python3.7/site-packages\n",
    "에 패키지가 영구 설치 됨."
   ]
  }
 ],
 "metadata": {
  "kernelspec": {
   "display_name": "Custom (4nrnd-wveu)",
   "language": "python",
   "name": "4nrnd-wveu"
  },
  "language_info": {
   "codemirror_mode": {
    "name": "ipython",
    "version": 3
   },
   "file_extension": ".py",
   "mimetype": "text/x-python",
   "name": "python",
   "nbconvert_exporter": "python",
   "pygments_lexer": "ipython3",
   "version": "3.7.12"
  }
 },
 "nbformat": 4,
 "nbformat_minor": 5
}
