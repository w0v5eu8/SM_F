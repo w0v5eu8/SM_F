{
 "cells": [
  {
   "cell_type": "code",
   "execution_count": null,
   "id": "98952d43-6fb2-4d85-b70c-a87e1bbc8c7e",
   "metadata": {
    "tags": []
   },
   "outputs": [],
   "source": [
    "import yfinance as yf\n",
    "import pandas as pd\n",
    "import talib\n",
    "\n",
    "print(pd.__version__)\n",
    "\n",
    "# S&P 500 종목 리스트와 심볼 가져오기\n",
    "sp500 = pd.read_html('https://en.wikipedia.org/wiki/List_of_S%26P_500_companies')[0]\n",
    "\n",
    "# 심볼과 회사 이름을 각각 변수에 저장\n",
    "sp500_symbols = sp500['Symbol'].tolist()\n",
    "sp500_companies = sp500['Security'].tolist()\n",
    "\n",
    "# 결과 확인\n",
    "# print(sp500_symbols)\n",
    "# print(sp500_companies)"
   ]
  },
  {
   "cell_type": "code",
   "execution_count": null,
   "id": "8f102d33-e291-4b99-9618-856b04ccb3ea",
   "metadata": {
    "tags": []
   },
   "outputs": [],
   "source": [
    "# 각 종목의 일별 가격 정보를 개별 CSV 파일로 저장\n",
    "i=0\n",
    "for symbol in sp500_symbols:\n",
    "    i=i+1\n",
    "    print(f\"Downloading data for {symbol}\")\n",
    "    data = yf.download(symbol, period=\"max\")\n",
    "    data.to_csv(f'{symbol}.csv')\n",
    "    print(f\"{i}. {symbol} 주식의 일별 가격 정보가 '{symbol}_daily_prices.csv' 파일에 저장되었습니다.\")\n",
    "\n",
    "print(\"모든 S&P 500 종목의 일별 가격 정보가 개별 CSV 파일에 저장되었습니다.\")"
   ]
  }
 ],
 "metadata": {
  "kernelspec": {
   "display_name": "Custom (custom_python)",
   "language": "python",
   "name": "custom_python"
  },
  "language_info": {
   "codemirror_mode": {
    "name": "ipython",
    "version": 3
   },
   "file_extension": ".py",
   "mimetype": "text/x-python",
   "name": "python",
   "nbconvert_exporter": "python",
   "pygments_lexer": "ipython3",
   "version": "3.6.15"
  }
 },
 "nbformat": 4,
 "nbformat_minor": 5
}
