{
 "cells": [
  {
   "cell_type": "code",
   "execution_count": null,
   "id": "154dd255-b0aa-4375-a4bd-61c130bff46b",
   "metadata": {
    "tags": []
   },
   "outputs": [
    {
     "name": "stdout",
     "output_type": "stream",
     "text": [
      "Retrieving notices: ...working... done\n",
      "Channels:\n",
      " - conda-forge\n",
      " - nvidia\n",
      " - pytorch\n",
      " - ranaroussi\n",
      "Platform: linux-64\n",
      "Collecting package metadata (repodata.json): done\n",
      "Solving environment: | "
     ]
    }
   ],
   "source": [
    "conda install --yes -c conda-forge pandas"
   ]
  },
  {
   "cell_type": "code",
   "execution_count": null,
   "id": "bed3429d-b4a9-4337-8100-ba3b2b2f45d9",
   "metadata": {
    "tags": []
   },
   "outputs": [],
   "source": [
    "conda install --yes -c ranaroussi yfinance"
   ]
  },
  {
   "cell_type": "code",
   "execution_count": null,
   "id": "fa51b205-c5c3-4700-8666-4cf8bc7e6b84",
   "metadata": {
    "tags": []
   },
   "outputs": [],
   "source": [
    "conda install --yes -c conda-forge ta-lib"
   ]
  }
 ],
 "metadata": {
  "kernelspec": {
   "display_name": "Custom (custom_python)",
   "language": "python",
   "name": "custom_python"
  },
  "language_info": {
   "codemirror_mode": {
    "name": "ipython",
    "version": 3
   },
   "file_extension": ".py",
   "mimetype": "text/x-python",
   "name": "python",
   "nbconvert_exporter": "python",
   "pygments_lexer": "ipython3",
   "version": "3.10.6"
  }
 },
 "nbformat": 4,
 "nbformat_minor": 5
}
