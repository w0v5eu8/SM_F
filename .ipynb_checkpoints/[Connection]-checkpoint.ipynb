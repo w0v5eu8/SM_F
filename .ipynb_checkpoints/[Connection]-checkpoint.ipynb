{
 "cells": [
  {
   "cell_type": "code",
   "execution_count": 1,
   "id": "323ba387-a47e-4e76-9b81-04227be308e6",
   "metadata": {
    "tags": []
   },
   "outputs": [
    {
     "name": "stdout",
     "output_type": "stream",
     "text": [
      "cp: cannot create regular file ‘/home/ec2-user/.ssh/id_rsa’: Permission denied\n",
      "# github.com:22 SSH-2.0-babeld-ceb3dcb73\n",
      "Hi w0v5eu8! You've successfully authenticated, but GitHub does not provide shell access.\n"
     ]
    }
   ],
   "source": [
    "!mkdir -p ~/.ssh/\n",
    "!cp /home/ec2-user/SageMaker/id_rsa ~/.ssh/\n",
    "!chmod 400 ~/.ssh/id_rsa\n",
    "!ssh-keyscan -t rsa github.com >> ~/.ssh/known_hosts\n",
    "!ssh -T git@github.com"
   ]
  },
  {
   "cell_type": "code",
   "execution_count": 2,
   "id": "d1fe503c-886a-498b-bd2a-a978bb19a0f7",
   "metadata": {
    "tags": []
   },
   "outputs": [],
   "source": [
    "!git config --local user.email 'w0v5eu8@gmail.com'\n",
    "!git config --local user.name 'w0v5eu8'"
   ]
  }
 ],
 "metadata": {
  "kernelspec": {
   "display_name": "Custom (4nrnd-wveu)",
   "language": "python",
   "name": "4nrnd-wveu"
  },
  "language_info": {
   "codemirror_mode": {
    "name": "ipython",
    "version": 3
   },
   "file_extension": ".py",
   "mimetype": "text/x-python",
   "name": "python",
   "nbconvert_exporter": "python",
   "pygments_lexer": "ipython3",
   "version": "3.7.12"
  }
 },
 "nbformat": 4,
 "nbformat_minor": 5
}
